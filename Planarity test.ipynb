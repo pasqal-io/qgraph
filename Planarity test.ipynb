{
 "cells": [
  {
   "cell_type": "code",
   "execution_count": 1,
   "id": "8c7f9703",
   "metadata": {},
   "outputs": [],
   "source": [
    "%load_ext autoreload\n",
    "%autoreload 2"
   ]
  },
  {
   "cell_type": "code",
   "execution_count": 59,
   "id": "aed291e3",
   "metadata": {},
   "outputs": [],
   "source": [
    "import planarity\n",
    "from qplanarity import load_planar_graphs, generate_graphs, observable, get_trained_model, predict, analyse_pred\n",
    "from tqdm.notebook import tqdm\n",
    "from operator import itemgetter\n",
    "from utils import Memoizer\n",
    "import pandas as pd"
   ]
  },
  {
   "cell_type": "markdown",
   "id": "3b795fdf",
   "metadata": {},
   "source": [
    "## Planarity module"
   ]
  },
  {
   "cell_type": "code",
   "execution_count": 3,
   "id": "6d619274",
   "metadata": {},
   "outputs": [
    {
     "name": "stdout",
     "output_type": "stream",
     "text": [
      "False\n",
      "True\n",
      "----1----\n",
      "| | |   |\n",
      "| | -2--|\n",
      "| |  ||||\n",
      "| -5--|||\n",
      "|  |  |||\n",
      "---4---||\n",
      " |     ||\n",
      " ---3----\n",
      "         \n",
      "\n"
     ]
    }
   ],
   "source": [
    "# Example of the complete graph of 5 nodes, K5\n",
    "# K5 is not planar\n",
    "edgelist = [('a', 'b'), ('a', 'c'), ('a', 'd'), ('a', 'e'),\n",
    "            ('b', 'c'),('b', 'd'),('b', 'e'),\n",
    "            ('c', 'd'), ('c', 'e'),\n",
    "            ('d', 'e')]\n",
    "\n",
    "print(planarity.is_planar(edgelist))\n",
    "\n",
    "# remove an edge to make the graph planar\n",
    "edgelist.remove(('a','b'))\n",
    "print(planarity.is_planar(edgelist))\n",
    "\n",
    "# make an ascii text drawing\n",
    "print(planarity.ascii(edgelist))"
   ]
  },
  {
   "cell_type": "markdown",
   "id": "f7af5e3a",
   "metadata": {},
   "source": [
    "## Planar graphs"
   ]
  },
  {
   "cell_type": "code",
   "execution_count": 4,
   "id": "a5e53dc7",
   "metadata": {},
   "outputs": [
    {
     "name": "stdout",
     "output_type": "stream",
     "text": [
      "646\n",
      "CPU times: user 15.8 ms, sys: 1.94 ms, total: 17.7 ms\n",
      "Wall time: 19.3 ms\n"
     ]
    },
    {
     "data": {
      "text/plain": [
       "[(0, 6), (1, 6), (2, 6), (3, 6), (4, 6), (5, 6)]"
      ]
     },
     "execution_count": 4,
     "metadata": {},
     "output_type": "execute_result"
    }
   ],
   "source": [
    "%%time\n",
    "n = 7 # 9 takes 2s already\n",
    "graphs = load_planar_graphs(n)\n",
    "print(len(graphs))\n",
    "sorted(graphs[0].edges())"
   ]
  },
  {
   "cell_type": "code",
   "execution_count": 5,
   "id": "d1236c15",
   "metadata": {},
   "outputs": [
    {
     "data": {
      "application/vnd.jupyter.widget-view+json": {
       "model_id": "ec3db4f71c7a48d28e68c53bc9110b96",
       "version_major": 2,
       "version_minor": 0
      },
      "text/plain": [
       "  0%|          | 0/646 [00:00<?, ?it/s]"
      ]
     },
     "metadata": {},
     "output_type": "display_data"
    },
    {
     "name": "stdout",
     "output_type": "stream",
     "text": [
      "CPU times: user 31.3 ms, sys: 22.6 ms, total: 53.9 ms\n",
      "Wall time: 79.5 ms\n"
     ]
    }
   ],
   "source": [
    "%%time\n",
    "planars = 0\n",
    "for graph in tqdm(graphs):\n",
    "    planars += planarity.is_planar(graph)\n",
    "assert planars == len(graphs)"
   ]
  },
  {
   "cell_type": "markdown",
   "id": "2d4ae82d",
   "metadata": {},
   "source": [
    "## Tests for development of key getter function for Memoizer"
   ]
  },
  {
   "cell_type": "code",
   "execution_count": 6,
   "id": "8fc7ba1e",
   "metadata": {},
   "outputs": [
    {
     "data": {
      "text/plain": [
       "(((0, 6), (1, 6), (2, 6), (3, 6), (4, 5), (4, 6), (5, 6)),\n",
       " ((0, 6), (1, 6), (2, 6), (3, 6), (4, 5), (4, 6), (5, 6)))"
      ]
     },
     "execution_count": 6,
     "metadata": {},
     "output_type": "execute_result"
    }
   ],
   "source": [
    "edges = list(map(sorted, graphs[1].edges()))\n",
    "k1, k2 = tuple(map(tuple, sorted(edges, key=itemgetter(0,1)))), tuple(graphs[1].edges())\n",
    "d = {}\n",
    "d[k1] = 'test'  # can be used as key\n",
    "k1, k2"
   ]
  },
  {
   "cell_type": "markdown",
   "id": "1e4dbfac",
   "metadata": {},
   "source": [
    "## Graph generator"
   ]
  },
  {
   "cell_type": "code",
   "execution_count": 7,
   "id": "aeee94c4",
   "metadata": {},
   "outputs": [],
   "source": [
    "import numpy as np\n",
    "from tqdm.notebook import trange\n",
    "import matplotlib.pyplot as plt\n",
    "\n",
    "from utils import return_list_of_states, return_energy_distribution, return_js_matrix, return_js_dist_matrix, entropy, merge_energies\n",
    "from qutip import mcsolve, sesolve, sigmaz, sigmap, qeye, tensor, Options, expect, sigmam\n",
    "from data_preprocessing import load_dataset\n",
    "import pickle\n",
    "import networkx as nx\n",
    "import grakel\n",
    "from time import time\n",
    "\n",
    "from sklearn.model_selection import StratifiedKFold, RepeatedStratifiedKFold\n",
    "from sklearn import svm\n",
    "from sklearn.metrics import accuracy_score, f1_score, make_scorer, confusion_matrix\n",
    "from sklearn.model_selection import GridSearchCV\n",
    "from skopt import gp_minimize"
   ]
  },
  {
   "cell_type": "code",
   "execution_count": 8,
   "id": "042f87c6",
   "metadata": {},
   "outputs": [
    {
     "data": {
      "application/vnd.jupyter.widget-view+json": {
       "model_id": "04b3eaf8f121459d9ee7531a94e05c54",
       "version_major": 2,
       "version_minor": 0
      },
      "text/plain": [
       "0it [00:00, ?it/s]"
      ]
     },
     "metadata": {},
     "output_type": "display_data"
    },
    {
     "name": "stdout",
     "output_type": "stream",
     "text": [
      "Generated graphs with   3 nodes are at 100.0% planar in average\n",
      "Generated graphs with   4 nodes are at 100.0% planar in average\n",
      "Generated graphs with   5 nodes are at  72.0% planar in average\n",
      "Generated graphs with   6 nodes are at  64.0% planar in average\n",
      "Generated graphs with   7 nodes are at  50.0% planar in average\n",
      "Generated graphs with   8 nodes are at  64.0% planar in average\n",
      "Generated graphs with   9 nodes are at  53.5% planar in average\n",
      "Generated graphs with  10 nodes are at  46.5% planar in average\n",
      "Generated graphs are at  61.4% planar in average\n"
     ]
    },
    {
     "data": {
      "text/plain": [
       "([<networkx.classes.graph.Graph at 0x10e0d4ee0>,\n",
       "  <networkx.classes.graph.Graph at 0x10e0d4370>,\n",
       "  <networkx.classes.graph.Graph at 0x10e0d4550>,\n",
       "  <networkx.classes.graph.Graph at 0x10e0d4a00>,\n",
       "  <networkx.classes.graph.Graph at 0x10e0d4be0>],\n",
       " [True, True, True, True, True])"
      ]
     },
     "execution_count": 8,
     "metadata": {},
     "output_type": "execute_result"
    }
   ],
   "source": [
    "np.random.seed(21)\n",
    "graphs, targets = generate_graphs(range(3, 11), 2 * [50] + 3 * [100] + 3 * [200], generator='binomial', verbose=True)\n",
    "graphs[:5], targets[:5]"
   ]
  },
  {
   "cell_type": "code",
   "execution_count": 9,
   "id": "30a8948f",
   "metadata": {},
   "outputs": [],
   "source": [
    "# graphs, targets = generate_graphs(7, 18)\n",
    "# graphs[:5], targets[:5]"
   ]
  },
  {
   "cell_type": "code",
   "execution_count": 10,
   "id": "382888ec",
   "metadata": {},
   "outputs": [
    {
     "data": {
      "image/png": "[encoded data removed]",
      "text/plain": [
       "<Figure size 864x432 with 2 Axes>"
      ]
     },
     "metadata": {},
     "output_type": "display_data"
    }
   ],
   "source": [
    "plt.figure(figsize=[12,6])\n",
    "plt.subplot(121)\n",
    "i_planar = targets.index(1)\n",
    "nx.draw(graphs[i_planar], with_labels=True)\n",
    "plt.title(f\"Graph {i_planar} (planar)\", fontsize='xx-large')\n",
    "plt.subplot(122)\n",
    "i_non_planar = targets.index(0)\n",
    "nx.draw(graphs[i_non_planar], with_labels=True)\n",
    "plt.title(f\"Graph {i_non_planar} (non-planar)\", fontsize='xx-large')\n",
    "plt.show()"
   ]
  },
  {
   "cell_type": "code",
   "execution_count": 11,
   "id": "25ff0e80",
   "metadata": {},
   "outputs": [
    {
     "data": {
      "text/plain": [
       "EdgeView([(0, 1)])"
      ]
     },
     "execution_count": 11,
     "metadata": {},
     "output_type": "execute_result"
    }
   ],
   "source": [
    "graphs[1].edges"
   ]
  },
  {
   "cell_type": "markdown",
   "id": "2196e141",
   "metadata": {},
   "source": [
    "## Generate the hamiltonian evolutions"
   ]
  },
  {
   "cell_type": "markdown",
   "id": "c84e2b0e",
   "metadata": {},
   "source": [
    "We describe here how to perform a graph classification for specific values of times and pulses for a 2 layers ising evolution."
   ]
  },
  {
   "cell_type": "markdown",
   "id": "b954c525",
   "metadata": {},
   "source": [
    "Generate the final states of all graphs "
   ]
  },
  {
   "cell_type": "code",
   "execution_count": 12,
   "id": "30e3f4a7",
   "metadata": {},
   "outputs": [
    {
     "data": {
      "application/vnd.jupyter.widget-view+json": {
       "model_id": "d476eb469e5c4b97ae60104956ee3375",
       "version_major": 2,
       "version_minor": 0
      },
      "text/plain": [
       "  0%|          | 0/1000 [00:00<?, ?it/s]"
      ]
     },
     "metadata": {},
     "output_type": "display_data"
    }
   ],
   "source": [
    "times = [2.1, 1.6]\n",
    "pulses = [0.2, 0.1]\n",
    "\n",
    "states = return_list_of_states(graphs, times, pulses, evol='ising', verbose=True)"
   ]
  },
  {
   "cell_type": "markdown",
   "id": "ac7425c7",
   "metadata": {},
   "source": [
    "Plot some final states after evolution"
   ]
  },
  {
   "cell_type": "code",
   "execution_count": 13,
   "id": "7736ff9d",
   "metadata": {},
   "outputs": [
    {
     "data": {
      "image/png": "[encoded data removed]",
      "text/plain": [
       "<Figure size 1152x432 with 2 Axes>"
      ]
     },
     "metadata": {
      "needs_background": "light"
     },
     "output_type": "display_data"
    }
   ],
   "source": [
    "plt.figure(figsize=[16,6])\n",
    "plt.subplot(121)\n",
    "prob = np.abs(states[0].data.toarray())**2\n",
    "plt.plot(prob)\n",
    "plt.yscale('log')\n",
    "plt.xlabel('State', fontsize='x-large')\n",
    "plt.ylabel('Probability', fontsize='x-large')\n",
    "plt.title(\"Graph 0\", fontsize='xx-large')\n",
    "plt.subplot(122)\n",
    "prob = np.abs(states[-1].data.toarray())**2\n",
    "plt.plot(prob)\n",
    "plt.yscale('log')\n",
    "plt.xlabel('State', fontsize='x-large')\n",
    "plt.ylabel('Probability', fontsize='x-large')\n",
    "plt.title(\"Last graph\", fontsize='xx-large')\n",
    "plt.show()"
   ]
  },
  {
   "cell_type": "markdown",
   "id": "97bf6679",
   "metadata": {},
   "source": [
    "Compute the probability distribution of the Ising observable from each state."
   ]
  },
  {
   "cell_type": "code",
   "execution_count": 14,
   "id": "cbafbe04",
   "metadata": {},
   "outputs": [],
   "source": [
    "observables_memoizer = Memoizer(observable)"
   ]
  },
  {
   "cell_type": "markdown",
   "id": "600d49cc",
   "metadata": {},
   "source": [
    "Compute the probability distribution and the distance matrix"
   ]
  },
  {
   "cell_type": "code",
   "execution_count": 15,
   "id": "cc8261af",
   "metadata": {},
   "outputs": [
    {
     "data": {
      "application/vnd.jupyter.widget-view+json": {
       "model_id": "81e17e804f2246ca900ac6c68642d681",
       "version_major": 2,
       "version_minor": 0
      },
      "text/plain": [
       "  0%|          | 0/1000 [00:00<?, ?it/s]"
      ]
     },
     "metadata": {},
     "output_type": "display_data"
    }
   ],
   "source": [
    "energies_masses, energies = return_energy_distribution(graphs, states, observables_memoizer.get_observable, verbose=True, return_energies=True)\n",
    "matrix = return_js_matrix(energies_masses)"
   ]
  },
  {
   "cell_type": "markdown",
   "id": "9b45dc18",
   "metadata": {},
   "source": [
    "Fit the model"
   ]
  },
  {
   "cell_type": "code",
   "execution_count": 16,
   "id": "f8c65a52",
   "metadata": {},
   "outputs": [
    {
     "name": "stderr",
     "output_type": "stream",
     "text": [
      "/Users/romainfouilland/.pyenv/versions/3.8.3/lib/python3.8/site-packages/sklearn/utils/validation.py:70: FutureWarning: Pass n_splits=10, n_repeats=10 as keyword args. From version 1.0 (renaming of 0.25) passing these as positional arguments will result in an error\n",
      "  warnings.warn(f\"Pass {args_msg} as keyword args. From version \"\n"
     ]
    },
    {
     "name": "stdout",
     "output_type": "stream",
     "text": [
      "Accuracy:  0.9975 ± 0.005722761571129804\n"
     ]
    }
   ],
   "source": [
    "K = np.exp(-matrix)\n",
    "C_list = np.logspace(-3, 3, 7)\n",
    "\n",
    "param_grid = {'C': C_list}\n",
    "scoring = {'accuracy': make_scorer(accuracy_score),\n",
    "            'f1_score': make_scorer(f1_score, average='weighted')\n",
    "            }\n",
    "\n",
    "skf = RepeatedStratifiedKFold(10, 10, random_state=47)\n",
    "\n",
    "estimator = svm.SVC(kernel='precomputed', random_state=76)\n",
    "\n",
    "grid_search = GridSearchCV(estimator, param_grid, scoring=scoring,\n",
    "                                cv=skf, refit='accuracy', n_jobs=-1)\n",
    "result = grid_search.fit(K, targets).cv_results_\n",
    "\n",
    "i_best = np.argmax(result['mean_test_accuracy'])\n",
    "print('Accuracy: ', result['mean_test_accuracy'][i_best], '±', result['std_test_accuracy'][i_best])\n"
   ]
  },
  {
   "cell_type": "code",
   "execution_count": 17,
   "id": "04f88d3e",
   "metadata": {},
   "outputs": [
    {
     "data": {
      "text/plain": [
       "5"
      ]
     },
     "execution_count": 17,
     "metadata": {},
     "output_type": "execute_result"
    },
    {
     "data": {
      "image/png": "[encoded data removed]",
      "text/plain": [
       "<Figure size 432x288 with 1 Axes>"
      ]
     },
     "metadata": {
      "needs_background": "light"
     },
     "output_type": "display_data"
    }
   ],
   "source": [
    "plt.plot(result['mean_test_accuracy'])\n",
    "i_best"
   ]
  },
  {
   "cell_type": "markdown",
   "id": "f28390ec",
   "metadata": {},
   "source": [
    "## Investigate generalisation capabilities"
   ]
  },
  {
   "cell_type": "code",
   "execution_count": 18,
   "id": "55c41c98",
   "metadata": {},
   "outputs": [],
   "source": [
    "def tester(model, graphs, targets, energies_masses, energies):  \n",
    "    times = [2.1, 1.6]\n",
    "    pulses = [0.2, 0.1]\n",
    "\n",
    "    states = return_list_of_states(graphs, times, pulses, evol='ising', verbose=1)\n",
    "    _energies_masses, _energies = return_energy_distribution(graphs, states, observables_memoizer.get_observable, return_energies=True, verbose=True)\n",
    "    print(energies_masses.shape, _energies_masses.shape)\n",
    "    energies_masses, _energies_masses = merge_energies(energies_masses, energies, _energies_masses, _energies)\n",
    "    print(energies_masses.shape, _energies_masses.shape)\n",
    "    print(energies.shape, _energies.shape)\n",
    "    print(energies)\n",
    "    # Should build correct test kernel | Ref.: https://stats.stackexchange.com/a/96881\n",
    "    matrix = return_js_dist_matrix(_energies_masses, energies_masses, verbose=True)\n",
    "    K = np.exp(-matrix)\n",
    "\n",
    "    return model.predict(K), targets, model.score(K, targets)"
   ]
  },
  {
   "cell_type": "code",
   "execution_count": 19,
   "id": "57ddebaf",
   "metadata": {},
   "outputs": [
    {
     "data": {
      "text/plain": [
       "(array([[0., 1., 2.],\n",
       "        [0., 1., 2.]]),\n",
       " array([[-1.,  0.,  0.],\n",
       "        [-1.,  0.,  0.]]))"
      ]
     },
     "execution_count": 19,
     "metadata": {},
     "output_type": "execute_result"
    }
   ],
   "source": [
    "merge_energies(np.array([[1, 2], [1, 2]]), [1, 2], np.array([[-1], [-1]]), [-1])"
   ]
  },
  {
   "cell_type": "code",
   "execution_count": 20,
   "id": "4263cd87",
   "metadata": {},
   "outputs": [
    {
     "data": {
      "application/vnd.jupyter.widget-view+json": {
       "model_id": "7d84b1771d284429b20fc5dd5df5a9ec",
       "version_major": 2,
       "version_minor": 0
      },
      "text/plain": [
       "  0%|          | 0/1000 [00:00<?, ?it/s]"
      ]
     },
     "metadata": {},
     "output_type": "display_data"
    },
    {
     "data": {
      "application/vnd.jupyter.widget-view+json": {
       "model_id": "dfb33992a54c439aa4969a7aa30dfcc6",
       "version_major": 2,
       "version_minor": 0
      },
      "text/plain": [
       "  0%|          | 0/1000 [00:00<?, ?it/s]"
      ]
     },
     "metadata": {},
     "output_type": "display_data"
    },
    {
     "name": "stdout",
     "output_type": "stream",
     "text": [
      "(1000, 54) (1000, 54)\n",
      "(1000, 54) (1000, 54)\n",
      "(54,) (54,)\n",
      "[-12. -11. -10.  -9.  -8.  -7.  -6.  -5.  -4.  -3.  -2.  -1.   0.   1.\n",
      "   2.   3.   4.   5.   6.   7.   8.   9.  10.  11.  12.  13.  14.  15.\n",
      "  16.  17.  18.  19.  20.  21.  22.  23.  24.  25.  26.  27.  28.  29.\n",
      "  31.  32.  33.  34.  35.  36.  37.  38.  39.  43.  44.  45.]\n"
     ]
    },
    {
     "data": {
      "application/vnd.jupyter.widget-view+json": {
       "model_id": "03edfc6c02ff4cf8961d263f299855df",
       "version_major": 2,
       "version_minor": 0
      },
      "text/plain": [
       "dist1 loop:   0%|          | 0/1000 [00:00<?, ?it/s]"
      ]
     },
     "metadata": {},
     "output_type": "display_data"
    },
    {
     "data": {
      "text/plain": [
       "0.999"
      ]
     },
     "execution_count": 20,
     "metadata": {},
     "output_type": "execute_result"
    }
   ],
   "source": [
    "tester(grid_search, graphs, targets, energies_masses, energies)[2]"
   ]
  },
  {
   "cell_type": "code",
   "execution_count": 21,
   "id": "b1adb774",
   "metadata": {},
   "outputs": [
    {
     "data": {
      "text/plain": [
       "([<networkx.classes.graph.Graph at 0x166b3b490>,\n",
       "  <networkx.classes.graph.Graph at 0x166b3b2b0>,\n",
       "  <networkx.classes.graph.Graph at 0x166b3b760>,\n",
       "  <networkx.classes.graph.Graph at 0x166b3bee0>,\n",
       "  <networkx.classes.graph.Graph at 0x166b3bca0>],\n",
       " [False, False, False, False, True])"
      ]
     },
     "execution_count": 21,
     "metadata": {},
     "output_type": "execute_result"
    }
   ],
   "source": [
    "test_graphs, test_targets = generate_graphs([18], [10], generator='binomial')\n",
    "test_graphs[:5], test_targets[:5]"
   ]
  },
  {
   "cell_type": "code",
   "execution_count": 22,
   "id": "b27cf08a",
   "metadata": {},
   "outputs": [
    {
     "data": {
      "application/vnd.jupyter.widget-view+json": {
       "model_id": "09c4bdcb9d694d1ab007ab420bf596ca",
       "version_major": 2,
       "version_minor": 0
      },
      "text/plain": [
       "  0%|          | 0/10 [00:00<?, ?it/s]"
      ]
     },
     "metadata": {},
     "output_type": "display_data"
    },
    {
     "data": {
      "application/vnd.jupyter.widget-view+json": {
       "model_id": "73fb670b144a479fa5e1a38dcc467303",
       "version_major": 2,
       "version_minor": 0
      },
      "text/plain": [
       "  0%|          | 0/10 [00:00<?, ?it/s]"
      ]
     },
     "metadata": {},
     "output_type": "display_data"
    },
    {
     "name": "stdout",
     "output_type": "stream",
     "text": [
      "(1000, 54) (10, 106)\n",
      "(1000, 106) (10, 106)\n",
      "(54,) (106,)\n",
      "[-12. -11. -10.  -9.  -8.  -7.  -6.  -5.  -4.  -3.  -2.  -1.   0.   1.\n",
      "   2.   3.   4.   5.   6.   7.   8.   9.  10.  11.  12.  13.  14.  15.\n",
      "  16.  17.  18.  19.  20.  21.  22.  23.  24.  25.  26.  27.  28.  29.\n",
      "  31.  32.  33.  34.  35.  36.  37.  38.  39.  43.  44.  45.]\n"
     ]
    },
    {
     "data": {
      "application/vnd.jupyter.widget-view+json": {
       "model_id": "d4a09744198c417aa82f0ef717eab2f6",
       "version_major": 2,
       "version_minor": 0
      },
      "text/plain": [
       "dist1 loop:   0%|          | 0/10 [00:00<?, ?it/s]"
      ]
     },
     "metadata": {},
     "output_type": "display_data"
    },
    {
     "data": {
      "text/plain": [
       "1.0"
      ]
     },
     "execution_count": 22,
     "metadata": {},
     "output_type": "execute_result"
    }
   ],
   "source": [
    "tester(grid_search, test_graphs, test_targets, energies_masses, energies)[2]"
   ]
  },
  {
   "cell_type": "code",
   "execution_count": 23,
   "id": "6e5fd2c4",
   "metadata": {},
   "outputs": [
    {
     "data": {
      "application/vnd.jupyter.widget-view+json": {
       "model_id": "a5996affab8740a8872be8df7167a43c",
       "version_major": 2,
       "version_minor": 0
      },
      "text/plain": [
       "  0%|          | 0/1000 [00:00<?, ?it/s]"
      ]
     },
     "metadata": {},
     "output_type": "display_data"
    },
    {
     "data": {
      "application/vnd.jupyter.widget-view+json": {
       "model_id": "dce731f3bfa04c73bd9186ef91fbc661",
       "version_major": 2,
       "version_minor": 0
      },
      "text/plain": [
       "  0%|          | 0/1000 [00:00<?, ?it/s]"
      ]
     },
     "metadata": {},
     "output_type": "display_data"
    },
    {
     "name": "stdout",
     "output_type": "stream",
     "text": [
      "(1000, 54) (1000, 6)\n",
      "(1000, 54) (1000, 54)\n",
      "(54,) (6,)\n",
      "[-12. -11. -10.  -9.  -8.  -7.  -6.  -5.  -4.  -3.  -2.  -1.   0.   1.\n",
      "   2.   3.   4.   5.   6.   7.   8.   9.  10.  11.  12.  13.  14.  15.\n",
      "  16.  17.  18.  19.  20.  21.  22.  23.  24.  25.  26.  27.  28.  29.\n",
      "  31.  32.  33.  34.  35.  36.  37.  38.  39.  43.  44.  45.]\n"
     ]
    },
    {
     "data": {
      "application/vnd.jupyter.widget-view+json": {
       "model_id": "5cc3879c352e4172939ea1575c6b1ebd",
       "version_major": 2,
       "version_minor": 0
      },
      "text/plain": [
       "dist1 loop:   0%|          | 0/1000 [00:00<?, ?it/s]"
      ]
     },
     "metadata": {},
     "output_type": "display_data"
    },
    {
     "name": "stdout",
     "output_type": "stream",
     "text": [
      "[[1000]]\n",
      "\t### SCORE OF 1.0 FOR 3 NODES ###\n"
     ]
    },
    {
     "data": {
      "application/vnd.jupyter.widget-view+json": {
       "model_id": "98b4cb64d2d146a5bcccf869b2be6a9b",
       "version_major": 2,
       "version_minor": 0
      },
      "text/plain": [
       "  0%|          | 0/1000 [00:00<?, ?it/s]"
      ]
     },
     "metadata": {},
     "output_type": "display_data"
    },
    {
     "data": {
      "application/vnd.jupyter.widget-view+json": {
       "model_id": "5aa78a491dcd47e187954b0a7737adef",
       "version_major": 2,
       "version_minor": 0
      },
      "text/plain": [
       "  0%|          | 0/1000 [00:00<?, ?it/s]"
      ]
     },
     "metadata": {},
     "output_type": "display_data"
    },
    {
     "name": "stdout",
     "output_type": "stream",
     "text": [
      "(1000, 54) (1000, 10)\n",
      "(1000, 54) (1000, 54)\n",
      "(54,) (10,)\n",
      "[-12. -11. -10.  -9.  -8.  -7.  -6.  -5.  -4.  -3.  -2.  -1.   0.   1.\n",
      "   2.   3.   4.   5.   6.   7.   8.   9.  10.  11.  12.  13.  14.  15.\n",
      "  16.  17.  18.  19.  20.  21.  22.  23.  24.  25.  26.  27.  28.  29.\n",
      "  31.  32.  33.  34.  35.  36.  37.  38.  39.  43.  44.  45.]\n"
     ]
    },
    {
     "data": {
      "application/vnd.jupyter.widget-view+json": {
       "model_id": "fee50e516c474078bed91f0b19628bac",
       "version_major": 2,
       "version_minor": 0
      },
      "text/plain": [
       "dist1 loop:   0%|          | 0/1000 [00:00<?, ?it/s]"
      ]
     },
     "metadata": {},
     "output_type": "display_data"
    },
    {
     "name": "stdout",
     "output_type": "stream",
     "text": [
      "[[1000]]\n",
      "\t### SCORE OF 1.0 FOR 4 NODES ###\n"
     ]
    },
    {
     "data": {
      "application/vnd.jupyter.widget-view+json": {
       "model_id": "f6ef753f002d41a5b12361f69300abbc",
       "version_major": 2,
       "version_minor": 0
      },
      "text/plain": [
       "  0%|          | 0/1000 [00:00<?, ?it/s]"
      ]
     },
     "metadata": {},
     "output_type": "display_data"
    },
    {
     "data": {
      "application/vnd.jupyter.widget-view+json": {
       "model_id": "4c16106f02c34f73bcdbcbb0ff3d6cb2",
       "version_major": 2,
       "version_minor": 0
      },
      "text/plain": [
       "  0%|          | 0/1000 [00:00<?, ?it/s]"
      ]
     },
     "metadata": {},
     "output_type": "display_data"
    },
    {
     "name": "stdout",
     "output_type": "stream",
     "text": [
      "(1000, 54) (1000, 16)\n",
      "(1000, 54) (1000, 54)\n",
      "(54,) (16,)\n",
      "[-12. -11. -10.  -9.  -8.  -7.  -6.  -5.  -4.  -3.  -2.  -1.   0.   1.\n",
      "   2.   3.   4.   5.   6.   7.   8.   9.  10.  11.  12.  13.  14.  15.\n",
      "  16.  17.  18.  19.  20.  21.  22.  23.  24.  25.  26.  27.  28.  29.\n",
      "  31.  32.  33.  34.  35.  36.  37.  38.  39.  43.  44.  45.]\n"
     ]
    },
    {
     "data": {
      "application/vnd.jupyter.widget-view+json": {
       "model_id": "c84bcf98599d4feabaaa916e669930d4",
       "version_major": 2,
       "version_minor": 0
      },
      "text/plain": [
       "dist1 loop:   0%|          | 0/1000 [00:00<?, ?it/s]"
      ]
     },
     "metadata": {},
     "output_type": "display_data"
    },
    {
     "name": "stdout",
     "output_type": "stream",
     "text": [
      "[[220   0]\n",
      " [  0 780]]\n",
      "\t### SCORE OF 1.0 FOR 5 NODES ###\n"
     ]
    },
    {
     "data": {
      "application/vnd.jupyter.widget-view+json": {
       "model_id": "4cbceddc85574910931446fabeebb42a",
       "version_major": 2,
       "version_minor": 0
      },
      "text/plain": [
       "  0%|          | 0/1000 [00:00<?, ?it/s]"
      ]
     },
     "metadata": {},
     "output_type": "display_data"
    },
    {
     "data": {
      "application/vnd.jupyter.widget-view+json": {
       "model_id": "af64eacb838f4150b530d1467891bbdf",
       "version_major": 2,
       "version_minor": 0
      },
      "text/plain": [
       "  0%|          | 0/1000 [00:00<?, ?it/s]"
      ]
     },
     "metadata": {},
     "output_type": "display_data"
    },
    {
     "name": "stdout",
     "output_type": "stream",
     "text": [
      "(1000, 54) (1000, 22)\n",
      "(1000, 54) (1000, 54)\n",
      "(54,) (22,)\n",
      "[-12. -11. -10.  -9.  -8.  -7.  -6.  -5.  -4.  -3.  -2.  -1.   0.   1.\n",
      "   2.   3.   4.   5.   6.   7.   8.   9.  10.  11.  12.  13.  14.  15.\n",
      "  16.  17.  18.  19.  20.  21.  22.  23.  24.  25.  26.  27.  28.  29.\n",
      "  31.  32.  33.  34.  35.  36.  37.  38.  39.  43.  44.  45.]\n"
     ]
    },
    {
     "data": {
      "application/vnd.jupyter.widget-view+json": {
       "model_id": "60e382f0a20a4cc1bbf97fd8bc42efef",
       "version_major": 2,
       "version_minor": 0
      },
      "text/plain": [
       "dist1 loop:   0%|          | 0/1000 [00:00<?, ?it/s]"
      ]
     },
     "metadata": {},
     "output_type": "display_data"
    },
    {
     "name": "stdout",
     "output_type": "stream",
     "text": [
      "[[319   0]\n",
      " [  0 681]]\n",
      "\t### SCORE OF 1.0 FOR 6 NODES ###\n"
     ]
    },
    {
     "data": {
      "application/vnd.jupyter.widget-view+json": {
       "model_id": "50de3f3a0cd542acb80dad38634363eb",
       "version_major": 2,
       "version_minor": 0
      },
      "text/plain": [
       "  0%|          | 0/1000 [00:00<?, ?it/s]"
      ]
     },
     "metadata": {},
     "output_type": "display_data"
    },
    {
     "data": {
      "application/vnd.jupyter.widget-view+json": {
       "model_id": "18371660a2e043a6b9caf50354bf0848",
       "version_major": 2,
       "version_minor": 0
      },
      "text/plain": [
       "  0%|          | 0/1000 [00:00<?, ?it/s]"
      ]
     },
     "metadata": {},
     "output_type": "display_data"
    },
    {
     "name": "stdout",
     "output_type": "stream",
     "text": [
      "(1000, 54) (1000, 31)\n",
      "(1000, 54) (1000, 54)\n",
      "(54,) (31,)\n",
      "[-12. -11. -10.  -9.  -8.  -7.  -6.  -5.  -4.  -3.  -2.  -1.   0.   1.\n",
      "   2.   3.   4.   5.   6.   7.   8.   9.  10.  11.  12.  13.  14.  15.\n",
      "  16.  17.  18.  19.  20.  21.  22.  23.  24.  25.  26.  27.  28.  29.\n",
      "  31.  32.  33.  34.  35.  36.  37.  38.  39.  43.  44.  45.]\n"
     ]
    },
    {
     "data": {
      "application/vnd.jupyter.widget-view+json": {
       "model_id": "4a22654eb3ca4363a7ccbd77cc712aa4",
       "version_major": 2,
       "version_minor": 0
      },
      "text/plain": [
       "dist1 loop:   0%|          | 0/1000 [00:00<?, ?it/s]"
      ]
     },
     "metadata": {},
     "output_type": "display_data"
    },
    {
     "name": "stdout",
     "output_type": "stream",
     "text": [
      "[[488   5]\n",
      " [  0 507]]\n",
      "\t### SCORE OF 0.995 FOR 7 NODES ###\n"
     ]
    },
    {
     "data": {
      "application/vnd.jupyter.widget-view+json": {
       "model_id": "1b7fdbc14a154e3e9b12331759181266",
       "version_major": 2,
       "version_minor": 0
      },
      "text/plain": [
       "  0%|          | 0/1000 [00:00<?, ?it/s]"
      ]
     },
     "metadata": {},
     "output_type": "display_data"
    },
    {
     "data": {
      "application/vnd.jupyter.widget-view+json": {
       "model_id": "34f4a0e0aac4490191b6ea3a1bf431ab",
       "version_major": 2,
       "version_minor": 0
      },
      "text/plain": [
       "  0%|          | 0/1000 [00:00<?, ?it/s]"
      ]
     },
     "metadata": {},
     "output_type": "display_data"
    },
    {
     "name": "stdout",
     "output_type": "stream",
     "text": [
      "(1000, 54) (1000, 40)\n",
      "(1000, 54) (1000, 54)\n",
      "(54,) (40,)\n",
      "[-12. -11. -10.  -9.  -8.  -7.  -6.  -5.  -4.  -3.  -2.  -1.   0.   1.\n",
      "   2.   3.   4.   5.   6.   7.   8.   9.  10.  11.  12.  13.  14.  15.\n",
      "  16.  17.  18.  19.  20.  21.  22.  23.  24.  25.  26.  27.  28.  29.\n",
      "  31.  32.  33.  34.  35.  36.  37.  38.  39.  43.  44.  45.]\n"
     ]
    },
    {
     "data": {
      "application/vnd.jupyter.widget-view+json": {
       "model_id": "abe30b7c6d37414d9df262329cc8f6d1",
       "version_major": 2,
       "version_minor": 0
      },
      "text/plain": [
       "dist1 loop:   0%|          | 0/1000 [00:00<?, ?it/s]"
      ]
     },
     "metadata": {},
     "output_type": "display_data"
    },
    {
     "name": "stdout",
     "output_type": "stream",
     "text": [
      "[[439   6]\n",
      " [  0 555]]\n",
      "\t### SCORE OF 0.994 FOR 8 NODES ###\n"
     ]
    },
    {
     "data": {
      "application/vnd.jupyter.widget-view+json": {
       "model_id": "6476419362e14d898d0d8da21ab71433",
       "version_major": 2,
       "version_minor": 0
      },
      "text/plain": [
       "  0%|          | 0/1000 [00:00<?, ?it/s]"
      ]
     },
     "metadata": {},
     "output_type": "display_data"
    },
    {
     "data": {
      "application/vnd.jupyter.widget-view+json": {
       "model_id": "515dd5bca8794b32927d00c87dbfc55a",
       "version_major": 2,
       "version_minor": 0
      },
      "text/plain": [
       "  0%|          | 0/1000 [00:00<?, ?it/s]"
      ]
     },
     "metadata": {},
     "output_type": "display_data"
    },
    {
     "name": "stdout",
     "output_type": "stream",
     "text": [
      "(1000, 54) (1000, 47)\n",
      "(1000, 55) (1000, 55)\n",
      "(54,) (47,)\n",
      "[-12. -11. -10.  -9.  -8.  -7.  -6.  -5.  -4.  -3.  -2.  -1.   0.   1.\n",
      "   2.   3.   4.   5.   6.   7.   8.   9.  10.  11.  12.  13.  14.  15.\n",
      "  16.  17.  18.  19.  20.  21.  22.  23.  24.  25.  26.  27.  28.  29.\n",
      "  31.  32.  33.  34.  35.  36.  37.  38.  39.  43.  44.  45.]\n"
     ]
    },
    {
     "data": {
      "application/vnd.jupyter.widget-view+json": {
       "model_id": "21823eacb40a42e79c1fbc0371004a90",
       "version_major": 2,
       "version_minor": 0
      },
      "text/plain": [
       "dist1 loop:   0%|          | 0/1000 [00:00<?, ?it/s]"
      ]
     },
     "metadata": {},
     "output_type": "display_data"
    },
    {
     "name": "stdout",
     "output_type": "stream",
     "text": [
      "[[455   0]\n",
      " [  0 545]]\n",
      "\t### SCORE OF 1.0 FOR 9 NODES ###\n"
     ]
    },
    {
     "data": {
      "application/vnd.jupyter.widget-view+json": {
       "model_id": "806e40504422489a9793c0bb73d338c5",
       "version_major": 2,
       "version_minor": 0
      },
      "text/plain": [
       "  0%|          | 0/1000 [00:00<?, ?it/s]"
      ]
     },
     "metadata": {},
     "output_type": "display_data"
    },
    {
     "data": {
      "application/vnd.jupyter.widget-view+json": {
       "model_id": "d30dfdb2aafc47f8aa8b823a4503b016",
       "version_major": 2,
       "version_minor": 0
      },
      "text/plain": [
       "  0%|          | 0/1000 [00:00<?, ?it/s]"
      ]
     },
     "metadata": {},
     "output_type": "display_data"
    },
    {
     "name": "stdout",
     "output_type": "stream",
     "text": [
      "(1000, 54) (1000, 57)\n",
      "(1000, 58) (1000, 58)\n",
      "(54,) (57,)\n",
      "[-12. -11. -10.  -9.  -8.  -7.  -6.  -5.  -4.  -3.  -2.  -1.   0.   1.\n",
      "   2.   3.   4.   5.   6.   7.   8.   9.  10.  11.  12.  13.  14.  15.\n",
      "  16.  17.  18.  19.  20.  21.  22.  23.  24.  25.  26.  27.  28.  29.\n",
      "  31.  32.  33.  34.  35.  36.  37.  38.  39.  43.  44.  45.]\n"
     ]
    },
    {
     "data": {
      "application/vnd.jupyter.widget-view+json": {
       "model_id": "fb79a18fd6764eeeafb9d0c14a347d01",
       "version_major": 2,
       "version_minor": 0
      },
      "text/plain": [
       "dist1 loop:   0%|          | 0/1000 [00:00<?, ?it/s]"
      ]
     },
     "metadata": {},
     "output_type": "display_data"
    },
    {
     "name": "stdout",
     "output_type": "stream",
     "text": [
      "[[538   0]\n",
      " [  0 462]]\n",
      "\t### SCORE OF 1.0 FOR 10 NODES ###\n"
     ]
    },
    {
     "data": {
      "application/vnd.jupyter.widget-view+json": {
       "model_id": "5d400aad62e246e8a1e979cc460fc694",
       "version_major": 2,
       "version_minor": 0
      },
      "text/plain": [
       "  0%|          | 0/1000 [00:00<?, ?it/s]"
      ]
     },
     "metadata": {},
     "output_type": "display_data"
    },
    {
     "data": {
      "application/vnd.jupyter.widget-view+json": {
       "model_id": "bcc72fdfb3e5417d8203327cebad1122",
       "version_major": 2,
       "version_minor": 0
      },
      "text/plain": [
       "  0%|          | 0/1000 [00:00<?, ?it/s]"
      ]
     },
     "metadata": {},
     "output_type": "display_data"
    },
    {
     "name": "stdout",
     "output_type": "stream",
     "text": [
      "(1000, 54) (1000, 71)\n",
      "(1000, 71) (1000, 71)\n",
      "(54,) (71,)\n",
      "[-12. -11. -10.  -9.  -8.  -7.  -6.  -5.  -4.  -3.  -2.  -1.   0.   1.\n",
      "   2.   3.   4.   5.   6.   7.   8.   9.  10.  11.  12.  13.  14.  15.\n",
      "  16.  17.  18.  19.  20.  21.  22.  23.  24.  25.  26.  27.  28.  29.\n",
      "  31.  32.  33.  34.  35.  36.  37.  38.  39.  43.  44.  45.]\n"
     ]
    },
    {
     "data": {
      "application/vnd.jupyter.widget-view+json": {
       "model_id": "5023b564665a4aa5b6fd183865d8d930",
       "version_major": 2,
       "version_minor": 0
      },
      "text/plain": [
       "dist1 loop:   0%|          | 0/1000 [00:00<?, ?it/s]"
      ]
     },
     "metadata": {},
     "output_type": "display_data"
    },
    {
     "name": "stdout",
     "output_type": "stream",
     "text": [
      "[[560  10]\n",
      " [ 17 413]]\n",
      "\t### SCORE OF 0.973 FOR 11 NODES ###\n"
     ]
    },
    {
     "data": {
      "application/vnd.jupyter.widget-view+json": {
       "model_id": "630b7083c1e241c895b782ad01437e4c",
       "version_major": 2,
       "version_minor": 0
      },
      "text/plain": [
       "  0%|          | 0/1000 [00:00<?, ?it/s]"
      ]
     },
     "metadata": {},
     "output_type": "display_data"
    },
    {
     "data": {
      "application/vnd.jupyter.widget-view+json": {
       "model_id": "bf0faab6253a43a28e5f50e6fb3e0b84",
       "version_major": 2,
       "version_minor": 0
      },
      "text/plain": [
       "  0%|          | 0/1000 [00:00<?, ?it/s]"
      ]
     },
     "metadata": {},
     "output_type": "display_data"
    },
    {
     "name": "stdout",
     "output_type": "stream",
     "text": [
      "(1000, 54) (1000, 83)\n",
      "(1000, 83) (1000, 83)\n",
      "(54,) (83,)\n",
      "[-12. -11. -10.  -9.  -8.  -7.  -6.  -5.  -4.  -3.  -2.  -1.   0.   1.\n",
      "   2.   3.   4.   5.   6.   7.   8.   9.  10.  11.  12.  13.  14.  15.\n",
      "  16.  17.  18.  19.  20.  21.  22.  23.  24.  25.  26.  27.  28.  29.\n",
      "  31.  32.  33.  34.  35.  36.  37.  38.  39.  43.  44.  45.]\n"
     ]
    },
    {
     "data": {
      "application/vnd.jupyter.widget-view+json": {
       "model_id": "3b8de08edf414588a3e72e7b2040c5eb",
       "version_major": 2,
       "version_minor": 0
      },
      "text/plain": [
       "dist1 loop:   0%|          | 0/1000 [00:00<?, ?it/s]"
      ]
     },
     "metadata": {},
     "output_type": "display_data"
    },
    {
     "name": "stdout",
     "output_type": "stream",
     "text": [
      "[[595   0]\n",
      " [ 27 378]]\n",
      "\t### SCORE OF 0.973 FOR 12 NODES ###\n"
     ]
    },
    {
     "data": {
      "application/vnd.jupyter.widget-view+json": {
       "model_id": "09fd33a427484c61ae1f679d76c1b49e",
       "version_major": 2,
       "version_minor": 0
      },
      "text/plain": [
       "  0%|          | 0/1000 [00:00<?, ?it/s]"
      ]
     },
     "metadata": {},
     "output_type": "display_data"
    },
    {
     "data": {
      "application/vnd.jupyter.widget-view+json": {
       "model_id": "74f2a8aa95d149b4b9ada4cf95848de6",
       "version_major": 2,
       "version_minor": 0
      },
      "text/plain": [
       "  0%|          | 0/1000 [00:00<?, ?it/s]"
      ]
     },
     "metadata": {},
     "output_type": "display_data"
    },
    {
     "name": "stdout",
     "output_type": "stream",
     "text": [
      "(1000, 54) (1000, 97)\n",
      "(1000, 97) (1000, 97)\n",
      "(54,) (97,)\n",
      "[-12. -11. -10.  -9.  -8.  -7.  -6.  -5.  -4.  -3.  -2.  -1.   0.   1.\n",
      "   2.   3.   4.   5.   6.   7.   8.   9.  10.  11.  12.  13.  14.  15.\n",
      "  16.  17.  18.  19.  20.  21.  22.  23.  24.  25.  26.  27.  28.  29.\n",
      "  31.  32.  33.  34.  35.  36.  37.  38.  39.  43.  44.  45.]\n"
     ]
    },
    {
     "data": {
      "application/vnd.jupyter.widget-view+json": {
       "model_id": "86592138696243afbfcb5c7d8432d3e9",
       "version_major": 2,
       "version_minor": 0
      },
      "text/plain": [
       "dist1 loop:   0%|          | 0/1000 [00:00<?, ?it/s]"
      ]
     },
     "metadata": {},
     "output_type": "display_data"
    },
    {
     "name": "stdout",
     "output_type": "stream",
     "text": [
      "[[619   0]\n",
      " [ 63 318]]\n",
      "\t### SCORE OF 0.937 FOR 13 NODES ###\n"
     ]
    },
    {
     "data": {
      "application/vnd.jupyter.widget-view+json": {
       "model_id": "31990f19af5b4f578321bc48ab2e703c",
       "version_major": 2,
       "version_minor": 0
      },
      "text/plain": [
       "  0%|          | 0/1000 [00:00<?, ?it/s]"
      ]
     },
     "metadata": {},
     "output_type": "display_data"
    },
    {
     "data": {
      "application/vnd.jupyter.widget-view+json": {
       "model_id": "f2fd03b9b56342b08cd746d3b7f1bd28",
       "version_major": 2,
       "version_minor": 0
      },
      "text/plain": [
       "  0%|          | 0/1000 [00:00<?, ?it/s]"
      ]
     },
     "metadata": {},
     "output_type": "display_data"
    },
    {
     "name": "stdout",
     "output_type": "stream",
     "text": [
      "(1000, 54) (1000, 116)\n",
      "(1000, 116) (1000, 116)\n",
      "(54,) (116,)\n",
      "[-12. -11. -10.  -9.  -8.  -7.  -6.  -5.  -4.  -3.  -2.  -1.   0.   1.\n",
      "   2.   3.   4.   5.   6.   7.   8.   9.  10.  11.  12.  13.  14.  15.\n",
      "  16.  17.  18.  19.  20.  21.  22.  23.  24.  25.  26.  27.  28.  29.\n",
      "  31.  32.  33.  34.  35.  36.  37.  38.  39.  43.  44.  45.]\n"
     ]
    },
    {
     "data": {
      "application/vnd.jupyter.widget-view+json": {
       "model_id": "c61bbdb1bbf540a482ad6af332c5c4f7",
       "version_major": 2,
       "version_minor": 0
      },
      "text/plain": [
       "dist1 loop:   0%|          | 0/1000 [00:00<?, ?it/s]"
      ]
     },
     "metadata": {},
     "output_type": "display_data"
    },
    {
     "name": "stdout",
     "output_type": "stream",
     "text": [
      "[[679   7]\n",
      " [  0 314]]\n",
      "\t### SCORE OF 0.993 FOR 14 NODES ###\n"
     ]
    },
    {
     "data": {
      "application/vnd.jupyter.widget-view+json": {
       "model_id": "ea7921a203bd44eea12460b1256884f3",
       "version_major": 2,
       "version_minor": 0
      },
      "text/plain": [
       "  0%|          | 0/1000 [00:00<?, ?it/s]"
      ]
     },
     "metadata": {},
     "output_type": "display_data"
    },
    {
     "data": {
      "application/vnd.jupyter.widget-view+json": {
       "model_id": "c13aaff0b2d4489d869973555790e133",
       "version_major": 2,
       "version_minor": 0
      },
      "text/plain": [
       "  0%|          | 0/1000 [00:00<?, ?it/s]"
      ]
     },
     "metadata": {},
     "output_type": "display_data"
    },
    {
     "name": "stdout",
     "output_type": "stream",
     "text": [
      "(1000, 54) (1000, 127)\n",
      "(1000, 127) (1000, 127)\n",
      "(54,) (127,)\n",
      "[-12. -11. -10.  -9.  -8.  -7.  -6.  -5.  -4.  -3.  -2.  -1.   0.   1.\n",
      "   2.   3.   4.   5.   6.   7.   8.   9.  10.  11.  12.  13.  14.  15.\n",
      "  16.  17.  18.  19.  20.  21.  22.  23.  24.  25.  26.  27.  28.  29.\n",
      "  31.  32.  33.  34.  35.  36.  37.  38.  39.  43.  44.  45.]\n"
     ]
    },
    {
     "data": {
      "application/vnd.jupyter.widget-view+json": {
       "model_id": "c3bc81a0ff7d41a690f6ebeb039f238b",
       "version_major": 2,
       "version_minor": 0
      },
      "text/plain": [
       "dist1 loop:   0%|          | 0/1000 [00:00<?, ?it/s]"
      ]
     },
     "metadata": {},
     "output_type": "display_data"
    },
    {
     "name": "stdout",
     "output_type": "stream",
     "text": [
      "[[692   0]\n",
      " [  5 303]]\n",
      "\t### SCORE OF 0.995 FOR 15 NODES ###\n"
     ]
    }
   ],
   "source": [
    "scores = []\n",
    "ns = range(3, 16)\n",
    "for n in ns:\n",
    "    test_graphs, test_targets = generate_graphs([n], [1000], generator='binomial')\n",
    "    y_pred, y_true, score = tester(grid_search, test_graphs, test_targets, energies_masses, energies)\n",
    "    print(confusion_matrix(y_true, y_pred))\n",
    "    print(f\"\\t### SCORE OF {score} FOR {n} NODES ###\")\n",
    "    scores.append(score)"
   ]
  },
  {
   "cell_type": "code",
   "execution_count": 24,
   "id": "6347286f",
   "metadata": {},
   "outputs": [
    {
     "data": {
      "text/plain": [
       "Text(0.5, 0, 'Number of nodes')"
      ]
     },
     "execution_count": 24,
     "metadata": {},
     "output_type": "execute_result"
    },
    {
     "data": {
      "image/png": "[encoded data removed]",
      "text/plain": [
       "<Figure size 432x288 with 1 Axes>"
      ]
     },
     "metadata": {
      "needs_background": "light"
     },
     "output_type": "display_data"
    }
   ],
   "source": [
    "plt.plot(ns, scores)\n",
    "plt.ylabel('Accuracy')\n",
    "plt.xlabel('Number of nodes')"
   ]
  },
  {
   "cell_type": "code",
   "execution_count": 25,
   "id": "875e0f81",
   "metadata": {},
   "outputs": [
    {
     "data": {
      "application/vnd.jupyter.widget-view+json": {
       "model_id": "404d4e78c8ec4c6e8824094960999268",
       "version_major": 2,
       "version_minor": 0
      },
      "text/plain": [
       "  0%|          | 0/100 [00:00<?, ?it/s]"
      ]
     },
     "metadata": {},
     "output_type": "display_data"
    },
    {
     "data": {
      "application/vnd.jupyter.widget-view+json": {
       "model_id": "8b83638d4d934d8cb44b8043d56f8e8f",
       "version_major": 2,
       "version_minor": 0
      },
      "text/plain": [
       "  0%|          | 0/100 [00:00<?, ?it/s]"
      ]
     },
     "metadata": {},
     "output_type": "display_data"
    },
    {
     "name": "stdout",
     "output_type": "stream",
     "text": [
      "(1000, 54) (100, 24)\n",
      "(1000, 54) (100, 54)\n",
      "(54,) (24,)\n",
      "[-12. -11. -10.  -9.  -8.  -7.  -6.  -5.  -4.  -3.  -2.  -1.   0.   1.\n",
      "   2.   3.   4.   5.   6.   7.   8.   9.  10.  11.  12.  13.  14.  15.\n",
      "  16.  17.  18.  19.  20.  21.  22.  23.  24.  25.  26.  27.  28.  29.\n",
      "  31.  32.  33.  34.  35.  36.  37.  38.  39.  43.  44.  45.]\n"
     ]
    },
    {
     "data": {
      "application/vnd.jupyter.widget-view+json": {
       "model_id": "9485295a3b694674b91ae126fdd1a06c",
       "version_major": 2,
       "version_minor": 0
      },
      "text/plain": [
       "dist1 loop:   0%|          | 0/100 [00:00<?, ?it/s]"
      ]
     },
     "metadata": {},
     "output_type": "display_data"
    },
    {
     "data": {
      "text/plain": [
       "0.92"
      ]
     },
     "execution_count": 25,
     "metadata": {},
     "output_type": "execute_result"
    }
   ],
   "source": [
    "planar_graphs = nx.read_graph6(f'datasets/planar_conn.{7}.g6')[:100]\n",
    "tester(grid_search, planar_graphs, [1] * len(planar_graphs), energies_masses, energies)[2]"
   ]
  },
  {
   "cell_type": "markdown",
   "id": "8b9f0264",
   "metadata": {},
   "source": [
    "## Find the best parameters"
   ]
  },
  {
   "cell_type": "markdown",
   "id": "47400fdb",
   "metadata": {},
   "source": [
    "Now we look for the values of times and pulses to get the best accuracy score. This is done by bayesian optimization."
   ]
  },
  {
   "cell_type": "markdown",
   "id": "f18a4487",
   "metadata": {},
   "source": [
    "Define the score function"
   ]
  },
  {
   "cell_type": "code",
   "execution_count": 26,
   "id": "b11150bd",
   "metadata": {},
   "outputs": [],
   "source": [
    "def get_score(param):\n",
    "    middle = len(param)//2\n",
    "    states = return_list_of_states(graphs, param[0:middle], param[middle::], evol='ising')\n",
    "    energies = return_energy_distribution(graphs, states, observables_memoizer.get_observable)\n",
    "    matrix = return_js_matrix(energies)\n",
    "    K = np.exp(-matrix)\n",
    "    C_list = np.logspace(-3, 3, 7)\n",
    "\n",
    "    param_grid = {'C': C_list}\n",
    "    scoring = {'accuracy': make_scorer(accuracy_score),\n",
    "                'f1_score': make_scorer(f1_score, average='weighted')\n",
    "                }\n",
    "\n",
    "    skf = RepeatedStratifiedKFold(10, 10, random_state=47)\n",
    "    # skf = StratifiedKFold(5, shuffle=True, random_state=47)\n",
    "\n",
    "    estimator = svm.SVC(kernel='precomputed', random_state=76)\n",
    "\n",
    "    grid_search = GridSearchCV(estimator, param_grid, scoring=scoring,\n",
    "                                    cv=skf, refit=False, n_jobs=-1)\n",
    "    result = grid_search.fit(K, targets).cv_results_\n",
    "\n",
    "    return -np.max(result['mean_test_accuracy'])\n",
    "    \n"
   ]
  },
  {
   "cell_type": "markdown",
   "id": "79805dc6",
   "metadata": {},
   "source": [
    "Run the bayesian optimization (can take up to 15 min)"
   ]
  },
  {
   "cell_type": "code",
   "execution_count": 27,
   "id": "9a42b426",
   "metadata": {},
   "outputs": [
    {
     "name": "stdout",
     "output_type": "stream",
     "text": [
      "Iteration No: 1 started. Evaluating function at random point.\n"
     ]
    },
    {
     "name": "stderr",
     "output_type": "stream",
     "text": [
      "/Users/romainfouilland/.pyenv/versions/3.8.3/lib/python3.8/site-packages/sklearn/utils/validation.py:70: FutureWarning: Pass n_splits=10, n_repeats=10 as keyword args. From version 1.0 (renaming of 0.25) passing these as positional arguments will result in an error\n",
      "  warnings.warn(f\"Pass {args_msg} as keyword args. From version \"\n"
     ]
    },
    {
     "name": "stdout",
     "output_type": "stream",
     "text": [
      "Iteration No: 1 ended. Evaluation done at random point.\n",
      "Time taken: 21.2789\n",
      "Function value obtained: -0.9964\n",
      "Current minimum: -0.9964\n",
      "Iteration No: 2 started. Evaluating function at random point.\n"
     ]
    },
    {
     "name": "stderr",
     "output_type": "stream",
     "text": [
      "/Users/romainfouilland/.pyenv/versions/3.8.3/lib/python3.8/site-packages/sklearn/utils/validation.py:70: FutureWarning: Pass n_splits=10, n_repeats=10 as keyword args. From version 1.0 (renaming of 0.25) passing these as positional arguments will result in an error\n",
      "  warnings.warn(f\"Pass {args_msg} as keyword args. From version \"\n"
     ]
    },
    {
     "name": "stdout",
     "output_type": "stream",
     "text": [
      "Iteration No: 2 ended. Evaluation done at random point.\n",
      "Time taken: 22.9451\n",
      "Function value obtained: -0.9978\n",
      "Current minimum: -0.9978\n",
      "Iteration No: 3 started. Evaluating function at random point.\n"
     ]
    },
    {
     "name": "stderr",
     "output_type": "stream",
     "text": [
      "/Users/romainfouilland/.pyenv/versions/3.8.3/lib/python3.8/site-packages/sklearn/utils/validation.py:70: FutureWarning: Pass n_splits=10, n_repeats=10 as keyword args. From version 1.0 (renaming of 0.25) passing these as positional arguments will result in an error\n",
      "  warnings.warn(f\"Pass {args_msg} as keyword args. From version \"\n"
     ]
    },
    {
     "name": "stdout",
     "output_type": "stream",
     "text": [
      "Iteration No: 3 ended. Evaluation done at random point.\n",
      "Time taken: 20.3439\n",
      "Function value obtained: -0.9978\n",
      "Current minimum: -0.9978\n",
      "Iteration No: 4 started. Evaluating function at random point.\n"
     ]
    },
    {
     "name": "stderr",
     "output_type": "stream",
     "text": [
      "/Users/romainfouilland/.pyenv/versions/3.8.3/lib/python3.8/site-packages/sklearn/utils/validation.py:70: FutureWarning: Pass n_splits=10, n_repeats=10 as keyword args. From version 1.0 (renaming of 0.25) passing these as positional arguments will result in an error\n",
      "  warnings.warn(f\"Pass {args_msg} as keyword args. From version \"\n"
     ]
    },
    {
     "name": "stdout",
     "output_type": "stream",
     "text": [
      "Iteration No: 4 ended. Evaluation done at random point.\n",
      "Time taken: 19.6755\n",
      "Function value obtained: -0.9988\n",
      "Current minimum: -0.9988\n",
      "Iteration No: 5 started. Evaluating function at random point.\n"
     ]
    },
    {
     "name": "stderr",
     "output_type": "stream",
     "text": [
      "/Users/romainfouilland/.pyenv/versions/3.8.3/lib/python3.8/site-packages/sklearn/utils/validation.py:70: FutureWarning: Pass n_splits=10, n_repeats=10 as keyword args. From version 1.0 (renaming of 0.25) passing these as positional arguments will result in an error\n",
      "  warnings.warn(f\"Pass {args_msg} as keyword args. From version \"\n"
     ]
    },
    {
     "name": "stdout",
     "output_type": "stream",
     "text": [
      "Iteration No: 5 ended. Evaluation done at random point.\n",
      "Time taken: 20.7480\n",
      "Function value obtained: -0.9971\n",
      "Current minimum: -0.9988\n",
      "Iteration No: 6 started. Evaluating function at random point.\n"
     ]
    },
    {
     "name": "stderr",
     "output_type": "stream",
     "text": [
      "/Users/romainfouilland/.pyenv/versions/3.8.3/lib/python3.8/site-packages/sklearn/utils/validation.py:70: FutureWarning: Pass n_splits=10, n_repeats=10 as keyword args. From version 1.0 (renaming of 0.25) passing these as positional arguments will result in an error\n",
      "  warnings.warn(f\"Pass {args_msg} as keyword args. From version \"\n"
     ]
    },
    {
     "name": "stdout",
     "output_type": "stream",
     "text": [
      "Iteration No: 6 ended. Evaluation done at random point.\n",
      "Time taken: 20.7117\n",
      "Function value obtained: -0.9972\n",
      "Current minimum: -0.9988\n",
      "Iteration No: 7 started. Evaluating function at random point.\n"
     ]
    },
    {
     "name": "stderr",
     "output_type": "stream",
     "text": [
      "/Users/romainfouilland/.pyenv/versions/3.8.3/lib/python3.8/site-packages/sklearn/utils/validation.py:70: FutureWarning: Pass n_splits=10, n_repeats=10 as keyword args. From version 1.0 (renaming of 0.25) passing these as positional arguments will result in an error\n",
      "  warnings.warn(f\"Pass {args_msg} as keyword args. From version \"\n"
     ]
    },
    {
     "name": "stdout",
     "output_type": "stream",
     "text": [
      "Iteration No: 7 ended. Evaluation done at random point.\n",
      "Time taken: 19.7539\n",
      "Function value obtained: -0.9975\n",
      "Current minimum: -0.9988\n",
      "Iteration No: 8 started. Evaluating function at random point.\n"
     ]
    },
    {
     "name": "stderr",
     "output_type": "stream",
     "text": [
      "/Users/romainfouilland/.pyenv/versions/3.8.3/lib/python3.8/site-packages/sklearn/utils/validation.py:70: FutureWarning: Pass n_splits=10, n_repeats=10 as keyword args. From version 1.0 (renaming of 0.25) passing these as positional arguments will result in an error\n",
      "  warnings.warn(f\"Pass {args_msg} as keyword args. From version \"\n"
     ]
    },
    {
     "name": "stdout",
     "output_type": "stream",
     "text": [
      "Iteration No: 8 ended. Evaluation done at random point.\n",
      "Time taken: 21.0906\n",
      "Function value obtained: -0.9970\n",
      "Current minimum: -0.9988\n",
      "Iteration No: 9 started. Evaluating function at random point.\n"
     ]
    },
    {
     "name": "stderr",
     "output_type": "stream",
     "text": [
      "/Users/romainfouilland/.pyenv/versions/3.8.3/lib/python3.8/site-packages/sklearn/utils/validation.py:70: FutureWarning: Pass n_splits=10, n_repeats=10 as keyword args. From version 1.0 (renaming of 0.25) passing these as positional arguments will result in an error\n",
      "  warnings.warn(f\"Pass {args_msg} as keyword args. From version \"\n"
     ]
    },
    {
     "name": "stdout",
     "output_type": "stream",
     "text": [
      "Iteration No: 9 ended. Evaluation done at random point.\n",
      "Time taken: 19.9049\n",
      "Function value obtained: -0.9978\n",
      "Current minimum: -0.9988\n",
      "Iteration No: 10 started. Evaluating function at random point.\n"
     ]
    },
    {
     "name": "stderr",
     "output_type": "stream",
     "text": [
      "/Users/romainfouilland/.pyenv/versions/3.8.3/lib/python3.8/site-packages/sklearn/utils/validation.py:70: FutureWarning: Pass n_splits=10, n_repeats=10 as keyword args. From version 1.0 (renaming of 0.25) passing these as positional arguments will result in an error\n",
      "  warnings.warn(f\"Pass {args_msg} as keyword args. From version \"\n"
     ]
    },
    {
     "name": "stdout",
     "output_type": "stream",
     "text": [
      "Iteration No: 10 ended. Evaluation done at random point.\n",
      "Time taken: 20.0971\n",
      "Function value obtained: -0.9978\n",
      "Current minimum: -0.9988\n",
      "Iteration No: 11 started. Evaluating function at random point.\n"
     ]
    },
    {
     "name": "stderr",
     "output_type": "stream",
     "text": [
      "/Users/romainfouilland/.pyenv/versions/3.8.3/lib/python3.8/site-packages/sklearn/utils/validation.py:70: FutureWarning: Pass n_splits=10, n_repeats=10 as keyword args. From version 1.0 (renaming of 0.25) passing these as positional arguments will result in an error\n",
      "  warnings.warn(f\"Pass {args_msg} as keyword args. From version \"\n"
     ]
    },
    {
     "name": "stdout",
     "output_type": "stream",
     "text": [
      "Iteration No: 11 ended. Evaluation done at random point.\n",
      "Time taken: 20.6893\n",
      "Function value obtained: -0.9975\n",
      "Current minimum: -0.9988\n",
      "Iteration No: 12 started. Evaluating function at random point.\n"
     ]
    },
    {
     "name": "stderr",
     "output_type": "stream",
     "text": [
      "/Users/romainfouilland/.pyenv/versions/3.8.3/lib/python3.8/site-packages/sklearn/utils/validation.py:70: FutureWarning: Pass n_splits=10, n_repeats=10 as keyword args. From version 1.0 (renaming of 0.25) passing these as positional arguments will result in an error\n",
      "  warnings.warn(f\"Pass {args_msg} as keyword args. From version \"\n"
     ]
    },
    {
     "name": "stdout",
     "output_type": "stream",
     "text": [
      "Iteration No: 12 ended. Evaluation done at random point.\n",
      "Time taken: 20.1527\n",
      "Function value obtained: -0.9982\n",
      "Current minimum: -0.9988\n",
      "Iteration No: 13 started. Evaluating function at random point.\n"
     ]
    },
    {
     "name": "stderr",
     "output_type": "stream",
     "text": [
      "/Users/romainfouilland/.pyenv/versions/3.8.3/lib/python3.8/site-packages/sklearn/utils/validation.py:70: FutureWarning: Pass n_splits=10, n_repeats=10 as keyword args. From version 1.0 (renaming of 0.25) passing these as positional arguments will result in an error\n",
      "  warnings.warn(f\"Pass {args_msg} as keyword args. From version \"\n"
     ]
    },
    {
     "name": "stdout",
     "output_type": "stream",
     "text": [
      "Iteration No: 13 ended. Evaluation done at random point.\n",
      "Time taken: 20.7138\n",
      "Function value obtained: -0.9978\n",
      "Current minimum: -0.9988\n",
      "Iteration No: 14 started. Evaluating function at random point.\n"
     ]
    },
    {
     "name": "stderr",
     "output_type": "stream",
     "text": [
      "/Users/romainfouilland/.pyenv/versions/3.8.3/lib/python3.8/site-packages/sklearn/utils/validation.py:70: FutureWarning: Pass n_splits=10, n_repeats=10 as keyword args. From version 1.0 (renaming of 0.25) passing these as positional arguments will result in an error\n",
      "  warnings.warn(f\"Pass {args_msg} as keyword args. From version \"\n"
     ]
    },
    {
     "name": "stdout",
     "output_type": "stream",
     "text": [
      "Iteration No: 14 ended. Evaluation done at random point.\n",
      "Time taken: 20.1224\n",
      "Function value obtained: -0.9979\n",
      "Current minimum: -0.9988\n",
      "Iteration No: 15 started. Evaluating function at random point.\n"
     ]
    },
    {
     "name": "stderr",
     "output_type": "stream",
     "text": [
      "/Users/romainfouilland/.pyenv/versions/3.8.3/lib/python3.8/site-packages/sklearn/utils/validation.py:70: FutureWarning: Pass n_splits=10, n_repeats=10 as keyword args. From version 1.0 (renaming of 0.25) passing these as positional arguments will result in an error\n",
      "  warnings.warn(f\"Pass {args_msg} as keyword args. From version \"\n"
     ]
    },
    {
     "name": "stdout",
     "output_type": "stream",
     "text": [
      "Iteration No: 15 ended. Evaluation done at random point.\n",
      "Time taken: 20.0562\n",
      "Function value obtained: -0.9978\n",
      "Current minimum: -0.9988\n",
      "Iteration No: 16 started. Evaluating function at random point.\n"
     ]
    },
    {
     "name": "stderr",
     "output_type": "stream",
     "text": [
      "/Users/romainfouilland/.pyenv/versions/3.8.3/lib/python3.8/site-packages/sklearn/utils/validation.py:70: FutureWarning: Pass n_splits=10, n_repeats=10 as keyword args. From version 1.0 (renaming of 0.25) passing these as positional arguments will result in an error\n",
      "  warnings.warn(f\"Pass {args_msg} as keyword args. From version \"\n"
     ]
    },
    {
     "name": "stdout",
     "output_type": "stream",
     "text": [
      "Iteration No: 16 ended. Evaluation done at random point.\n",
      "Time taken: 20.6594\n",
      "Function value obtained: -0.9982\n",
      "Current minimum: -0.9988\n",
      "Iteration No: 17 started. Evaluating function at random point.\n"
     ]
    },
    {
     "name": "stderr",
     "output_type": "stream",
     "text": [
      "/Users/romainfouilland/.pyenv/versions/3.8.3/lib/python3.8/site-packages/sklearn/utils/validation.py:70: FutureWarning: Pass n_splits=10, n_repeats=10 as keyword args. From version 1.0 (renaming of 0.25) passing these as positional arguments will result in an error\n",
      "  warnings.warn(f\"Pass {args_msg} as keyword args. From version \"\n"
     ]
    },
    {
     "name": "stdout",
     "output_type": "stream",
     "text": [
      "Iteration No: 17 ended. Evaluation done at random point.\n",
      "Time taken: 20.1860\n",
      "Function value obtained: -0.9988\n",
      "Current minimum: -0.9988\n",
      "Iteration No: 18 started. Evaluating function at random point.\n"
     ]
    },
    {
     "name": "stderr",
     "output_type": "stream",
     "text": [
      "/Users/romainfouilland/.pyenv/versions/3.8.3/lib/python3.8/site-packages/sklearn/utils/validation.py:70: FutureWarning: Pass n_splits=10, n_repeats=10 as keyword args. From version 1.0 (renaming of 0.25) passing these as positional arguments will result in an error\n",
      "  warnings.warn(f\"Pass {args_msg} as keyword args. From version \"\n"
     ]
    },
    {
     "name": "stdout",
     "output_type": "stream",
     "text": [
      "Iteration No: 18 ended. Evaluation done at random point.\n",
      "Time taken: 20.6293\n",
      "Function value obtained: -0.9984\n",
      "Current minimum: -0.9988\n",
      "Iteration No: 19 started. Evaluating function at random point.\n"
     ]
    },
    {
     "name": "stderr",
     "output_type": "stream",
     "text": [
      "/Users/romainfouilland/.pyenv/versions/3.8.3/lib/python3.8/site-packages/sklearn/utils/validation.py:70: FutureWarning: Pass n_splits=10, n_repeats=10 as keyword args. From version 1.0 (renaming of 0.25) passing these as positional arguments will result in an error\n",
      "  warnings.warn(f\"Pass {args_msg} as keyword args. From version \"\n"
     ]
    },
    {
     "name": "stdout",
     "output_type": "stream",
     "text": [
      "Iteration No: 19 ended. Evaluation done at random point.\n",
      "Time taken: 19.8858\n",
      "Function value obtained: -0.9974\n",
      "Current minimum: -0.9988\n",
      "Iteration No: 20 started. Evaluating function at random point.\n"
     ]
    },
    {
     "name": "stderr",
     "output_type": "stream",
     "text": [
      "/Users/romainfouilland/.pyenv/versions/3.8.3/lib/python3.8/site-packages/sklearn/utils/validation.py:70: FutureWarning: Pass n_splits=10, n_repeats=10 as keyword args. From version 1.0 (renaming of 0.25) passing these as positional arguments will result in an error\n",
      "  warnings.warn(f\"Pass {args_msg} as keyword args. From version \"\n"
     ]
    },
    {
     "name": "stdout",
     "output_type": "stream",
     "text": [
      "Iteration No: 20 ended. Evaluation done at random point.\n",
      "Time taken: 20.3402\n",
      "Function value obtained: -0.9958\n",
      "Current minimum: -0.9988\n",
      "Iteration No: 21 started. Searching for the next optimal point.\n"
     ]
    },
    {
     "name": "stderr",
     "output_type": "stream",
     "text": [
      "/Users/romainfouilland/.pyenv/versions/3.8.3/lib/python3.8/site-packages/sklearn/utils/validation.py:70: FutureWarning: Pass n_splits=10, n_repeats=10 as keyword args. From version 1.0 (renaming of 0.25) passing these as positional arguments will result in an error\n",
      "  warnings.warn(f\"Pass {args_msg} as keyword args. From version \"\n"
     ]
    },
    {
     "name": "stdout",
     "output_type": "stream",
     "text": [
      "Iteration No: 21 ended. Search finished for the next optimal point.\n",
      "Time taken: 20.0479\n",
      "Function value obtained: -0.9986\n",
      "Current minimum: -0.9988\n",
      "Iteration No: 22 started. Searching for the next optimal point.\n"
     ]
    },
    {
     "name": "stderr",
     "output_type": "stream",
     "text": [
      "/Users/romainfouilland/.pyenv/versions/3.8.3/lib/python3.8/site-packages/sklearn/utils/validation.py:70: FutureWarning: Pass n_splits=10, n_repeats=10 as keyword args. From version 1.0 (renaming of 0.25) passing these as positional arguments will result in an error\n",
      "  warnings.warn(f\"Pass {args_msg} as keyword args. From version \"\n"
     ]
    },
    {
     "name": "stdout",
     "output_type": "stream",
     "text": [
      "Iteration No: 22 ended. Search finished for the next optimal point.\n",
      "Time taken: 20.7084\n",
      "Function value obtained: -0.9978\n",
      "Current minimum: -0.9988\n",
      "Iteration No: 23 started. Searching for the next optimal point.\n"
     ]
    },
    {
     "name": "stderr",
     "output_type": "stream",
     "text": [
      "/Users/romainfouilland/.pyenv/versions/3.8.3/lib/python3.8/site-packages/sklearn/utils/validation.py:70: FutureWarning: Pass n_splits=10, n_repeats=10 as keyword args. From version 1.0 (renaming of 0.25) passing these as positional arguments will result in an error\n",
      "  warnings.warn(f\"Pass {args_msg} as keyword args. From version \"\n"
     ]
    },
    {
     "name": "stdout",
     "output_type": "stream",
     "text": [
      "Iteration No: 23 ended. Search finished for the next optimal point.\n",
      "Time taken: 19.5230\n",
      "Function value obtained: -0.9964\n",
      "Current minimum: -0.9988\n",
      "Iteration No: 24 started. Searching for the next optimal point.\n"
     ]
    },
    {
     "name": "stderr",
     "output_type": "stream",
     "text": [
      "/Users/romainfouilland/.pyenv/versions/3.8.3/lib/python3.8/site-packages/sklearn/utils/validation.py:70: FutureWarning: Pass n_splits=10, n_repeats=10 as keyword args. From version 1.0 (renaming of 0.25) passing these as positional arguments will result in an error\n",
      "  warnings.warn(f\"Pass {args_msg} as keyword args. From version \"\n"
     ]
    },
    {
     "name": "stdout",
     "output_type": "stream",
     "text": [
      "Iteration No: 24 ended. Search finished for the next optimal point.\n",
      "Time taken: 20.3558\n",
      "Function value obtained: -0.9988\n",
      "Current minimum: -0.9988\n",
      "Iteration No: 25 started. Searching for the next optimal point.\n"
     ]
    },
    {
     "name": "stderr",
     "output_type": "stream",
     "text": [
      "/Users/romainfouilland/.pyenv/versions/3.8.3/lib/python3.8/site-packages/sklearn/utils/validation.py:70: FutureWarning: Pass n_splits=10, n_repeats=10 as keyword args. From version 1.0 (renaming of 0.25) passing these as positional arguments will result in an error\n",
      "  warnings.warn(f\"Pass {args_msg} as keyword args. From version \"\n"
     ]
    },
    {
     "name": "stdout",
     "output_type": "stream",
     "text": [
      "Iteration No: 25 ended. Search finished for the next optimal point.\n",
      "Time taken: 20.3818\n",
      "Function value obtained: -0.9976\n",
      "Current minimum: -0.9988\n",
      "Iteration No: 26 started. Searching for the next optimal point.\n"
     ]
    },
    {
     "name": "stderr",
     "output_type": "stream",
     "text": [
      "/Users/romainfouilland/.pyenv/versions/3.8.3/lib/python3.8/site-packages/sklearn/utils/validation.py:70: FutureWarning: Pass n_splits=10, n_repeats=10 as keyword args. From version 1.0 (renaming of 0.25) passing these as positional arguments will result in an error\n",
      "  warnings.warn(f\"Pass {args_msg} as keyword args. From version \"\n"
     ]
    },
    {
     "name": "stdout",
     "output_type": "stream",
     "text": [
      "Iteration No: 26 ended. Search finished for the next optimal point.\n",
      "Time taken: 20.7911\n",
      "Function value obtained: -0.9990\n",
      "Current minimum: -0.9990\n",
      "Iteration No: 27 started. Searching for the next optimal point.\n"
     ]
    },
    {
     "name": "stderr",
     "output_type": "stream",
     "text": [
      "/Users/romainfouilland/.pyenv/versions/3.8.3/lib/python3.8/site-packages/sklearn/utils/validation.py:70: FutureWarning: Pass n_splits=10, n_repeats=10 as keyword args. From version 1.0 (renaming of 0.25) passing these as positional arguments will result in an error\n",
      "  warnings.warn(f\"Pass {args_msg} as keyword args. From version \"\n"
     ]
    },
    {
     "name": "stdout",
     "output_type": "stream",
     "text": [
      "Iteration No: 27 ended. Search finished for the next optimal point.\n",
      "Time taken: 21.1099\n",
      "Function value obtained: -0.9964\n",
      "Current minimum: -0.9990\n",
      "Iteration No: 28 started. Searching for the next optimal point.\n"
     ]
    },
    {
     "name": "stderr",
     "output_type": "stream",
     "text": [
      "/Users/romainfouilland/.pyenv/versions/3.8.3/lib/python3.8/site-packages/sklearn/utils/validation.py:70: FutureWarning: Pass n_splits=10, n_repeats=10 as keyword args. From version 1.0 (renaming of 0.25) passing these as positional arguments will result in an error\n",
      "  warnings.warn(f\"Pass {args_msg} as keyword args. From version \"\n"
     ]
    },
    {
     "name": "stdout",
     "output_type": "stream",
     "text": [
      "Iteration No: 28 ended. Search finished for the next optimal point.\n",
      "Time taken: 22.2002\n",
      "Function value obtained: -0.9972\n",
      "Current minimum: -0.9990\n",
      "Iteration No: 29 started. Searching for the next optimal point.\n"
     ]
    },
    {
     "name": "stderr",
     "output_type": "stream",
     "text": [
      "/Users/romainfouilland/.pyenv/versions/3.8.3/lib/python3.8/site-packages/sklearn/utils/validation.py:70: FutureWarning: Pass n_splits=10, n_repeats=10 as keyword args. From version 1.0 (renaming of 0.25) passing these as positional arguments will result in an error\n",
      "  warnings.warn(f\"Pass {args_msg} as keyword args. From version \"\n"
     ]
    },
    {
     "name": "stdout",
     "output_type": "stream",
     "text": [
      "Iteration No: 29 ended. Search finished for the next optimal point.\n",
      "Time taken: 21.5449\n",
      "Function value obtained: -0.9988\n",
      "Current minimum: -0.9990\n",
      "Iteration No: 30 started. Searching for the next optimal point.\n"
     ]
    },
    {
     "name": "stderr",
     "output_type": "stream",
     "text": [
      "/Users/romainfouilland/.pyenv/versions/3.8.3/lib/python3.8/site-packages/sklearn/utils/validation.py:70: FutureWarning: Pass n_splits=10, n_repeats=10 as keyword args. From version 1.0 (renaming of 0.25) passing these as positional arguments will result in an error\n",
      "  warnings.warn(f\"Pass {args_msg} as keyword args. From version \"\n"
     ]
    },
    {
     "name": "stdout",
     "output_type": "stream",
     "text": [
      "Iteration No: 30 ended. Search finished for the next optimal point.\n",
      "Time taken: 24.6780\n",
      "Function value obtained: -0.9984\n",
      "Current minimum: -0.9990\n"
     ]
    }
   ],
   "source": [
    "bounds = [(0., 3.)] * 2 + [(0., 1.)] * 2\n",
    "    \n",
    "opt_result = gp_minimize(\n",
    "    get_score,\n",
    "    bounds,\n",
    "    acq_func='LCB',\n",
    "    n_calls=30,\n",
    "    n_initial_points=20,\n",
    "    acq_optimizer='sampling',\n",
    "    n_points=5000,\n",
    "    kappa=4,\n",
    "    n_jobs=-1,\n",
    "    verbose=True)"
   ]
  },
  {
   "cell_type": "code",
   "execution_count": 34,
   "id": "f6dbecc7",
   "metadata": {},
   "outputs": [
    {
     "name": "stdout",
     "output_type": "stream",
     "text": [
      "Best accuracy:  0.9989999999999999\n",
      "Best parameters:  [1.3120541742020804, 1.1183939472347362, 0.6069423321714197, 0.774875787317455]\n"
     ]
    }
   ],
   "source": [
    "i_best = np.argmin(opt_result.func_vals)\n",
    "print('Best accuracy: ', np.abs(opt_result.func_vals[i_best]))\n",
    "print('Best parameters: ', opt_result.x_iters[i_best])"
   ]
  },
  {
   "cell_type": "markdown",
   "id": "8d1e451a",
   "metadata": {},
   "source": [
    "# Scalability test"
   ]
  },
  {
   "cell_type": "code",
   "execution_count": 32,
   "id": "719353f6",
   "metadata": {},
   "outputs": [],
   "source": [
    "# > opt_result.x_iters[i_best]\n",
    "# [1.3120541742020804, 1.1183939472347362, 0.6069423321714197, 0.774875787317455]\n",
    "times = opt_result.x_iters[i_best][:2]\n",
    "pulses = opt_result.x_iters[i_best][2:]"
   ]
  },
  {
   "cell_type": "code",
   "execution_count": 33,
   "id": "5a270f61",
   "metadata": {},
   "outputs": [
    {
     "name": "stdout",
     "output_type": "stream",
     "text": [
      "\n",
      "\t\u001b[1m# 1. Generate train and test datasets\u001b[0m\n",
      "\n"
     ]
    },
    {
     "data": {
      "application/vnd.jupyter.widget-view+json": {
       "model_id": "e29abfc817dc48ffaa606c45e769561b",
       "version_major": 2,
       "version_minor": 0
      },
      "text/plain": [
       "0it [00:00, ?it/s]"
      ]
     },
     "metadata": {},
     "output_type": "display_data"
    },
    {
     "name": "stdout",
     "output_type": "stream",
     "text": [
      "Generated graphs with   3 nodes are at 100.0% planar in average\n",
      "Generated graphs with   4 nodes are at 100.0% planar in average\n",
      "Generated graphs with   5 nodes are at  72.0% planar in average\n",
      "Generated graphs with   6 nodes are at  64.0% planar in average\n",
      "Generated graphs with   7 nodes are at  50.0% planar in average\n",
      "Generated graphs with   8 nodes are at  64.0% planar in average\n",
      "Generated graphs with   9 nodes are at  53.5% planar in average\n",
      "Generated graphs with  10 nodes are at  46.5% planar in average\n",
      "Generated graphs are at  61.4% planar in average\n",
      "\n",
      "\t\u001b[1m# 2. Train model\u001b[0m\n",
      "\n"
     ]
    },
    {
     "data": {
      "application/vnd.jupyter.widget-view+json": {
       "model_id": "6011748a0ba44d77bccdd2ea0c57a60d",
       "version_major": 2,
       "version_minor": 0
      },
      "text/plain": [
       "  0%|          | 0/1000 [00:00<?, ?it/s]"
      ]
     },
     "metadata": {},
     "output_type": "display_data"
    },
    {
     "data": {
      "application/vnd.jupyter.widget-view+json": {
       "model_id": "4f674dbe7ec24b27861f4fce47d94aac",
       "version_major": 2,
       "version_minor": 0
      },
      "text/plain": [
       "  0%|          | 0/1000 [00:00<?, ?it/s]"
      ]
     },
     "metadata": {},
     "output_type": "display_data"
    },
    {
     "name": "stderr",
     "output_type": "stream",
     "text": [
      "/Users/romainfouilland/.pyenv/versions/3.8.3/lib/python3.8/site-packages/sklearn/utils/validation.py:70: FutureWarning: Pass n_splits=10, n_repeats=10 as keyword args. From version 1.0 (renaming of 0.25) passing these as positional arguments will result in an error\n",
      "  warnings.warn(f\"Pass {args_msg} as keyword args. From version \"\n"
     ]
    },
    {
     "name": "stdout",
     "output_type": "stream",
     "text": [
      "Accuracy: 99.900% ± 0.300% for C=1000.0\n"
     ]
    },
    {
     "data": {
      "image/png": "[encoded data removed]",
      "text/plain": [
       "<Figure size 432x288 with 1 Axes>"
      ]
     },
     "metadata": {
      "needs_background": "light"
     },
     "output_type": "display_data"
    },
    {
     "name": "stdout",
     "output_type": "stream",
     "text": [
      "GridSearchCV(cv=RepeatedStratifiedKFold(n_repeats=10, n_splits=10, random_state=47),\n",
      "             estimator=SVC(kernel='precomputed', random_state=76), n_jobs=-1,\n",
      "             param_grid={'C': array([1.e-03, 1.e-02, 1.e-01, 1.e+00, 1.e+01, 1.e+02, 1.e+03])},\n",
      "             refit='accuracy',\n",
      "             scoring={'accuracy': make_scorer(accuracy_score),\n",
      "                      'f1_score': make_scorer(f1_score, average=weighted)})\n",
      "\n",
      "\t\u001b[1m# 3. Smoke-test model\u001b[0m\n",
      "\n"
     ]
    },
    {
     "data": {
      "application/vnd.jupyter.widget-view+json": {
       "model_id": "7a86f4a854de45aa83b1352cd167266f",
       "version_major": 2,
       "version_minor": 0
      },
      "text/plain": [
       "  0%|          | 0/1000 [00:00<?, ?it/s]"
      ]
     },
     "metadata": {},
     "output_type": "display_data"
    },
    {
     "data": {
      "application/vnd.jupyter.widget-view+json": {
       "model_id": "22dd7572d91741a4b203df14e252bcbd",
       "version_major": 2,
       "version_minor": 0
      },
      "text/plain": [
       "  0%|          | 0/1000 [00:00<?, ?it/s]"
      ]
     },
     "metadata": {},
     "output_type": "display_data"
    },
    {
     "data": {
      "application/vnd.jupyter.widget-view+json": {
       "model_id": "069f66285e31459db178162aca2e3af6",
       "version_major": 2,
       "version_minor": 0
      },
      "text/plain": [
       "dist1 loop:   0%|          | 0/1000 [00:00<?, ?it/s]"
      ]
     },
     "metadata": {},
     "output_type": "display_data"
    },
    {
     "name": "stdout",
     "output_type": "stream",
     "text": [
      "[[386   0]\n",
      " [  0 614]]\n",
      "              precision    recall  f1-score   support\n",
      "\n",
      "  Non-planar       1.00      1.00      1.00       386\n",
      "      Planar       1.00      1.00      1.00       614\n",
      "\n",
      "    accuracy                           1.00      1000\n",
      "   macro avg       1.00      1.00      1.00      1000\n",
      "weighted avg       1.00      1.00      1.00      1000\n",
      "\n",
      "\n",
      "\t### Score: 100.00% (precision for planar: 1.000 & non-planar: 1.000)\n",
      "\n",
      "\t\u001b[1m# 4. Investigate generalisation capabilities\u001b[0m\n",
      "\n",
      "\n",
      "\t#   a. 10 graphs of 18 nodes\n",
      "\n"
     ]
    },
    {
     "data": {
      "application/vnd.jupyter.widget-view+json": {
       "model_id": "cb146e3be02a447b9258c10a621d4376",
       "version_major": 2,
       "version_minor": 0
      },
      "text/plain": [
       "  0%|          | 0/10 [00:00<?, ?it/s]"
      ]
     },
     "metadata": {},
     "output_type": "display_data"
    },
    {
     "data": {
      "application/vnd.jupyter.widget-view+json": {
       "model_id": "80ab048dbbe84808b529c9ec5b157507",
       "version_major": 2,
       "version_minor": 0
      },
      "text/plain": [
       "  0%|          | 0/10 [00:00<?, ?it/s]"
      ]
     },
     "metadata": {},
     "output_type": "display_data"
    },
    {
     "data": {
      "application/vnd.jupyter.widget-view+json": {
       "model_id": "1d4e2e8e3ac94f248919aed359986805",
       "version_major": 2,
       "version_minor": 0
      },
      "text/plain": [
       "dist1 loop:   0%|          | 0/10 [00:00<?, ?it/s]"
      ]
     },
     "metadata": {},
     "output_type": "display_data"
    },
    {
     "name": "stdout",
     "output_type": "stream",
     "text": [
      "[[8 1]\n",
      " [0 1]]\n",
      "              precision    recall  f1-score   support\n",
      "\n",
      "  Non-planar       1.00      0.89      0.94         9\n",
      "      Planar       0.50      1.00      0.67         1\n",
      "\n",
      "    accuracy                           0.90        10\n",
      "   macro avg       0.75      0.94      0.80        10\n",
      "weighted avg       0.95      0.90      0.91        10\n",
      "\n",
      "\n",
      "\t### Score: 90.00% (precision for planar: 0.500 & non-planar: 1.000)\n",
      "\n",
      "\t#   b. Ramping up number of nodes\n",
      "\n",
      "\n",
      "\t### 3 NODES ###\n"
     ]
    },
    {
     "data": {
      "application/vnd.jupyter.widget-view+json": {
       "model_id": "890a3d7f50234cf6898048d7ecc64eae",
       "version_major": 2,
       "version_minor": 0
      },
      "text/plain": [
       "  0%|          | 0/1000 [00:00<?, ?it/s]"
      ]
     },
     "metadata": {},
     "output_type": "display_data"
    },
    {
     "data": {
      "application/vnd.jupyter.widget-view+json": {
       "model_id": "41ef6c08348e42e3b773d7197f5dcb7b",
       "version_major": 2,
       "version_minor": 0
      },
      "text/plain": [
       "  0%|          | 0/1000 [00:00<?, ?it/s]"
      ]
     },
     "metadata": {},
     "output_type": "display_data"
    },
    {
     "data": {
      "application/vnd.jupyter.widget-view+json": {
       "model_id": "a3e48f91c84d408da8e55abc61d6ace5",
       "version_major": 2,
       "version_minor": 0
      },
      "text/plain": [
       "dist1 loop:   0%|          | 0/1000 [00:00<?, ?it/s]"
      ]
     },
     "metadata": {},
     "output_type": "display_data"
    },
    {
     "name": "stdout",
     "output_type": "stream",
     "text": [
      "Warning: only one class.\n",
      "\n",
      "\t### 4 NODES ###\n"
     ]
    },
    {
     "data": {
      "application/vnd.jupyter.widget-view+json": {
       "model_id": "fb86bc9333974531a1b0cc7a56f01dd4",
       "version_major": 2,
       "version_minor": 0
      },
      "text/plain": [
       "  0%|          | 0/1000 [00:00<?, ?it/s]"
      ]
     },
     "metadata": {},
     "output_type": "display_data"
    },
    {
     "data": {
      "application/vnd.jupyter.widget-view+json": {
       "model_id": "0c3e124673cd4184aab60df9d4c7b093",
       "version_major": 2,
       "version_minor": 0
      },
      "text/plain": [
       "  0%|          | 0/1000 [00:00<?, ?it/s]"
      ]
     },
     "metadata": {},
     "output_type": "display_data"
    },
    {
     "data": {
      "application/vnd.jupyter.widget-view+json": {
       "model_id": "72ca9b7ab85e46b5bc1ff616660c8e45",
       "version_major": 2,
       "version_minor": 0
      },
      "text/plain": [
       "dist1 loop:   0%|          | 0/1000 [00:00<?, ?it/s]"
      ]
     },
     "metadata": {},
     "output_type": "display_data"
    },
    {
     "name": "stdout",
     "output_type": "stream",
     "text": [
      "Warning: only one class.\n",
      "\n",
      "\t### 5 NODES ###\n"
     ]
    },
    {
     "data": {
      "application/vnd.jupyter.widget-view+json": {
       "model_id": "83b90ffaae71409b9e8620117cdcd1ec",
       "version_major": 2,
       "version_minor": 0
      },
      "text/plain": [
       "  0%|          | 0/1000 [00:00<?, ?it/s]"
      ]
     },
     "metadata": {},
     "output_type": "display_data"
    },
    {
     "data": {
      "application/vnd.jupyter.widget-view+json": {
       "model_id": "45e9a7944e4e42dcb418a25cd7acce3b",
       "version_major": 2,
       "version_minor": 0
      },
      "text/plain": [
       "  0%|          | 0/1000 [00:00<?, ?it/s]"
      ]
     },
     "metadata": {},
     "output_type": "display_data"
    },
    {
     "data": {
      "application/vnd.jupyter.widget-view+json": {
       "model_id": "e86fd44178004928856176d082630c7b",
       "version_major": 2,
       "version_minor": 0
      },
      "text/plain": [
       "dist1 loop:   0%|          | 0/1000 [00:00<?, ?it/s]"
      ]
     },
     "metadata": {},
     "output_type": "display_data"
    },
    {
     "name": "stdout",
     "output_type": "stream",
     "text": [
      "[[218   0]\n",
      " [  0 782]]\n",
      "              precision    recall  f1-score   support\n",
      "\n",
      "  Non-planar       1.00      1.00      1.00       218\n",
      "      Planar       1.00      1.00      1.00       782\n",
      "\n",
      "    accuracy                           1.00      1000\n",
      "   macro avg       1.00      1.00      1.00      1000\n",
      "weighted avg       1.00      1.00      1.00      1000\n",
      "\n",
      "\n",
      "\t### Score: 100.00% (precision for planar: 1.000 & non-planar: 1.000)\n",
      "\n",
      "\t### 6 NODES ###\n"
     ]
    },
    {
     "data": {
      "application/vnd.jupyter.widget-view+json": {
       "model_id": "006810bb43704306b4b8a4d48327b4f8",
       "version_major": 2,
       "version_minor": 0
      },
      "text/plain": [
       "  0%|          | 0/1000 [00:00<?, ?it/s]"
      ]
     },
     "metadata": {},
     "output_type": "display_data"
    },
    {
     "data": {
      "application/vnd.jupyter.widget-view+json": {
       "model_id": "570b8427a1bf4f81b4f97e7289a2364b",
       "version_major": 2,
       "version_minor": 0
      },
      "text/plain": [
       "  0%|          | 0/1000 [00:00<?, ?it/s]"
      ]
     },
     "metadata": {},
     "output_type": "display_data"
    },
    {
     "data": {
      "application/vnd.jupyter.widget-view+json": {
       "model_id": "91a258a1f3e74889a02dbbdc8654e388",
       "version_major": 2,
       "version_minor": 0
      },
      "text/plain": [
       "dist1 loop:   0%|          | 0/1000 [00:00<?, ?it/s]"
      ]
     },
     "metadata": {},
     "output_type": "display_data"
    },
    {
     "name": "stdout",
     "output_type": "stream",
     "text": [
      "[[319   0]\n",
      " [  0 681]]\n",
      "              precision    recall  f1-score   support\n",
      "\n",
      "  Non-planar       1.00      1.00      1.00       319\n",
      "      Planar       1.00      1.00      1.00       681\n",
      "\n",
      "    accuracy                           1.00      1000\n",
      "   macro avg       1.00      1.00      1.00      1000\n",
      "weighted avg       1.00      1.00      1.00      1000\n",
      "\n",
      "\n",
      "\t### Score: 100.00% (precision for planar: 1.000 & non-planar: 1.000)\n",
      "\n",
      "\t### 7 NODES ###\n"
     ]
    },
    {
     "data": {
      "application/vnd.jupyter.widget-view+json": {
       "model_id": "4e183705a4f74c0a881f03a88d0ba716",
       "version_major": 2,
       "version_minor": 0
      },
      "text/plain": [
       "  0%|          | 0/1000 [00:00<?, ?it/s]"
      ]
     },
     "metadata": {},
     "output_type": "display_data"
    },
    {
     "data": {
      "application/vnd.jupyter.widget-view+json": {
       "model_id": "9d38f6b8cd28414d8deee8b5f8f93f18",
       "version_major": 2,
       "version_minor": 0
      },
      "text/plain": [
       "  0%|          | 0/1000 [00:00<?, ?it/s]"
      ]
     },
     "metadata": {},
     "output_type": "display_data"
    },
    {
     "data": {
      "application/vnd.jupyter.widget-view+json": {
       "model_id": "7f423d36f3384518b37e04f3aed33d38",
       "version_major": 2,
       "version_minor": 0
      },
      "text/plain": [
       "dist1 loop:   0%|          | 0/1000 [00:00<?, ?it/s]"
      ]
     },
     "metadata": {},
     "output_type": "display_data"
    },
    {
     "name": "stdout",
     "output_type": "stream",
     "text": [
      "[[489   0]\n",
      " [  5 506]]\n",
      "              precision    recall  f1-score   support\n",
      "\n",
      "  Non-planar       0.99      1.00      0.99       489\n",
      "      Planar       1.00      0.99      1.00       511\n",
      "\n",
      "    accuracy                           0.99      1000\n",
      "   macro avg       0.99      1.00      0.99      1000\n",
      "weighted avg       1.00      0.99      1.00      1000\n",
      "\n",
      "\n",
      "\t### Score: 99.50% (precision for planar: 1.000 & non-planar: 0.990)\n",
      "\n",
      "\t### 8 NODES ###\n"
     ]
    },
    {
     "data": {
      "application/vnd.jupyter.widget-view+json": {
       "model_id": "d47ed2f445414622a6a56c5c098aed8a",
       "version_major": 2,
       "version_minor": 0
      },
      "text/plain": [
       "  0%|          | 0/1000 [00:00<?, ?it/s]"
      ]
     },
     "metadata": {},
     "output_type": "display_data"
    },
    {
     "data": {
      "application/vnd.jupyter.widget-view+json": {
       "model_id": "67f43202367845139e9deceefe2717c8",
       "version_major": 2,
       "version_minor": 0
      },
      "text/plain": [
       "  0%|          | 0/1000 [00:00<?, ?it/s]"
      ]
     },
     "metadata": {},
     "output_type": "display_data"
    },
    {
     "data": {
      "application/vnd.jupyter.widget-view+json": {
       "model_id": "a35dfd3556404532b1c891879f9fb8ef",
       "version_major": 2,
       "version_minor": 0
      },
      "text/plain": [
       "dist1 loop:   0%|          | 0/1000 [00:00<?, ?it/s]"
      ]
     },
     "metadata": {},
     "output_type": "display_data"
    },
    {
     "name": "stdout",
     "output_type": "stream",
     "text": [
      "[[445   0]\n",
      " [  0 555]]\n",
      "              precision    recall  f1-score   support\n",
      "\n",
      "  Non-planar       1.00      1.00      1.00       445\n",
      "      Planar       1.00      1.00      1.00       555\n",
      "\n",
      "    accuracy                           1.00      1000\n",
      "   macro avg       1.00      1.00      1.00      1000\n",
      "weighted avg       1.00      1.00      1.00      1000\n",
      "\n",
      "\n",
      "\t### Score: 100.00% (precision for planar: 1.000 & non-planar: 1.000)\n",
      "\n",
      "\t### 9 NODES ###\n"
     ]
    },
    {
     "data": {
      "application/vnd.jupyter.widget-view+json": {
       "model_id": "a6074241a5b74832b1d6082a8b98fa37",
       "version_major": 2,
       "version_minor": 0
      },
      "text/plain": [
       "  0%|          | 0/1000 [00:00<?, ?it/s]"
      ]
     },
     "metadata": {},
     "output_type": "display_data"
    },
    {
     "data": {
      "application/vnd.jupyter.widget-view+json": {
       "model_id": "b23f5efe934a4e0bac59bdeb416fd3d4",
       "version_major": 2,
       "version_minor": 0
      },
      "text/plain": [
       "  0%|          | 0/1000 [00:00<?, ?it/s]"
      ]
     },
     "metadata": {},
     "output_type": "display_data"
    },
    {
     "data": {
      "application/vnd.jupyter.widget-view+json": {
       "model_id": "e45d81999b6d43568b0f906a87a38195",
       "version_major": 2,
       "version_minor": 0
      },
      "text/plain": [
       "dist1 loop:   0%|          | 0/1000 [00:00<?, ?it/s]"
      ]
     },
     "metadata": {},
     "output_type": "display_data"
    },
    {
     "name": "stdout",
     "output_type": "stream",
     "text": [
      "[[454   0]\n",
      " [  0 546]]\n",
      "              precision    recall  f1-score   support\n",
      "\n",
      "  Non-planar       1.00      1.00      1.00       454\n",
      "      Planar       1.00      1.00      1.00       546\n",
      "\n",
      "    accuracy                           1.00      1000\n",
      "   macro avg       1.00      1.00      1.00      1000\n",
      "weighted avg       1.00      1.00      1.00      1000\n",
      "\n",
      "\n",
      "\t### Score: 100.00% (precision for planar: 1.000 & non-planar: 1.000)\n",
      "\n",
      "\t### 10 NODES ###\n"
     ]
    },
    {
     "data": {
      "application/vnd.jupyter.widget-view+json": {
       "model_id": "e2d9a5158ab245ee9b8902394fd8df3a",
       "version_major": 2,
       "version_minor": 0
      },
      "text/plain": [
       "  0%|          | 0/1000 [00:00<?, ?it/s]"
      ]
     },
     "metadata": {},
     "output_type": "display_data"
    },
    {
     "data": {
      "application/vnd.jupyter.widget-view+json": {
       "model_id": "b5a0c48c32814adca52307808cf2cc48",
       "version_major": 2,
       "version_minor": 0
      },
      "text/plain": [
       "  0%|          | 0/1000 [00:00<?, ?it/s]"
      ]
     },
     "metadata": {},
     "output_type": "display_data"
    },
    {
     "data": {
      "application/vnd.jupyter.widget-view+json": {
       "model_id": "e9c2eba7b0c543c78a87b58e85c4167d",
       "version_major": 2,
       "version_minor": 0
      },
      "text/plain": [
       "dist1 loop:   0%|          | 0/1000 [00:00<?, ?it/s]"
      ]
     },
     "metadata": {},
     "output_type": "display_data"
    },
    {
     "name": "stdout",
     "output_type": "stream",
     "text": [
      "[[537   0]\n",
      " [  0 463]]\n",
      "              precision    recall  f1-score   support\n",
      "\n",
      "  Non-planar       1.00      1.00      1.00       537\n",
      "      Planar       1.00      1.00      1.00       463\n",
      "\n",
      "    accuracy                           1.00      1000\n",
      "   macro avg       1.00      1.00      1.00      1000\n",
      "weighted avg       1.00      1.00      1.00      1000\n",
      "\n",
      "\n",
      "\t### Score: 100.00% (precision for planar: 1.000 & non-planar: 1.000)\n",
      "\n",
      "\t### 11 NODES ###\n"
     ]
    },
    {
     "data": {
      "application/vnd.jupyter.widget-view+json": {
       "model_id": "81e4d06939c44302bc34d29f833d4f32",
       "version_major": 2,
       "version_minor": 0
      },
      "text/plain": [
       "  0%|          | 0/1000 [00:00<?, ?it/s]"
      ]
     },
     "metadata": {},
     "output_type": "display_data"
    },
    {
     "data": {
      "application/vnd.jupyter.widget-view+json": {
       "model_id": "1d091e7dcd5d4276ba373b015e4f7cc1",
       "version_major": 2,
       "version_minor": 0
      },
      "text/plain": [
       "  0%|          | 0/1000 [00:00<?, ?it/s]"
      ]
     },
     "metadata": {},
     "output_type": "display_data"
    },
    {
     "data": {
      "application/vnd.jupyter.widget-view+json": {
       "model_id": "780fbfa9517c464f969303513b65dfe8",
       "version_major": 2,
       "version_minor": 0
      },
      "text/plain": [
       "dist1 loop:   0%|          | 0/1000 [00:00<?, ?it/s]"
      ]
     },
     "metadata": {},
     "output_type": "display_data"
    },
    {
     "name": "stdout",
     "output_type": "stream",
     "text": [
      "[[538  17]\n",
      " [ 32 413]]\n",
      "              precision    recall  f1-score   support\n",
      "\n",
      "  Non-planar       0.94      0.97      0.96       555\n",
      "      Planar       0.96      0.93      0.94       445\n",
      "\n",
      "    accuracy                           0.95      1000\n",
      "   macro avg       0.95      0.95      0.95      1000\n",
      "weighted avg       0.95      0.95      0.95      1000\n",
      "\n",
      "\n",
      "\t### Score: 95.10% (precision for planar: 0.960 & non-planar: 0.944)\n",
      "\n",
      "\t### 12 NODES ###\n"
     ]
    },
    {
     "data": {
      "application/vnd.jupyter.widget-view+json": {
       "model_id": "7051b51aaf664ff1af355eecbedc81d2",
       "version_major": 2,
       "version_minor": 0
      },
      "text/plain": [
       "  0%|          | 0/1000 [00:00<?, ?it/s]"
      ]
     },
     "metadata": {},
     "output_type": "display_data"
    },
    {
     "data": {
      "application/vnd.jupyter.widget-view+json": {
       "model_id": "af5ba86185484f558d0b570e58aac784",
       "version_major": 2,
       "version_minor": 0
      },
      "text/plain": [
       "  0%|          | 0/1000 [00:00<?, ?it/s]"
      ]
     },
     "metadata": {},
     "output_type": "display_data"
    },
    {
     "data": {
      "application/vnd.jupyter.widget-view+json": {
       "model_id": "ce8b611946194368abd471350da10dcf",
       "version_major": 2,
       "version_minor": 0
      },
      "text/plain": [
       "dist1 loop:   0%|          | 0/1000 [00:00<?, ?it/s]"
      ]
     },
     "metadata": {},
     "output_type": "display_data"
    },
    {
     "name": "stdout",
     "output_type": "stream",
     "text": [
      "[[558   0]\n",
      " [ 38 404]]\n",
      "              precision    recall  f1-score   support\n",
      "\n",
      "  Non-planar       0.94      1.00      0.97       558\n",
      "      Planar       1.00      0.91      0.96       442\n",
      "\n",
      "    accuracy                           0.96      1000\n",
      "   macro avg       0.97      0.96      0.96      1000\n",
      "weighted avg       0.96      0.96      0.96      1000\n",
      "\n",
      "\n",
      "\t### Score: 96.20% (precision for planar: 1.000 & non-planar: 0.936)\n",
      "\n",
      "\t### 13 NODES ###\n"
     ]
    },
    {
     "data": {
      "application/vnd.jupyter.widget-view+json": {
       "model_id": "7bb46437b423453cbbad9b59aaa8fcd0",
       "version_major": 2,
       "version_minor": 0
      },
      "text/plain": [
       "  0%|          | 0/1000 [00:00<?, ?it/s]"
      ]
     },
     "metadata": {},
     "output_type": "display_data"
    },
    {
     "data": {
      "application/vnd.jupyter.widget-view+json": {
       "model_id": "32f2a9a59a8b49feb6a5db018e4f5552",
       "version_major": 2,
       "version_minor": 0
      },
      "text/plain": [
       "  0%|          | 0/1000 [00:00<?, ?it/s]"
      ]
     },
     "metadata": {},
     "output_type": "display_data"
    },
    {
     "data": {
      "application/vnd.jupyter.widget-view+json": {
       "model_id": "9286c0703a774a0f91e9b8f8d653205a",
       "version_major": 2,
       "version_minor": 0
      },
      "text/plain": [
       "dist1 loop:   0%|          | 0/1000 [00:00<?, ?it/s]"
      ]
     },
     "metadata": {},
     "output_type": "display_data"
    },
    {
     "name": "stdout",
     "output_type": "stream",
     "text": [
      "[[590   0]\n",
      " [ 28 382]]\n",
      "              precision    recall  f1-score   support\n",
      "\n",
      "  Non-planar       0.95      1.00      0.98       590\n",
      "      Planar       1.00      0.93      0.96       410\n",
      "\n",
      "    accuracy                           0.97      1000\n",
      "   macro avg       0.98      0.97      0.97      1000\n",
      "weighted avg       0.97      0.97      0.97      1000\n",
      "\n",
      "\n",
      "\t### Score: 97.20% (precision for planar: 1.000 & non-planar: 0.955)\n",
      "\n",
      "\t### 14 NODES ###\n"
     ]
    },
    {
     "data": {
      "application/vnd.jupyter.widget-view+json": {
       "model_id": "d6c4eef00b96437cb438fbeade635ef0",
       "version_major": 2,
       "version_minor": 0
      },
      "text/plain": [
       "  0%|          | 0/1000 [00:00<?, ?it/s]"
      ]
     },
     "metadata": {},
     "output_type": "display_data"
    },
    {
     "data": {
      "application/vnd.jupyter.widget-view+json": {
       "model_id": "7fdcefa6066b40528694cec7d36a66c3",
       "version_major": 2,
       "version_minor": 0
      },
      "text/plain": [
       "  0%|          | 0/1000 [00:00<?, ?it/s]"
      ]
     },
     "metadata": {},
     "output_type": "display_data"
    },
    {
     "data": {
      "application/vnd.jupyter.widget-view+json": {
       "model_id": "5415d0757e214cc5a14fa99168885df7",
       "version_major": 2,
       "version_minor": 0
      },
      "text/plain": [
       "dist1 loop:   0%|          | 0/1000 [00:00<?, ?it/s]"
      ]
     },
     "metadata": {},
     "output_type": "display_data"
    },
    {
     "name": "stdout",
     "output_type": "stream",
     "text": [
      "[[632   0]\n",
      " [ 55 313]]\n",
      "              precision    recall  f1-score   support\n",
      "\n",
      "  Non-planar       0.92      1.00      0.96       632\n",
      "      Planar       1.00      0.85      0.92       368\n",
      "\n",
      "    accuracy                           0.94      1000\n",
      "   macro avg       0.96      0.93      0.94      1000\n",
      "weighted avg       0.95      0.94      0.94      1000\n",
      "\n",
      "\n",
      "\t### Score: 94.50% (precision for planar: 1.000 & non-planar: 0.920)\n",
      "\n",
      "\t### 15 NODES ###\n"
     ]
    },
    {
     "data": {
      "application/vnd.jupyter.widget-view+json": {
       "model_id": "7d1f53652f0e4cc8bc6c5e77937348d0",
       "version_major": 2,
       "version_minor": 0
      },
      "text/plain": [
       "  0%|          | 0/1000 [00:00<?, ?it/s]"
      ]
     },
     "metadata": {},
     "output_type": "display_data"
    },
    {
     "data": {
      "application/vnd.jupyter.widget-view+json": {
       "model_id": "6eb208830e384459aabc02fdc88d4ae2",
       "version_major": 2,
       "version_minor": 0
      },
      "text/plain": [
       "  0%|          | 0/1000 [00:00<?, ?it/s]"
      ]
     },
     "metadata": {},
     "output_type": "display_data"
    },
    {
     "data": {
      "application/vnd.jupyter.widget-view+json": {
       "model_id": "a078c40d75184d11bde80f62513d7e22",
       "version_major": 2,
       "version_minor": 0
      },
      "text/plain": [
       "dist1 loop:   0%|          | 0/1000 [00:00<?, ?it/s]"
      ]
     },
     "metadata": {},
     "output_type": "display_data"
    },
    {
     "name": "stdout",
     "output_type": "stream",
     "text": [
      "[[601   0]\n",
      " [ 88 311]]\n",
      "              precision    recall  f1-score   support\n",
      "\n",
      "  Non-planar       0.87      1.00      0.93       601\n",
      "      Planar       1.00      0.78      0.88       399\n",
      "\n",
      "    accuracy                           0.91      1000\n",
      "   macro avg       0.94      0.89      0.90      1000\n",
      "weighted avg       0.92      0.91      0.91      1000\n",
      "\n",
      "\n",
      "\t### Score: 91.20% (precision for planar: 1.000 & non-planar: 0.872)\n"
     ]
    },
    {
     "data": {
      "image/png": "[encoded data removed]",
      "text/plain": [
       "<Figure size 432x288 with 1 Axes>"
      ]
     },
     "metadata": {
      "needs_background": "light"
     },
     "output_type": "display_data"
    },
    {
     "data": {
      "text/plain": [
       "[(1.0, 1, 1),\n",
       " (1.0, 1, 1),\n",
       " (1.0, 1.0, 1.0),\n",
       " (1.0, 1.0, 1.0),\n",
       " (0.995, 0.9898785425101214, 1.0),\n",
       " (1.0, 1.0, 1.0),\n",
       " (1.0, 1.0, 1.0),\n",
       " (1.0, 1.0, 1.0),\n",
       " (0.951, 0.9438596491228071, 0.9604651162790697),\n",
       " (0.962, 0.9362416107382551, 1.0),\n",
       " (0.972, 0.9546925566343042, 1.0),\n",
       " (0.945, 0.9199417758369723, 1.0),\n",
       " (0.912, 0.872278664731495, 1.0)]"
      ]
     },
     "execution_count": 33,
     "metadata": {},
     "output_type": "execute_result"
    }
   ],
   "source": [
    "from qplanarity import test_suite\n",
    "\n",
    "# times = [2.1, 1.6]\n",
    "# pulses = [0.2, 0.1]\n",
    "train_ns = range(3, 11)\n",
    "train_nbs = 2 * [50] + 3 * [100] + 3 * [200]\n",
    "generator = 'binomial'\n",
    "\n",
    "test_suite(times, pulses, train_ns, train_nbs, generator, seed=21)"
   ]
  },
  {
   "cell_type": "code",
   "execution_count": 48,
   "id": "83beef9c",
   "metadata": {},
   "outputs": [],
   "source": [
    "times_taken = [0, 0, 0, 4, 6, 7, 8, 10, 12, 15, 22, 36, 63, 115, 223, 506]"
   ]
  },
  {
   "cell_type": "code",
   "execution_count": 63,
   "id": "f8876791",
   "metadata": {},
   "outputs": [],
   "source": [
    "def time_required(n_max):\n",
    "    assert n_max >= 11, 'Useless for small number of nodes'\n",
    "    low = 10 * 5 # 3 to 7\n",
    "    med = 30 * 4 # 8 to 11\n",
    "    high = 32 * 2**(n_max - 11 + 1) # + 1 as it is the sum of all the powers of 2 below\n",
    "    tot = low + med + high\n",
    "    print(f\"{tot}s = {tot / 60:.2f}m = {tot/3600:.2f}h\")\n",
    "    return tot"
   ]
  },
  {
   "cell_type": "code",
   "execution_count": 66,
   "id": "18519b81",
   "metadata": {},
   "outputs": [
    {
     "name": "stdout",
     "output_type": "stream",
     "text": [
      "1194s = 19.90m = 0.33h\n"
     ]
    },
    {
     "data": {
      "text/plain": [
       "(1194, 1027)"
      ]
     },
     "execution_count": 66,
     "metadata": {},
     "output_type": "execute_result"
    }
   ],
   "source": [
    "time_required(len(times_taken) - 1), sum(times_taken)"
   ]
  },
  {
   "cell_type": "code",
   "execution_count": 69,
   "id": "ecf0bd16",
   "metadata": {},
   "outputs": [
    {
     "name": "stdout",
     "output_type": "stream",
     "text": [
      "8362s = 139.37m = 2.32h\n"
     ]
    },
    {
     "data": {
      "text/plain": [
       "8362"
      ]
     },
     "execution_count": 69,
     "metadata": {},
     "output_type": "execute_result"
    }
   ],
   "source": [
    "time_required(18)"
   ]
  },
  {
   "cell_type": "markdown",
   "id": "d16f8d38",
   "metadata": {},
   "source": [
    "# Scalability optimisation test"
   ]
  },
  {
   "cell_type": "code",
   "execution_count": null,
   "id": "e882589e",
   "metadata": {},
   "outputs": [],
   "source": [
    "def get_score(param):\n",
    "    \"\"\" \n",
    "    Uses global graphs, targets and observables_memoizer\n",
    "    \"\"\"\n",
    "    middle = len(param)//2\n",
    "    states = return_list_of_states(graphs, param[0:middle], param[middle::], evol='ising')\n",
    "    energies = return_energy_distribution(graphs, states, observables_memoizer.get_observable)\n",
    "    matrix = return_js_matrix(energies)\n",
    "    K = np.exp(-matrix)\n",
    "    C_list = np.logspace(-3, 3, 7)\n",
    "\n",
    "    param_grid = {'C': C_list}\n",
    "    scoring = {'accuracy': make_scorer(accuracy_score),\n",
    "               'f1_score': make_scorer(f1_score, average='weighted')}\n",
    "\n",
    "    skf = RepeatedStratifiedKFold(10, 10, random_state=47)\n",
    "    estimator = svm.SVC(kernel='precomputed', random_state=76)\n",
    "    grid_search = GridSearchCV(estimator, param_grid, scoring=scoring,\n",
    "                                    cv=skf, refit=False, n_jobs=-1)\n",
    "    result = grid_search.fit(K, targets).cv_results_\n",
    "    return -np.max(result['mean_test_accuracy'])\n",
    "    \n"
   ]
  },
  {
   "cell_type": "code",
   "execution_count": 75,
   "id": "efb52451",
   "metadata": {},
   "outputs": [
    {
     "name": "stdout",
     "output_type": "stream",
     "text": [
      "\n",
      "\t### 8 NODES ###\n",
      "Iteration No: 1 started. Evaluating function at random point.\n"
     ]
    },
    {
     "name": "stderr",
     "output_type": "stream",
     "text": [
      "/Users/romainfouilland/.pyenv/versions/3.8.3/lib/python3.8/site-packages/sklearn/utils/validation.py:70: FutureWarning: Pass n_splits=10, n_repeats=10 as keyword args. From version 1.0 (renaming of 0.25) passing these as positional arguments will result in an error\n",
      "  warnings.warn(f\"Pass {args_msg} as keyword args. From version \"\n"
     ]
    },
    {
     "name": "stdout",
     "output_type": "stream",
     "text": [
      "Iteration No: 1 ended. Evaluation done at random point.\n",
      "Time taken: 19.7023\n",
      "Function value obtained: -1.0000\n",
      "Current minimum: -1.0000\n",
      "Iteration No: 2 started. Evaluating function at random point.\n"
     ]
    },
    {
     "name": "stderr",
     "output_type": "stream",
     "text": [
      "/Users/romainfouilland/.pyenv/versions/3.8.3/lib/python3.8/site-packages/sklearn/utils/validation.py:70: FutureWarning: Pass n_splits=10, n_repeats=10 as keyword args. From version 1.0 (renaming of 0.25) passing these as positional arguments will result in an error\n",
      "  warnings.warn(f\"Pass {args_msg} as keyword args. From version \"\n"
     ]
    },
    {
     "name": "stdout",
     "output_type": "stream",
     "text": [
      "Iteration No: 2 ended. Evaluation done at random point.\n",
      "Time taken: 18.5129\n",
      "Function value obtained: -1.0000\n",
      "Current minimum: -1.0000\n",
      "Iteration No: 3 started. Evaluating function at random point.\n"
     ]
    },
    {
     "ename": "KeyboardInterrupt",
     "evalue": "",
     "output_type": "error",
     "traceback": [
      "\u001b[0;31m---------------------------------------------------------------------------\u001b[0m",
      "\u001b[0;31mKeyboardInterrupt\u001b[0m                         Traceback (most recent call last)",
      "\u001b[0;32m<ipython-input-75-bbff3c84d20e>\u001b[0m in \u001b[0;36m<module>\u001b[0;34m\u001b[0m\n\u001b[1;32m     12\u001b[0m     \u001b[0mobservables_memoizer\u001b[0m \u001b[0;34m=\u001b[0m \u001b[0mMemoizer\u001b[0m\u001b[0;34m(\u001b[0m\u001b[0mobservable\u001b[0m\u001b[0;34m)\u001b[0m\u001b[0;34m\u001b[0m\u001b[0;34m\u001b[0m\u001b[0m\n\u001b[1;32m     13\u001b[0m     \u001b[0;31m# Find optimized parameters\u001b[0m\u001b[0;34m\u001b[0m\u001b[0;34m\u001b[0m\u001b[0;34m\u001b[0m\u001b[0m\n\u001b[0;32m---> 14\u001b[0;31m     opt_result = gp_minimize(\n\u001b[0m\u001b[1;32m     15\u001b[0m         \u001b[0mget_score\u001b[0m\u001b[0;34m,\u001b[0m\u001b[0;34m\u001b[0m\u001b[0;34m\u001b[0m\u001b[0m\n\u001b[1;32m     16\u001b[0m         \u001b[0mbounds\u001b[0m\u001b[0;34m,\u001b[0m\u001b[0;34m\u001b[0m\u001b[0;34m\u001b[0m\u001b[0m\n",
      "\u001b[0;32m~/.pyenv/versions/3.8.3/lib/python3.8/site-packages/skopt/optimizer/gp.py\u001b[0m in \u001b[0;36mgp_minimize\u001b[0;34m(func, dimensions, base_estimator, n_calls, n_random_starts, n_initial_points, initial_point_generator, acq_func, acq_optimizer, x0, y0, random_state, verbose, callback, n_points, n_restarts_optimizer, xi, kappa, noise, n_jobs, model_queue_size)\u001b[0m\n\u001b[1;32m    257\u001b[0m             noise=noise)\n\u001b[1;32m    258\u001b[0m \u001b[0;34m\u001b[0m\u001b[0m\n\u001b[0;32m--> 259\u001b[0;31m     return base_minimize(\n\u001b[0m\u001b[1;32m    260\u001b[0m         \u001b[0mfunc\u001b[0m\u001b[0;34m,\u001b[0m \u001b[0mspace\u001b[0m\u001b[0;34m,\u001b[0m \u001b[0mbase_estimator\u001b[0m\u001b[0;34m=\u001b[0m\u001b[0mbase_estimator\u001b[0m\u001b[0;34m,\u001b[0m\u001b[0;34m\u001b[0m\u001b[0;34m\u001b[0m\u001b[0m\n\u001b[1;32m    261\u001b[0m         \u001b[0macq_func\u001b[0m\u001b[0;34m=\u001b[0m\u001b[0macq_func\u001b[0m\u001b[0;34m,\u001b[0m\u001b[0;34m\u001b[0m\u001b[0;34m\u001b[0m\u001b[0m\n",
      "\u001b[0;32m~/.pyenv/versions/3.8.3/lib/python3.8/site-packages/skopt/optimizer/base.py\u001b[0m in \u001b[0;36mbase_minimize\u001b[0;34m(func, dimensions, base_estimator, n_calls, n_random_starts, n_initial_points, initial_point_generator, acq_func, acq_optimizer, x0, y0, random_state, verbose, callback, n_points, n_restarts_optimizer, xi, kappa, n_jobs, model_queue_size)\u001b[0m\n\u001b[1;32m    299\u001b[0m     \u001b[0;32mfor\u001b[0m \u001b[0mn\u001b[0m \u001b[0;32min\u001b[0m \u001b[0mrange\u001b[0m\u001b[0;34m(\u001b[0m\u001b[0mn_calls\u001b[0m\u001b[0;34m)\u001b[0m\u001b[0;34m:\u001b[0m\u001b[0;34m\u001b[0m\u001b[0;34m\u001b[0m\u001b[0m\n\u001b[1;32m    300\u001b[0m         \u001b[0mnext_x\u001b[0m \u001b[0;34m=\u001b[0m \u001b[0moptimizer\u001b[0m\u001b[0;34m.\u001b[0m\u001b[0mask\u001b[0m\u001b[0;34m(\u001b[0m\u001b[0;34m)\u001b[0m\u001b[0;34m\u001b[0m\u001b[0;34m\u001b[0m\u001b[0m\n\u001b[0;32m--> 301\u001b[0;31m         \u001b[0mnext_y\u001b[0m \u001b[0;34m=\u001b[0m \u001b[0mfunc\u001b[0m\u001b[0;34m(\u001b[0m\u001b[0mnext_x\u001b[0m\u001b[0;34m)\u001b[0m\u001b[0;34m\u001b[0m\u001b[0;34m\u001b[0m\u001b[0m\n\u001b[0m\u001b[1;32m    302\u001b[0m         \u001b[0mresult\u001b[0m \u001b[0;34m=\u001b[0m \u001b[0moptimizer\u001b[0m\u001b[0;34m.\u001b[0m\u001b[0mtell\u001b[0m\u001b[0;34m(\u001b[0m\u001b[0mnext_x\u001b[0m\u001b[0;34m,\u001b[0m \u001b[0mnext_y\u001b[0m\u001b[0;34m)\u001b[0m\u001b[0;34m\u001b[0m\u001b[0;34m\u001b[0m\u001b[0m\n\u001b[1;32m    303\u001b[0m         \u001b[0mresult\u001b[0m\u001b[0;34m.\u001b[0m\u001b[0mspecs\u001b[0m \u001b[0;34m=\u001b[0m \u001b[0mspecs\u001b[0m\u001b[0;34m\u001b[0m\u001b[0;34m\u001b[0m\u001b[0m\n",
      "\u001b[0;32m<ipython-input-26-389661e287e1>\u001b[0m in \u001b[0;36mget_score\u001b[0;34m(param)\u001b[0m\n\u001b[1;32m      1\u001b[0m \u001b[0;32mdef\u001b[0m \u001b[0mget_score\u001b[0m\u001b[0;34m(\u001b[0m\u001b[0mparam\u001b[0m\u001b[0;34m)\u001b[0m\u001b[0;34m:\u001b[0m\u001b[0;34m\u001b[0m\u001b[0;34m\u001b[0m\u001b[0m\n\u001b[1;32m      2\u001b[0m     \u001b[0mmiddle\u001b[0m \u001b[0;34m=\u001b[0m \u001b[0mlen\u001b[0m\u001b[0;34m(\u001b[0m\u001b[0mparam\u001b[0m\u001b[0;34m)\u001b[0m\u001b[0;34m//\u001b[0m\u001b[0;36m2\u001b[0m\u001b[0;34m\u001b[0m\u001b[0;34m\u001b[0m\u001b[0m\n\u001b[0;32m----> 3\u001b[0;31m     \u001b[0mstates\u001b[0m \u001b[0;34m=\u001b[0m \u001b[0mreturn_list_of_states\u001b[0m\u001b[0;34m(\u001b[0m\u001b[0mgraphs\u001b[0m\u001b[0;34m,\u001b[0m \u001b[0mparam\u001b[0m\u001b[0;34m[\u001b[0m\u001b[0;36m0\u001b[0m\u001b[0;34m:\u001b[0m\u001b[0mmiddle\u001b[0m\u001b[0;34m]\u001b[0m\u001b[0;34m,\u001b[0m \u001b[0mparam\u001b[0m\u001b[0;34m[\u001b[0m\u001b[0mmiddle\u001b[0m\u001b[0;34m:\u001b[0m\u001b[0;34m:\u001b[0m\u001b[0;34m]\u001b[0m\u001b[0;34m,\u001b[0m \u001b[0mevol\u001b[0m\u001b[0;34m=\u001b[0m\u001b[0;34m'ising'\u001b[0m\u001b[0;34m)\u001b[0m\u001b[0;34m\u001b[0m\u001b[0;34m\u001b[0m\u001b[0m\n\u001b[0m\u001b[1;32m      4\u001b[0m     \u001b[0menergies\u001b[0m \u001b[0;34m=\u001b[0m \u001b[0mreturn_energy_distribution\u001b[0m\u001b[0;34m(\u001b[0m\u001b[0mgraphs\u001b[0m\u001b[0;34m,\u001b[0m \u001b[0mstates\u001b[0m\u001b[0;34m,\u001b[0m \u001b[0mobservables_memoizer\u001b[0m\u001b[0;34m.\u001b[0m\u001b[0mget_observable\u001b[0m\u001b[0;34m)\u001b[0m\u001b[0;34m\u001b[0m\u001b[0;34m\u001b[0m\u001b[0m\n\u001b[1;32m      5\u001b[0m     \u001b[0mmatrix\u001b[0m \u001b[0;34m=\u001b[0m \u001b[0mreturn_js_matrix\u001b[0m\u001b[0;34m(\u001b[0m\u001b[0menergies\u001b[0m\u001b[0;34m)\u001b[0m\u001b[0;34m\u001b[0m\u001b[0;34m\u001b[0m\u001b[0m\n",
      "\u001b[0;32m~/code/qgraph/utils.py\u001b[0m in \u001b[0;36mreturn_list_of_states\u001b[0;34m(graphs_list, times, pulses, evol, verbose)\u001b[0m\n\u001b[1;32m    258\u001b[0m     \u001b[0mall_states\u001b[0m \u001b[0;34m=\u001b[0m \u001b[0;34m[\u001b[0m\u001b[0;34m]\u001b[0m\u001b[0;34m\u001b[0m\u001b[0;34m\u001b[0m\u001b[0m\n\u001b[1;32m    259\u001b[0m     \u001b[0;32mfor\u001b[0m \u001b[0mG\u001b[0m \u001b[0;32min\u001b[0m \u001b[0mtqdm\u001b[0m\u001b[0;34m(\u001b[0m\u001b[0mgraphs_list\u001b[0m\u001b[0;34m,\u001b[0m \u001b[0mdisable\u001b[0m\u001b[0;34m=\u001b[0m\u001b[0mverbose\u001b[0m\u001b[0;34m==\u001b[0m\u001b[0;36m0\u001b[0m\u001b[0;34m)\u001b[0m\u001b[0;34m:\u001b[0m\u001b[0;34m\u001b[0m\u001b[0;34m\u001b[0m\u001b[0m\n\u001b[0;32m--> 260\u001b[0;31m         \u001b[0mall_states\u001b[0m\u001b[0;34m.\u001b[0m\u001b[0mappend\u001b[0m\u001b[0;34m(\u001b[0m\u001b[0mreturn_evolution\u001b[0m\u001b[0;34m(\u001b[0m\u001b[0mG\u001b[0m\u001b[0;34m,\u001b[0m \u001b[0mtimes\u001b[0m\u001b[0;34m,\u001b[0m \u001b[0mpulses\u001b[0m\u001b[0;34m,\u001b[0m \u001b[0mevol\u001b[0m\u001b[0;34m)\u001b[0m\u001b[0;34m)\u001b[0m\u001b[0;34m\u001b[0m\u001b[0;34m\u001b[0m\u001b[0m\n\u001b[0m\u001b[1;32m    261\u001b[0m     \u001b[0;32mreturn\u001b[0m \u001b[0mall_states\u001b[0m\u001b[0;34m\u001b[0m\u001b[0;34m\u001b[0m\u001b[0m\n\u001b[1;32m    262\u001b[0m \u001b[0;34m\u001b[0m\u001b[0m\n",
      "\u001b[0;32m~/code/qgraph/utils.py\u001b[0m in \u001b[0;36mreturn_evolution\u001b[0;34m(G, times, pulses, evol)\u001b[0m\n\u001b[1;32m    223\u001b[0m     \u001b[0;32mfor\u001b[0m \u001b[0mi\u001b[0m\u001b[0;34m,\u001b[0m \u001b[0mtheta\u001b[0m \u001b[0;32min\u001b[0m \u001b[0menumerate\u001b[0m\u001b[0;34m(\u001b[0m\u001b[0mpulses\u001b[0m\u001b[0;34m)\u001b[0m\u001b[0;34m:\u001b[0m\u001b[0;34m\u001b[0m\u001b[0;34m\u001b[0m\u001b[0m\n\u001b[1;32m    224\u001b[0m         \u001b[0;32mif\u001b[0m \u001b[0mnp\u001b[0m\u001b[0;34m.\u001b[0m\u001b[0mabs\u001b[0m\u001b[0;34m(\u001b[0m\u001b[0mtheta\u001b[0m\u001b[0;34m)\u001b[0m \u001b[0;34m>\u001b[0m \u001b[0;36m0\u001b[0m\u001b[0;34m:\u001b[0m\u001b[0;34m\u001b[0m\u001b[0;34m\u001b[0m\u001b[0m\n\u001b[0;32m--> 225\u001b[0;31m             \u001b[0mresult\u001b[0m \u001b[0;34m=\u001b[0m \u001b[0msesolve\u001b[0m\u001b[0;34m(\u001b[0m\u001b[0mH_m\u001b[0m\u001b[0;34m,\u001b[0m \u001b[0mstate\u001b[0m\u001b[0;34m,\u001b[0m \u001b[0;34m[\u001b[0m\u001b[0;36m0\u001b[0m\u001b[0;34m,\u001b[0m \u001b[0mtheta\u001b[0m\u001b[0;34m]\u001b[0m\u001b[0;34m,\u001b[0m \u001b[0moptions\u001b[0m\u001b[0;34m=\u001b[0m\u001b[0mopts\u001b[0m\u001b[0;34m)\u001b[0m\u001b[0;34m\u001b[0m\u001b[0;34m\u001b[0m\u001b[0m\n\u001b[0m\u001b[1;32m    226\u001b[0m             \u001b[0mstate\u001b[0m \u001b[0;34m=\u001b[0m \u001b[0mresult\u001b[0m\u001b[0;34m.\u001b[0m\u001b[0mstates\u001b[0m\u001b[0;34m[\u001b[0m\u001b[0;34m-\u001b[0m\u001b[0;36m1\u001b[0m\u001b[0;34m]\u001b[0m\u001b[0;34m\u001b[0m\u001b[0;34m\u001b[0m\u001b[0m\n\u001b[1;32m    227\u001b[0m         \u001b[0;32mif\u001b[0m \u001b[0mnp\u001b[0m\u001b[0;34m.\u001b[0m\u001b[0mabs\u001b[0m\u001b[0;34m(\u001b[0m\u001b[0mtimes\u001b[0m\u001b[0;34m[\u001b[0m\u001b[0mi\u001b[0m\u001b[0;34m]\u001b[0m\u001b[0;34m)\u001b[0m \u001b[0;34m>\u001b[0m \u001b[0;36m0\u001b[0m\u001b[0;34m:\u001b[0m\u001b[0;34m\u001b[0m\u001b[0;34m\u001b[0m\u001b[0m\n",
      "\u001b[0;32m~/.pyenv/versions/3.8.3/lib/python3.8/site-packages/qutip/sesolve.py\u001b[0m in \u001b[0;36msesolve\u001b[0;34m(H, psi0, tlist, e_ops, args, options, progress_bar, _safe_mode)\u001b[0m\n\u001b[1;32m    161\u001b[0m         \u001b[0mfunc\u001b[0m\u001b[0;34m(\u001b[0m\u001b[0;36m0.\u001b[0m\u001b[0;34m,\u001b[0m \u001b[0mv\u001b[0m\u001b[0;34m,\u001b[0m \u001b[0;34m*\u001b[0m\u001b[0mode_args\u001b[0m\u001b[0;34m)\u001b[0m \u001b[0;34m+\u001b[0m \u001b[0mv\u001b[0m\u001b[0;34m\u001b[0m\u001b[0;34m\u001b[0m\u001b[0m\n\u001b[1;32m    162\u001b[0m \u001b[0;34m\u001b[0m\u001b[0m\n\u001b[0;32m--> 163\u001b[0;31m     res = _generic_ode_solve(func, ode_args, psi0, tlist, e_ops, options,\n\u001b[0m\u001b[1;32m    164\u001b[0m                              progress_bar, dims=psi0.dims)\n\u001b[1;32m    165\u001b[0m     \u001b[0;32mif\u001b[0m \u001b[0me_ops_dict\u001b[0m\u001b[0;34m:\u001b[0m\u001b[0;34m\u001b[0m\u001b[0;34m\u001b[0m\u001b[0m\n",
      "\u001b[0;32m~/.pyenv/versions/3.8.3/lib/python3.8/site-packages/qutip/sesolve.py\u001b[0m in \u001b[0;36m_generic_ode_solve\u001b[0;34m(func, ode_args, psi0, tlist, e_ops, opt, progress_bar, dims)\u001b[0m\n\u001b[1;32m    383\u001b[0m \u001b[0;34m\u001b[0m\u001b[0m\n\u001b[1;32m    384\u001b[0m         \u001b[0;32mif\u001b[0m \u001b[0mt_idx\u001b[0m \u001b[0;34m<\u001b[0m \u001b[0mn_tsteps\u001b[0m \u001b[0;34m-\u001b[0m \u001b[0;36m1\u001b[0m\u001b[0;34m:\u001b[0m\u001b[0;34m\u001b[0m\u001b[0;34m\u001b[0m\u001b[0m\n\u001b[0;32m--> 385\u001b[0;31m             \u001b[0mr\u001b[0m\u001b[0;34m.\u001b[0m\u001b[0mintegrate\u001b[0m\u001b[0;34m(\u001b[0m\u001b[0mr\u001b[0m\u001b[0;34m.\u001b[0m\u001b[0mt\u001b[0m \u001b[0;34m+\u001b[0m \u001b[0mdt\u001b[0m\u001b[0;34m[\u001b[0m\u001b[0mt_idx\u001b[0m\u001b[0;34m]\u001b[0m\u001b[0;34m)\u001b[0m\u001b[0;34m\u001b[0m\u001b[0;34m\u001b[0m\u001b[0m\n\u001b[0m\u001b[1;32m    386\u001b[0m \u001b[0;34m\u001b[0m\u001b[0m\n\u001b[1;32m    387\u001b[0m     \u001b[0mprogress_bar\u001b[0m\u001b[0;34m.\u001b[0m\u001b[0mfinished\u001b[0m\u001b[0;34m(\u001b[0m\u001b[0;34m)\u001b[0m\u001b[0;34m\u001b[0m\u001b[0;34m\u001b[0m\u001b[0m\n",
      "\u001b[0;32m~/.pyenv/versions/3.8.3/lib/python3.8/site-packages/scipy/integrate/_ode.py\u001b[0m in \u001b[0;36mintegrate\u001b[0;34m(self, t, step, relax)\u001b[0m\n\u001b[1;32m    431\u001b[0m \u001b[0;34m\u001b[0m\u001b[0m\n\u001b[1;32m    432\u001b[0m         \u001b[0;32mtry\u001b[0m\u001b[0;34m:\u001b[0m\u001b[0;34m\u001b[0m\u001b[0;34m\u001b[0m\u001b[0m\n\u001b[0;32m--> 433\u001b[0;31m             self._y, self.t = mth(self.f, self.jac or (lambda: None),\n\u001b[0m\u001b[1;32m    434\u001b[0m                                   \u001b[0mself\u001b[0m\u001b[0;34m.\u001b[0m\u001b[0m_y\u001b[0m\u001b[0;34m,\u001b[0m \u001b[0mself\u001b[0m\u001b[0;34m.\u001b[0m\u001b[0mt\u001b[0m\u001b[0;34m,\u001b[0m \u001b[0mt\u001b[0m\u001b[0;34m,\u001b[0m\u001b[0;34m\u001b[0m\u001b[0;34m\u001b[0m\u001b[0m\n\u001b[1;32m    435\u001b[0m                                   self.f_params, self.jac_params)\n",
      "\u001b[0;32m~/.pyenv/versions/3.8.3/lib/python3.8/site-packages/scipy/integrate/_ode.py\u001b[0m in \u001b[0;36mrun\u001b[0;34m(self, f, jac, y0, t0, t1, f_params, jac_params)\u001b[0m\n\u001b[1;32m   1007\u001b[0m         args = ((f, jac, y0, t0, t1) + tuple(self.call_args) +\n\u001b[1;32m   1008\u001b[0m                 (f_params, jac_params))\n\u001b[0;32m-> 1009\u001b[0;31m         \u001b[0my1\u001b[0m\u001b[0;34m,\u001b[0m \u001b[0mt\u001b[0m\u001b[0;34m,\u001b[0m \u001b[0mistate\u001b[0m \u001b[0;34m=\u001b[0m \u001b[0mself\u001b[0m\u001b[0;34m.\u001b[0m\u001b[0mrunner\u001b[0m\u001b[0;34m(\u001b[0m\u001b[0;34m*\u001b[0m\u001b[0margs\u001b[0m\u001b[0;34m)\u001b[0m\u001b[0;34m\u001b[0m\u001b[0;34m\u001b[0m\u001b[0m\n\u001b[0m\u001b[1;32m   1010\u001b[0m         \u001b[0mself\u001b[0m\u001b[0;34m.\u001b[0m\u001b[0mistate\u001b[0m \u001b[0;34m=\u001b[0m \u001b[0mistate\u001b[0m\u001b[0;34m\u001b[0m\u001b[0;34m\u001b[0m\u001b[0m\n\u001b[1;32m   1011\u001b[0m         \u001b[0;32mif\u001b[0m \u001b[0mistate\u001b[0m \u001b[0;34m<\u001b[0m \u001b[0;36m0\u001b[0m\u001b[0;34m:\u001b[0m\u001b[0;34m\u001b[0m\u001b[0;34m\u001b[0m\u001b[0m\n",
      "\u001b[0;31mKeyboardInterrupt\u001b[0m: "
     ]
    }
   ],
   "source": [
    "bounds = [(0., 3.)] * 2 + [(0., 1.)] * 2\n",
    "verbose = True\n",
    "metric = 'precision'\n",
    "\n",
    "scores = []\n",
    "ns = range(5, 16)\n",
    "N = 1000\n",
    "for n in ns:\n",
    "    if verbose: print(f\"\\n\\t### {n} NODES ###\")\n",
    "    # Generate data\n",
    "    graphs, targets = generate_graphs([n], [N], generator='binomial')\n",
    "    observables_memoizer = Memoizer(observable)\n",
    "    # Find optimized parameters\n",
    "    opt_result = gp_minimize(\n",
    "        get_score,\n",
    "        bounds,\n",
    "        acq_func='LCB',\n",
    "        n_calls=30,\n",
    "        n_initial_points=20,\n",
    "        acq_optimizer='sampling',\n",
    "        n_points=5000,\n",
    "        kappa=4,\n",
    "        n_jobs=-1,\n",
    "        verbose=True\n",
    "    )\n",
    "    i_best = np.argmin(opt_result.func_vals)\n",
    "    score = np.abs(opt_result.func_vals[i_best])\n",
    "    times = opt_result.x_iters[i_best][:2]\n",
    "    pulses = opt_result.x_iters[i_best][2:]\n",
    "    if verbose:\n",
    "        print(f\"Score {score:6.1%} obtained for times {times} and pulses {pulses}\")\n",
    "    \n",
    "    # Get trained model with found parameters\n",
    "    model, energies_masses, energies = get_trained_model(times, pulses, graphs, targets, verbose=True)\n",
    "    \n",
    "    # Use model to predict on test data\n",
    "    test_graphs, test_targets = generate_graphs([n], [N], generator='binomial')\n",
    "    y_pred, y_true, score = predict(model, times, pulses, test_graphs, test_targets, energies_masses, energies, verbose=verbose)\n",
    "    \n",
    "    score_p, score_np = analyse_pred(y_pred, y_true, score, metric=metric, verbose=verbose)\n",
    "    scores.append((score, score_p[metric], score_np[metric]))\n",
    "\n",
    "# Plot scores\n",
    "pd.DataFrame(scores, columns=['Global accuracy', f'Planar {metric}', f'Non-planar {metric}']).plot()\n",
    "plt.ylabel('Scores')\n",
    "plt.xlabel('Number of nodes')\n",
    "plt.title('Score of optimised model')\n",
    "plt.legend()\n",
    "plt.show()"
   ]
  },
  {
   "cell_type": "code",
   "execution_count": null,
   "id": "059295dd",
   "metadata": {},
   "outputs": [],
   "source": [
    "# 1 iteration with N=1000 at n=5 takes 14s\n",
    "# -> x30 = 7m\n",
    "# 1 iteration with N=1000 at n=10 takes 29s\n",
    "# -> x30 = 15m\n",
    "# 1 iteration with N=1000 at n=15 takes more than 3min...\n",
    "# -> x30 = \n",
    "# 1 iteration with N=1000 at n=8 takes 20s\n",
    "# -> x30 = 10m\n",
    "# 6h=360m / 30 \n",
    "# Limit to 10: 7 + 9 + 9 + 10 + 13 + 15 = 63"
   ]
  }
 ],
 "metadata": {
  "kernelspec": {
   "display_name": "Python 3",
   "language": "python",
   "name": "python3"
  },
  "language_info": {
   "codemirror_mode": {
    "name": "ipython",
    "version": 3
   },
   "file_extension": ".py",
   "mimetype": "text/x-python",
   "name": "python",
   "nbconvert_exporter": "python",
   "pygments_lexer": "ipython3",
   "version": "3.8.3"
  }
 },
 "nbformat": 4,
 "nbformat_minor": 5
}
