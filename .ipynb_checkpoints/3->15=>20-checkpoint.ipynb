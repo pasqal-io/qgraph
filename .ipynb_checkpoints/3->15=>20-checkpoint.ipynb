{
 "cells": [
  {
   "cell_type": "code",
   "execution_count": 2,
   "id": "8c7f9703",
   "metadata": {},
   "outputs": [],
   "source": [
    "%load_ext autoreload\n",
    "%autoreload 2"
   ]
  },
  {
   "cell_type": "code",
   "execution_count": 3,
   "id": "db44ded5",
   "metadata": {},
   "outputs": [
    {
     "name": "stdout",
     "output_type": "stream",
     "text": [
      "\n",
      "\t\u001b[1m# 1. Generate train and test datasets\u001b[0m\n",
      "\n"
     ]
    },
    {
     "data": {
      "application/vnd.jupyter.widget-view+json": {
       "model_id": "193408e501ce4128aaaf9c2f3de72015",
       "version_major": 2,
       "version_minor": 0
      },
      "text/plain": [
       "0it [00:00, ?it/s]"
      ]
     },
     "metadata": {},
     "output_type": "display_data"
    },
    {
     "name": "stdout",
     "output_type": "stream",
     "text": [
      "Generated graphs with   3 nodes are at 100.0% planar in average\n",
      "Generated graphs with   4 nodes are at 100.0% planar in average\n",
      "Generated graphs with   5 nodes are at  72.0% planar in average\n",
      "Generated graphs with   6 nodes are at  64.0% planar in average\n",
      "Generated graphs with   7 nodes are at  50.0% planar in average\n",
      "Generated graphs with   8 nodes are at  64.0% planar in average\n",
      "Generated graphs with   9 nodes are at  53.5% planar in average\n",
      "Generated graphs with  10 nodes are at  46.5% planar in average\n",
      "Generated graphs are at  61.4% planar in average\n",
      "\n",
      "\t\u001b[1m# 2. Train model\u001b[0m\n",
      "\n"
     ]
    },
    {
     "data": {
      "application/vnd.jupyter.widget-view+json": {
       "model_id": "c167a9f4580541bba102edeec218a72e",
       "version_major": 2,
       "version_minor": 0
      },
      "text/plain": [
       "  0%|          | 0/1000 [00:00<?, ?it/s]"
      ]
     },
     "metadata": {},
     "output_type": "display_data"
    },
    {
     "data": {
      "application/vnd.jupyter.widget-view+json": {
       "model_id": "ce719a5f461e482c95007cd825614369",
       "version_major": 2,
       "version_minor": 0
      },
      "text/plain": [
       "  0%|          | 0/1000 [00:00<?, ?it/s]"
      ]
     },
     "metadata": {},
     "output_type": "display_data"
    },
    {
     "name": "stderr",
     "output_type": "stream",
     "text": [
      "/Users/romainfouilland/.pyenv/versions/3.8.3/lib/python3.8/site-packages/sklearn/utils/validation.py:70: FutureWarning: Pass n_splits=10, n_repeats=10 as keyword args. From version 1.0 (renaming of 0.25) passing these as positional arguments will result in an error\n",
      "  warnings.warn(f\"Pass {args_msg} as keyword args. From version \"\n"
     ]
    },
    {
     "name": "stdout",
     "output_type": "stream",
     "text": [
      "Accuracy: 99.750% ± 0.572% for C=100.0\n"
     ]
    },
    {
     "data": {
      "image/png": "[encoded data removed]",
      "text/plain": [
       "<Figure size 432x288 with 1 Axes>"
      ]
     },
     "metadata": {
      "needs_background": "light"
     },
     "output_type": "display_data"
    },
    {
     "name": "stdout",
     "output_type": "stream",
     "text": [
      "GridSearchCV(cv=RepeatedStratifiedKFold(n_repeats=10, n_splits=10, random_state=47),\n",
      "             estimator=SVC(kernel='precomputed', random_state=76), n_jobs=-1,\n",
      "             param_grid={'C': array([1.e-03, 1.e-02, 1.e-01, 1.e+00, 1.e+01, 1.e+02, 1.e+03])},\n",
      "             refit='accuracy',\n",
      "             scoring={'accuracy': make_scorer(accuracy_score),\n",
      "                      'f1_score': make_scorer(f1_score, average=weighted)})\n",
      "\n",
      "\t\u001b[1m# 3. Smoke-test model\u001b[0m\n",
      "\n"
     ]
    },
    {
     "data": {
      "application/vnd.jupyter.widget-view+json": {
       "model_id": "7a167055cb6d481e9628a55d0eeecc6f",
       "version_major": 2,
       "version_minor": 0
      },
      "text/plain": [
       "  0%|          | 0/1000 [00:00<?, ?it/s]"
      ]
     },
     "metadata": {},
     "output_type": "display_data"
    },
    {
     "data": {
      "application/vnd.jupyter.widget-view+json": {
       "model_id": "ce6b1102f4c746369055ff4bb1f2e834",
       "version_major": 2,
       "version_minor": 0
      },
      "text/plain": [
       "  0%|          | 0/1000 [00:00<?, ?it/s]"
      ]
     },
     "metadata": {},
     "output_type": "display_data"
    },
    {
     "data": {
      "application/vnd.jupyter.widget-view+json": {
       "model_id": "3c25183619084f93a798df755b7a3dd9",
       "version_major": 2,
       "version_minor": 0
      },
      "text/plain": [
       "dist1 loop:   0%|          | 0/1000 [00:00<?, ?it/s]"
      ]
     },
     "metadata": {},
     "output_type": "display_data"
    },
    {
     "name": "stdout",
     "output_type": "stream",
     "text": [
      "[[385   1]\n",
      " [  0 614]]\n",
      "              precision    recall  f1-score   support\n",
      "\n",
      "  Non-planar       1.00      1.00      1.00       386\n",
      "      Planar       1.00      1.00      1.00       614\n",
      "\n",
      "    accuracy                           1.00      1000\n",
      "   macro avg       1.00      1.00      1.00      1000\n",
      "weighted avg       1.00      1.00      1.00      1000\n",
      "\n",
      "\n",
      "\t### Score: 99.90% (f1-score for planar: 0.999 & non-planar: 0.999)\n",
      "\n",
      "\t\u001b[1m# 4. Investigate capabilities\u001b[0m\n",
      "\n",
      "\n",
      "\t\u001b[1m# 4. Investigate generalisation capabilities\u001b[0m\n",
      "\n",
      "\n",
      "\t#   - Test set [3, 4, 5, 6, 7, 8, 9, 10, 11, 12, 13, 14, 15] nodes in numbers [50, 50, 50, 50, 50, 50, 50, 50, 10, 10, 10, 10, 10]\n",
      "\n"
     ]
    },
    {
     "data": {
      "application/vnd.jupyter.widget-view+json": {
       "model_id": "5a13b6e116624100bfb450123d8d19c3",
       "version_major": 2,
       "version_minor": 0
      },
      "text/plain": [
       "  0%|          | 0/450 [00:00<?, ?it/s]"
      ]
     },
     "metadata": {},
     "output_type": "display_data"
    },
    {
     "data": {
      "application/vnd.jupyter.widget-view+json": {
       "model_id": "a870eaaaabb44b3083f794f4a0d11679",
       "version_major": 2,
       "version_minor": 0
      },
      "text/plain": [
       "  0%|          | 0/450 [00:00<?, ?it/s]"
      ]
     },
     "metadata": {},
     "output_type": "display_data"
    },
    {
     "data": {
      "application/vnd.jupyter.widget-view+json": {
       "model_id": "03b59397b8874e718034ccd1173a8f3f",
       "version_major": 2,
       "version_minor": 0
      },
      "text/plain": [
       "dist1 loop:   0%|          | 0/450 [00:00<?, ?it/s]"
      ]
     },
     "metadata": {},
     "output_type": "display_data"
    },
    {
     "name": "stdout",
     "output_type": "stream",
     "text": [
      "[[150   2]\n",
      " [  1 297]]\n",
      "              precision    recall  f1-score   support\n",
      "\n",
      "  Non-planar       0.99      0.99      0.99       152\n",
      "      Planar       0.99      1.00      0.99       298\n",
      "\n",
      "    accuracy                           0.99       450\n",
      "   macro avg       0.99      0.99      0.99       450\n",
      "weighted avg       0.99      0.99      0.99       450\n",
      "\n",
      "\n",
      "\t### Score: 99.33% (f1-score for planar: 0.995 & non-planar: 0.990)\n"
     ]
    },
    {
     "data": {
      "text/plain": [
       "[]"
      ]
     },
     "execution_count": 3,
     "metadata": {},
     "output_type": "execute_result"
    }
   ],
   "source": [
    "from qplanarity import test_suite\n",
    "\n",
    "times = [2.1, 1.6]\n",
    "pulses = [0.2, 0.1]\n",
    "\n",
    "generator = 'binomial'\n",
    "metric = 'f1-score'\n",
    "test_big=False\n",
    "test_ramping_max_n = None\n",
    "\n",
    "train_ns = range(3, 16)\n",
    "train_nbs = 2 * [50] + 3 * [100] + 3 * [200] + 3 * [100] + 2 * [50]\n",
    "\n",
    "test_ns = list(range(3, 21))\n",
    "test_nbs = [100] * 8 + [50] * 5 + [30] * 3 + [10] * 2\n",
    "all_results = test_suite(times, pulses, train_ns, train_nbs, generator, seed=21, metric=metric, \n",
    "                 test_ns=test_ns, test_nbs=test_nbs, test_smoke=False, test_big=test_big, test_ramping_max_n=test_ramping_max_n,\n",
    "                return_all=True)"
   ]
  },
  {
   "cell_type": "code",
   "execution_count": null,
   "id": "04256a1a",
   "metadata": {},
   "outputs": [],
   "source": [
    "# Update with return_all to see how it scores for each + add histograms on nb trained for each nb od nodes & nb predicts (with 2 colors for planar & not + 2 colors for correct or not)"
   ]
  }
 ],
 "metadata": {
  "kernelspec": {
   "display_name": "Python 3",
   "language": "python",
   "name": "python3"
  },
  "language_info": {
   "codemirror_mode": {
    "name": "ipython",
    "version": 3
   },
   "file_extension": ".py",
   "mimetype": "text/x-python",
   "name": "python",
   "nbconvert_exporter": "python",
   "pygments_lexer": "ipython3",
   "version": "3.8.3"
  }
 },
 "nbformat": 4,
 "nbformat_minor": 5
}
