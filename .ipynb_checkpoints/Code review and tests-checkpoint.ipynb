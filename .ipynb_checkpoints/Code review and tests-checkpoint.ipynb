{
 "cells": [
  {
   "cell_type": "code",
   "execution_count": 3,
   "metadata": {},
   "outputs": [],
   "source": [
    "import quantum_routines\n",
    "import settings\n",
    "import qutip\n",
    "from qutip import sigmay, tensor,sigmap,sigmaz\n",
    "import numpy as np"
   ]
  },
  {
   "cell_type": "code",
   "execution_count": 4,
   "metadata": {},
   "outputs": [],
   "source": [
    "settings.init()"
   ]
  },
  {
   "cell_type": "code",
   "execution_count": 49,
   "metadata": {},
   "outputs": [],
   "source": [
    "y ="
   ]
  },
  {
   "cell_type": "code",
   "execution_count": 50,
   "metadata": {},
   "outputs": [
    {
     "data": {
      "text/latex": [
       "Quantum object: dims = [[2, 2], [2, 2]], shape = (4, 4), type = oper, isherm = True\\begin{equation*}\\left(\\begin{array}{*{11}c}0.0 & 1.0j & 1.0j & 0.0\\\\-1.0j & 0.0 & 0.0 & 1.0j\\\\-1.0j & 0.0 & 0.0 & 1.0j\\\\0.0 & -1.0j & -1.0j & 0.0\\\\\\end{array}\\right)\\end{equation*}"
      ],
      "text/plain": [
       "Quantum object: dims = [[2, 2], [2, 2]], shape = (4, 4), type = oper, isherm = True\n",
       "Qobj data =\n",
       "[[0.+0.j 0.+1.j 0.+1.j 0.+0.j]\n",
       " [0.-1.j 0.+0.j 0.+0.j 0.+1.j]\n",
       " [0.-1.j 0.+0.j 0.+0.j 0.+1.j]\n",
       " [0.+0.j 0.-1.j 0.-1.j 0.+0.j]]"
      ]
     },
     "execution_count": 50,
     "metadata": {},
     "output_type": "execute_result"
    }
   ],
   "source": [
    "y"
   ]
  },
  {
   "cell_type": "code",
   "execution_count": 54,
   "metadata": {},
   "outputs": [
    {
     "data": {
      "text/latex": [
       "Quantum object: dims = [[2, 2], [2, 2]], shape = (4, 4), type = oper, isherm = True\\begin{equation*}\\left(\\begin{array}{*{11}c}0.0 & 1.0j & 1.0j & 0.0\\\\-1.0j & 0.0 & 0.0 & 1.0j\\\\-1.0j & 0.0 & 0.0 & 1.0j\\\\0.0 & -1.0j & -1.0j & 0.0\\\\\\end{array}\\right)\\end{equation*}"
      ],
      "text/plain": [
       "Quantum object: dims = [[2, 2], [2, 2]], shape = (4, 4), type = oper, isherm = True\n",
       "Qobj data =\n",
       "[[0.+0.j 0.+1.j 0.+1.j 0.+0.j]\n",
       " [0.-1.j 0.+0.j 0.+0.j 0.+1.j]\n",
       " [0.-1.j 0.+0.j 0.+0.j 0.+1.j]\n",
       " [0.+0.j 0.-1.j 0.-1.j 0.+0.j]]"
      ]
     },
     "execution_count": 54,
     "metadata": {},
     "output_type": "execute_result"
    }
   ],
   "source": [
    "tensor([-sigmay(),i]) + tensor([i,-sigmay()])"
   ]
  },
  {
   "cell_type": "markdown",
   "metadata": {},
   "source": [
    "$H_M = - \\sum \\sigma_y$"
   ]
  },
  {
   "cell_type": "code",
   "execution_count": 120,
   "metadata": {},
   "outputs": [
    {
     "data": {
      "text/plain": [
       "array([0.        , 0.03205707, 0.06411414, 0.0961712 , 0.12822827,\n",
       "       0.16028534, 0.19234241, 0.22439948, 0.25645654, 0.28851361,\n",
       "       0.32057068, 0.35262775, 0.38468481, 0.41674188, 0.44879895,\n",
       "       0.48085602, 0.51291309, 0.54497015, 0.57702722, 0.60908429,\n",
       "       0.64114136, 0.67319843, 0.70525549, 0.73731256, 0.76936963,\n",
       "       0.8014267 , 0.83348377, 0.86554083, 0.8975979 , 0.92965497,\n",
       "       0.96171204, 0.9937691 , 1.02582617, 1.05788324, 1.08994031,\n",
       "       1.12199738, 1.15405444, 1.18611151, 1.21816858, 1.25022565,\n",
       "       1.28228272, 1.31433978, 1.34639685, 1.37845392, 1.41051099,\n",
       "       1.44256806, 1.47462512, 1.50668219, 1.53873926, 1.57079633])"
      ]
     },
     "execution_count": 120,
     "metadata": {},
     "output_type": "execute_result"
    }
   ],
   "source": [
    "x = np.zeros(2)\n",
    "x[0] = 1\n",
    "psi = qutip.Qobj(x)\n",
    "tlist = np.linspace(0,np.pi/2,50)\n",
    "tlist"
   ]
  },
  {
   "cell_type": "code",
   "execution_count": 121,
   "metadata": {},
   "outputs": [],
   "source": [
    "res = qutip.sesolve(qutip.sigmax(),psi,tlist)"
   ]
  },
  {
   "cell_type": "code",
   "execution_count": 124,
   "metadata": {},
   "outputs": [
    {
     "data": {
      "text/plain": [
       "[Quantum object: dims = [[2], [1]], shape = (2, 1), type = ket\n",
       " Qobj data =\n",
       " [[1.]\n",
       "  [0.]], Quantum object: dims = [[2], [1]], shape = (2, 1), type = ket\n",
       " Qobj data =\n",
       " [[0.99948622+0.j        ]\n",
       "  [0.        -0.03205158j]], Quantum object: dims = [[2], [1]], shape = (2, 1), type = ket\n",
       " Qobj data =\n",
       " [[0.99794539+0.j        ]\n",
       "  [0.        -0.06407021j]], Quantum object: dims = [[2], [1]], shape = (2, 1), type = ket\n",
       " Qobj data =\n",
       " [[0.99537912+0.j        ]\n",
       "  [0.        -0.09602299j]], Quantum object: dims = [[2], [1]], shape = (2, 1), type = ket\n",
       " Qobj data =\n",
       " [[0.99179002+0.j       ]\n",
       "  [0.        -0.1278771j]], Quantum object: dims = [[2], [1]], shape = (2, 1), type = ket\n",
       " Qobj data =\n",
       " [[0.9871818+0.j       ]\n",
       "  [0.       -0.1595998j]], Quantum object: dims = [[2], [1]], shape = (2, 1), type = ket\n",
       " Qobj data =\n",
       " [[0.98155918+0.j        ]\n",
       "  [0.        -0.19115849j]], Quantum object: dims = [[2], [1]], shape = (2, 1), type = ket\n",
       " Qobj data =\n",
       " [[0.97492795+0.j        ]\n",
       "  [0.        -0.22252075j]], Quantum object: dims = [[2], [1]], shape = (2, 1), type = ket\n",
       " Qobj data =\n",
       " [[0.96729493+0.j        ]\n",
       "  [0.        -0.25365435j]], Quantum object: dims = [[2], [1]], shape = (2, 1), type = ket\n",
       " Qobj data =\n",
       " [[0.95866794+0.j        ]\n",
       "  [0.        -0.28452729j]], Quantum object: dims = [[2], [1]], shape = (2, 1), type = ket\n",
       " Qobj data =\n",
       " [[0.94905587+0.j        ]\n",
       "  [0.        -0.31510785j]], Quantum object: dims = [[2], [1]], shape = (2, 1), type = ket\n",
       " Qobj data =\n",
       " [[0.93846858+0.j        ]\n",
       "  [0.        -0.34536461j]], Quantum object: dims = [[2], [1]], shape = (2, 1), type = ket\n",
       " Qobj data =\n",
       " [[0.92691697+0.j        ]\n",
       "  [0.        -0.37526648j]], Quantum object: dims = [[2], [1]], shape = (2, 1), type = ket\n",
       " Qobj data =\n",
       " [[0.91441289+0.j        ]\n",
       "  [0.        -0.40478274j]], Quantum object: dims = [[2], [1]], shape = (2, 1), type = ket\n",
       " Qobj data =\n",
       " [[0.9009692+0.j        ]\n",
       "  [0.       -0.43388305j]], Quantum object: dims = [[2], [1]], shape = (2, 1), type = ket\n",
       " Qobj data =\n",
       " [[0.88659972+0.j        ]\n",
       "  [0.        -0.46253751j]], Quantum object: dims = [[2], [1]], shape = (2, 1), type = ket\n",
       " Qobj data =\n",
       " [[0.8713192+0.j        ]\n",
       "  [0.       -0.49071667j]], Quantum object: dims = [[2], [1]], shape = (2, 1), type = ket\n",
       " Qobj data =\n",
       " [[0.85514335+0.j        ]\n",
       "  [0.        -0.51839159j]], Quantum object: dims = [[2], [1]], shape = (2, 1), type = ket\n",
       " Qobj data =\n",
       " [[0.8380888+0.j        ]\n",
       "  [0.       -0.54553383j]], Quantum object: dims = [[2], [1]], shape = (2, 1), type = ket\n",
       " Qobj data =\n",
       " [[0.82017307+0.j        ]\n",
       "  [0.        -0.57211549j]], Quantum object: dims = [[2], [1]], shape = (2, 1), type = ket\n",
       " Qobj data =\n",
       " [[0.80141457+0.j        ]\n",
       "  [0.        -0.59810927j]], Quantum object: dims = [[2], [1]], shape = (2, 1), type = ket\n",
       " Qobj data =\n",
       " [[0.78183256+0.j        ]\n",
       "  [0.        -0.62348844j]], Quantum object: dims = [[2], [1]], shape = (2, 1), type = ket\n",
       " Qobj data =\n",
       " [[0.76144719+0.j        ]\n",
       "  [0.        -0.64822695j]], Quantum object: dims = [[2], [1]], shape = (2, 1), type = ket\n",
       " Qobj data =\n",
       " [[0.74027939+0.j        ]\n",
       "  [0.        -0.67229936j]], Quantum object: dims = [[2], [1]], shape = (2, 1), type = ket\n",
       " Qobj data =\n",
       " [[0.71835091+0.j        ]\n",
       "  [0.        -0.69568094j]], Quantum object: dims = [[2], [1]], shape = (2, 1), type = ket\n",
       " Qobj data =\n",
       " [[0.69568428+0.j        ]\n",
       "  [0.        -0.71834768j]], Quantum object: dims = [[2], [1]], shape = (2, 1), type = ket\n",
       " Qobj data =\n",
       " [[0.6723028+0.j        ]\n",
       "  [0.       -0.74027626j]], Quantum object: dims = [[2], [1]], shape = (2, 1), type = ket\n",
       " Qobj data =\n",
       " [[0.64823049+0.j        ]\n",
       "  [0.        -0.76144418j]], Quantum object: dims = [[2], [1]], shape = (2, 1), type = ket\n",
       " Qobj data =\n",
       " [[0.62349208+0.j        ]\n",
       "  [0.        -0.78182967j]], Quantum object: dims = [[2], [1]], shape = (2, 1), type = ket\n",
       " Qobj data =\n",
       " [[0.59811299+0.j        ]\n",
       "  [0.        -0.80141178j]], Quantum object: dims = [[2], [1]], shape = (2, 1), type = ket\n",
       " Qobj data =\n",
       " [[0.57211931+0.j        ]\n",
       "  [0.        -0.82017041j]], Quantum object: dims = [[2], [1]], shape = (2, 1), type = ket\n",
       " Qobj data =\n",
       " [[0.54553774+0.j        ]\n",
       "  [0.        -0.83808626j]], Quantum object: dims = [[2], [1]], shape = (2, 1), type = ket\n",
       " Qobj data =\n",
       " [[0.51839558+0.j        ]\n",
       "  [0.        -0.85514093j]], Quantum object: dims = [[2], [1]], shape = (2, 1), type = ket\n",
       " Qobj data =\n",
       " [[0.49072075+0.j        ]\n",
       "  [0.        -0.87131691j]], Quantum object: dims = [[2], [1]], shape = (2, 1), type = ket\n",
       " Qobj data =\n",
       " [[0.46254165+0.j        ]\n",
       "  [0.        -0.88659755j]], Quantum object: dims = [[2], [1]], shape = (2, 1), type = ket\n",
       " Qobj data =\n",
       " [[0.43388727+0.j        ]\n",
       "  [0.        -0.90096717j]], Quantum object: dims = [[2], [1]], shape = (2, 1), type = ket\n",
       " Qobj data =\n",
       " [[0.40478703+0.j        ]\n",
       "  [0.        -0.91441099j]], Quantum object: dims = [[2], [1]], shape = (2, 1), type = ket\n",
       " Qobj data =\n",
       " [[0.37527084+0.j        ]\n",
       "  [0.        -0.92691521j]], Quantum object: dims = [[2], [1]], shape = (2, 1), type = ket\n",
       " Qobj data =\n",
       " [[0.34536903+0.j        ]\n",
       "  [0.        -0.93846696j]], Quantum object: dims = [[2], [1]], shape = (2, 1), type = ket\n",
       " Qobj data =\n",
       " [[0.31511232+0.j        ]\n",
       "  [0.        -0.94905438j]], Quantum object: dims = [[2], [1]], shape = (2, 1), type = ket\n",
       " Qobj data =\n",
       " [[0.28453181+0.j       ]\n",
       "  [0.        -0.9586666j]], Quantum object: dims = [[2], [1]], shape = (2, 1), type = ket\n",
       " Qobj data =\n",
       " [[0.25365891+0.j        ]\n",
       "  [0.        -0.96729373j]], Quantum object: dims = [[2], [1]], shape = (2, 1), type = ket\n",
       " Qobj data =\n",
       " [[0.22252536+0.j       ]\n",
       "  [0.        -0.9749269j]], Quantum object: dims = [[2], [1]], shape = (2, 1), type = ket\n",
       " Qobj data =\n",
       " [[0.19116314+0.j        ]\n",
       "  [0.        -0.98155828j]], Quantum object: dims = [[2], [1]], shape = (2, 1), type = ket\n",
       " Qobj data =\n",
       " [[0.15960448+0.j        ]\n",
       "  [0.        -0.98718104j]], Quantum object: dims = [[2], [1]], shape = (2, 1), type = ket\n",
       " Qobj data =\n",
       " [[0.12788181+0.j        ]\n",
       "  [0.        -0.99178941j]], Quantum object: dims = [[2], [1]], shape = (2, 1), type = ket\n",
       " Qobj data =\n",
       " [[0.09602773+0.j        ]\n",
       "  [0.        -0.99537866j]], Quantum object: dims = [[2], [1]], shape = (2, 1), type = ket\n",
       " Qobj data =\n",
       " [[0.06407496+0.j        ]\n",
       "  [0.        -0.99794509j]], Quantum object: dims = [[2], [1]], shape = (2, 1), type = ket\n",
       " Qobj data =\n",
       " [[0.03205634+0.j        ]\n",
       "  [0.        -0.99948606j]], Quantum object: dims = [[2], [1]], shape = (2, 1), type = ket\n",
       " Qobj data =\n",
       " [[4.77718155e-06+0.j]\n",
       "  [0.00000000e+00-1.j]]]"
      ]
     },
     "execution_count": 124,
     "metadata": {},
     "output_type": "execute_result"
    }
   ],
   "source": [
    "res.states"
   ]
  },
  {
   "cell_type": "markdown",
   "metadata": {},
   "source": [
    "# psi"
   ]
  },
  {
   "cell_type": "code",
   "execution_count": 7,
   "metadata": {},
   "outputs": [
    {
     "data": {
      "text/plain": [
       "array([[0.+0.j, 1.+0.j],\n",
       "       [0.+0.j, 0.+0.j]])"
      ]
     },
     "execution_count": 7,
     "metadata": {},
     "output_type": "execute_result"
    }
   ],
   "source": [
    "sigmap().full()"
   ]
  },
  {
   "cell_type": "code",
   "execution_count": 13,
   "metadata": {},
   "outputs": [
    {
     "data": {
      "text/latex": [
       "Quantum object: dims = [[2, 2], [2, 2]], shape = (4, 4), type = oper, isherm = True\\begin{equation*}\\left(\\begin{array}{*{11}c}1.0 & 0.0 & 0.0 & 0.0\\\\0.0 & -1.0 & 0.0 & 0.0\\\\0.0 & 0.0 & -1.0 & 0.0\\\\0.0 & 0.0 & 0.0 & 1.0\\\\\\end{array}\\right)\\end{equation*}"
      ],
      "text/plain": [
       "Quantum object: dims = [[2, 2], [2, 2]], shape = (4, 4), type = oper, isherm = True\n",
       "Qobj data =\n",
       "[[ 1.  0.  0.  0.]\n",
       " [ 0. -1.  0.  0.]\n",
       " [ 0.  0. -1.  0.]\n",
       " [ 0.  0.  0.  1.]]"
      ]
     },
     "execution_count": 13,
     "metadata": {},
     "output_type": "execute_result"
    }
   ],
   "source": [
    "tensor(sigmaz(),sigmaz())"
   ]
  },
  {
   "cell_type": "code",
   "execution_count": 7,
   "metadata": {},
   "outputs": [
    {
     "data": {
      "text/plain": [
       "True"
      ]
     },
     "execution_count": 7,
     "metadata": {},
     "output_type": "execute_result"
    }
   ],
   "source": [
    "quantum_routines.test_generate_mixH(12) ==  quantum_routines.generate_mixing_Ham(12)"
   ]
  },
  {
   "cell_type": "code",
   "execution_count": null,
   "metadata": {},
   "outputs": [],
   "source": []
  }
 ],
 "metadata": {
  "kernelspec": {
   "display_name": "Python 3",
   "language": "python",
   "name": "python3"
  },
  "language_info": {
   "codemirror_mode": {
    "name": "ipython",
    "version": 3
   },
   "file_extension": ".py",
   "mimetype": "text/x-python",
   "name": "python",
   "nbconvert_exporter": "python",
   "pygments_lexer": "ipython3",
   "version": "3.7.4"
  }
 },
 "nbformat": 4,
 "nbformat_minor": 2
}
