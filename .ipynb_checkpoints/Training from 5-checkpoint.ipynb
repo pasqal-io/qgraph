{
 "cells": [
  {
   "cell_type": "code",
   "execution_count": 2,
   "id": "8c7f9703",
   "metadata": {},
   "outputs": [],
   "source": [
    "%load_ext autoreload\n",
    "%autoreload 2"
   ]
  },
  {
   "cell_type": "code",
   "execution_count": 3,
   "id": "fb8ac7de",
   "metadata": {},
   "outputs": [
    {
     "name": "stdout",
     "output_type": "stream",
     "text": [
      "\n",
      "\t\u001b[1m# 1. Generate train and test datasets\u001b[0m\n",
      "\n"
     ]
    },
    {
     "data": {
      "application/vnd.jupyter.widget-view+json": {
       "model_id": "1860c82707e54226814d0fea9b49c060",
       "version_major": 2,
       "version_minor": 0
      },
      "text/plain": [
       "0it [00:00, ?it/s]"
      ]
     },
     "metadata": {},
     "output_type": "display_data"
    },
    {
     "name": "stdout",
     "output_type": "stream",
     "text": [
      "Generated graphs with   5 nodes are at  82.0% planar in average\n",
      "Generated graphs with   6 nodes are at  62.7% planar in average\n",
      "Generated graphs with   7 nodes are at  50.8% planar in average\n",
      "Generated graphs with   8 nodes are at  55.5% planar in average\n",
      "Generated graphs with   9 nodes are at  64.0% planar in average\n",
      "Generated graphs with  10 nodes are at  47.5% planar in average\n",
      "Generated graphs are at  58.7% planar in average\n",
      "\n",
      "\t\u001b[1m# 2. Train model\u001b[0m\n",
      "\n"
     ]
    },
    {
     "data": {
      "application/vnd.jupyter.widget-view+json": {
       "model_id": "8011869b6c7149208ce2cdd68effacce",
       "version_major": 2,
       "version_minor": 0
      },
      "text/plain": [
       "  0%|          | 0/930 [00:00<?, ?it/s]"
      ]
     },
     "metadata": {},
     "output_type": "display_data"
    },
    {
     "data": {
      "application/vnd.jupyter.widget-view+json": {
       "model_id": "48dd4cfb97b9434884d48e2e98f59c65",
       "version_major": 2,
       "version_minor": 0
      },
      "text/plain": [
       "  0%|          | 0/930 [00:00<?, ?it/s]"
      ]
     },
     "metadata": {},
     "output_type": "display_data"
    },
    {
     "name": "stderr",
     "output_type": "stream",
     "text": [
      "/Users/romainfouilland/.pyenv/versions/3.8.3/lib/python3.8/site-packages/sklearn/utils/validation.py:70: FutureWarning: Pass n_splits=10, n_repeats=10 as keyword args. From version 1.0 (renaming of 0.25) passing these as positional arguments will result in an error\n",
      "  warnings.warn(f\"Pass {args_msg} as keyword args. From version \"\n"
     ]
    },
    {
     "name": "stdout",
     "output_type": "stream",
     "text": [
      "Accuracy: 99.892% ± 0.323% for C=100.0\n"
     ]
    },
    {
     "data": {
      "image/png": "[encoded data removed]",
      "text/plain": [
       "<Figure size 432x288 with 1 Axes>"
      ]
     },
     "metadata": {
      "needs_background": "light"
     },
     "output_type": "display_data"
    },
    {
     "name": "stdout",
     "output_type": "stream",
     "text": [
      "GridSearchCV(cv=RepeatedStratifiedKFold(n_repeats=10, n_splits=10, random_state=47),\n",
      "             estimator=SVC(kernel='precomputed', random_state=76), n_jobs=-1,\n",
      "             param_grid={'C': array([1.e-03, 1.e-02, 1.e-01, 1.e+00, 1.e+01, 1.e+02, 1.e+03])},\n",
      "             refit='accuracy',\n",
      "             scoring={'accuracy': make_scorer(accuracy_score),\n",
      "                      'f1_score': make_scorer(f1_score, average=weighted)})\n",
      "\n",
      "\t\u001b[1m# 3. Smoke-test model\u001b[0m\n",
      "\n"
     ]
    },
    {
     "data": {
      "application/vnd.jupyter.widget-view+json": {
       "model_id": "039532be65e347309f61934a6a243d8f",
       "version_major": 2,
       "version_minor": 0
      },
      "text/plain": [
       "  0%|          | 0/930 [00:00<?, ?it/s]"
      ]
     },
     "metadata": {},
     "output_type": "display_data"
    },
    {
     "data": {
      "application/vnd.jupyter.widget-view+json": {
       "model_id": "ad72a65705b44f54b44053e43d3b0c55",
       "version_major": 2,
       "version_minor": 0
      },
      "text/plain": [
       "  0%|          | 0/930 [00:00<?, ?it/s]"
      ]
     },
     "metadata": {},
     "output_type": "display_data"
    },
    {
     "data": {
      "application/vnd.jupyter.widget-view+json": {
       "model_id": "80ab5aff1f2e4ec8acf7f82b0da14600",
       "version_major": 2,
       "version_minor": 0
      },
      "text/plain": [
       "dist1 loop:   0%|          | 0/930 [00:00<?, ?it/s]"
      ]
     },
     "metadata": {},
     "output_type": "display_data"
    },
    {
     "name": "stdout",
     "output_type": "stream",
     "text": [
      "[[384   0]\n",
      " [  0 546]]\n",
      "              precision    recall  f1-score   support\n",
      "\n",
      "  Non-planar       1.00      1.00      1.00       384\n",
      "      Planar       1.00      1.00      1.00       546\n",
      "\n",
      "    accuracy                           1.00       930\n",
      "   macro avg       1.00      1.00      1.00       930\n",
      "weighted avg       1.00      1.00      1.00       930\n",
      "\n",
      "\n",
      "\t### Score: 100.00% (f1-score for planar: 1.000 & non-planar: 1.000)\n",
      "\n",
      "\t\u001b[1m# 4. Investigate capabilities\u001b[0m\n",
      "\n",
      "\n",
      "\t\u001b[1m# 4. Investigate generalisation capabilities\u001b[0m\n",
      "\n",
      "\n",
      "\t#   - Test set [3, 4, 5, 6, 7, 8, 9, 10, 11, 12, 13, 14, 15] nodes in numbers [50, 50, 50, 50, 50, 50, 50, 50, 10, 10, 10, 10, 10]\n",
      "\n"
     ]
    },
    {
     "data": {
      "application/vnd.jupyter.widget-view+json": {
       "model_id": "c6a28674e95940959f0ec0b69f2ea457",
       "version_major": 2,
       "version_minor": 0
      },
      "text/plain": [
       "  0%|          | 0/450 [00:00<?, ?it/s]"
      ]
     },
     "metadata": {},
     "output_type": "display_data"
    },
    {
     "data": {
      "application/vnd.jupyter.widget-view+json": {
       "model_id": "d127a7b7c8544eccbeb0760a0c95f3d9",
       "version_major": 2,
       "version_minor": 0
      },
      "text/plain": [
       "  0%|          | 0/450 [00:00<?, ?it/s]"
      ]
     },
     "metadata": {},
     "output_type": "display_data"
    },
    {
     "data": {
      "application/vnd.jupyter.widget-view+json": {
       "model_id": "ee5fa7159a2f454db7164138420acb6f",
       "version_major": 2,
       "version_minor": 0
      },
      "text/plain": [
       "dist1 loop:   0%|          | 0/450 [00:00<?, ?it/s]"
      ]
     },
     "metadata": {},
     "output_type": "display_data"
    },
    {
     "name": "stdout",
     "output_type": "stream",
     "text": [
      "[[156   0]\n",
      " [ 14 280]]\n",
      "              precision    recall  f1-score   support\n",
      "\n",
      "  Non-planar       0.92      1.00      0.96       156\n",
      "      Planar       1.00      0.95      0.98       294\n",
      "\n",
      "    accuracy                           0.97       450\n",
      "   macro avg       0.96      0.98      0.97       450\n",
      "weighted avg       0.97      0.97      0.97       450\n",
      "\n",
      "\n",
      "\t### Score: 96.89% (f1-score for planar: 0.976 & non-planar: 0.957)\n"
     ]
    },
    {
     "data": {
      "text/plain": [
       "[]"
      ]
     },
     "execution_count": 3,
     "metadata": {},
     "output_type": "execute_result"
    }
   ],
   "source": [
    "from qplanarity import test_suite\n",
    "\n",
    "times = [2.1, 1.6]\n",
    "pulses = [0.2, 0.1]\n",
    "\n",
    "generator = 'binomial'\n",
    "metric = 'f1-score'\n",
    "test_big=False\n",
    "test_ramping_max_n = None\n",
    "\n",
    "train_ns = range(5, 11)\n",
    "train_nbs = [100, 110, 120] + 3 * [200]\n",
    "\n",
    "test_ns = list(range(3, 16))\n",
    "test_nbs = [50] * 8 + [10] * 5\n",
    "test_suite(times, pulses, train_ns, train_nbs, generator, seed=21, metric=metric, test_ns=test_ns, test_nbs=test_nbs, test_big=test_big, test_ramping_max_n=test_ramping_max_n)"
   ]
  },
  {
   "cell_type": "code",
   "execution_count": null,
   "id": "d17b0d9d",
   "metadata": {},
   "outputs": [],
   "source": [
    "# Update with return_all to see how it scores for each + add histograms on nb trained for each nb od nodes & nb predicts (with 2 colors for planar & not + 2 colors for correct or not)"
   ]
  }
 ],
 "metadata": {
  "kernelspec": {
   "display_name": "Python 3",
   "language": "python",
   "name": "python3"
  },
  "language_info": {
   "codemirror_mode": {
    "name": "ipython",
    "version": 3
   },
   "file_extension": ".py",
   "mimetype": "text/x-python",
   "name": "python",
   "nbconvert_exporter": "python",
   "pygments_lexer": "ipython3",
   "version": "3.8.3"
  }
 },
 "nbformat": 4,
 "nbformat_minor": 5
}
