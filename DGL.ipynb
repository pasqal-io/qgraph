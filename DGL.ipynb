{
 "cells": [
  {
   "cell_type": "code",
   "execution_count": 1,
   "metadata": {},
   "outputs": [],
   "source": [
    "%matplotlib inline\n",
    "%load_ext autoreload\n",
    "%autoreload 2"
   ]
  },
  {
   "cell_type": "markdown",
   "metadata": {},
   "source": [
    "\n",
    ".. currentmodule:: dgl\n",
    "\n",
    "Graph Classification Tutorial\n",
    "=============================\n",
    "\n",
    "**Author**: `Mufei Li <https://github.com/mufeili>`_,\n",
    "`Minjie Wang <https://jermainewang.github.io/>`_,\n",
    "`Zheng Zhang <https://shanghai.nyu.edu/academics/faculty/directory/zheng-zhang>`_.\n",
    "\n",
    "In this tutorial, you learn how to use DGL to batch multiple graphs of variable size and shape. The \n",
    "tutorial also demonstrates training a graph neural network for a simple graph classification task.\n",
    "\n",
    "Graph classification is an important problem\n",
    "with applications across many fields, such as bioinformatics, chemoinformatics, social\n",
    "network analysis, urban computing, and cybersecurity. Applying graph neural\n",
    "networks to this problem has been a popular approach recently. This can be seen in the following reserach references: \n",
    "`Ying et al., 2018 <https://arxiv.org/abs/1806.08804>`_,\n",
    "`Cangea et al., 2018 <https://arxiv.org/abs/1811.01287>`_,\n",
    "`Knyazev et al., 2018 <https://arxiv.org/abs/1811.09595>`_,\n",
    "`Bianchi et al., 2019 <https://arxiv.org/abs/1901.01343>`_,\n",
    "`Liao et al., 2019 <https://arxiv.org/abs/1901.01484>`_,\n",
    "`Gao et al., 2019 <https://openreview.net/forum?id=HJePRoAct7>`_).\n"
   ]
  },
  {
   "cell_type": "markdown",
   "metadata": {},
   "source": [
    "Simple graph classification task\n",
    "--------------------------------\n",
    "In this tutorial, you learn how to perform batched graph classification\n",
    "with DGL. The example task objective is to classify eight types of topologies shown here.\n",
    "\n",
    "![](https://data.dgl.ai/tutorial/batch/dataset_overview.png)\n",
    "\n",
    "    :align: center\n",
    "\n",
    "Implement a synthetic dataset :class:`data.MiniGCDataset` in DGL. The dataset has eight \n",
    "different types of graphs and each class has the same number of graph samples.\n",
    "\n"
   ]
  },
  {
   "cell_type": "code",
   "execution_count": 2,
   "metadata": {},
   "outputs": [
    {
     "name": "stderr",
     "output_type": "stream",
     "text": [
      "Using backend: pytorch\n"
     ]
    },
    {
     "data": {
      "image/png": "[encoded data removed]",
      "text/plain": [
       "<Figure size 432x288 with 1 Axes>"
      ]
     },
     "metadata": {},
     "output_type": "display_data"
    }
   ],
   "source": [
    "from dgl.data import MiniGCDataset\n",
    "import matplotlib.pyplot as plt\n",
    "import networkx as nx\n",
    "# A dataset with 80 samples, each graph is\n",
    "# of size [10, 20]\n",
    "dataset = MiniGCDataset(80, 10, 20)\n",
    "graph, label = dataset[0]\n",
    "fig, ax = plt.subplots()\n",
    "nx.draw(graph.to_networkx(), ax=ax)\n",
    "ax.set_title('Class: {:d}'.format(label))\n",
    "plt.show()"
   ]
  },
  {
   "cell_type": "markdown",
   "metadata": {},
   "source": [
    "Form a graph mini-batch\n",
    "-----------------------\n",
    "To train neural networks efficiently, a common practice is to batch\n",
    "multiple samples together to form a mini-batch. Batching fixed-shaped tensor\n",
    "inputs is common. For example, batching two images of size 28 x 28\n",
    "gives a tensor of shape 2 x 28 x 28. By contrast, batching graph inputs\n",
    "has two challenges:\n",
    "\n",
    "* Graphs are sparse.\n",
    "* Graphs can have various length. For example, number of nodes and edges.\n",
    "\n",
    "To address this, DGL provides a :func:`dgl.batch` API. It leverages the idea that\n",
    "a batch of graphs can be viewed as a large graph that has many disjointed \n",
    "connected components. Below is a visualization that gives the general idea.\n",
    "\n",
    "![](https://data.dgl.ai/tutorial/batch/batch.png)\n",
    "\n",
    "    :width: 400pt\n",
    "    :align: center\n",
    "\n",
    "Define the following ``collate`` function to form a mini-batch from a given\n",
    "list of graph and label pairs.\n",
    "\n"
   ]
  },
  {
   "cell_type": "code",
   "execution_count": 3,
   "metadata": {},
   "outputs": [],
   "source": [
    "import dgl\n",
    "import torch\n",
    "\n",
    "def collate(samples):\n",
    "    # The input `samples` is a list of pairs\n",
    "    #  (graph, label).\n",
    "    graphs, labels = map(list, zip(*samples))\n",
    "    batched_graph = dgl.batch(graphs)\n",
    "    return batched_graph, torch.tensor(labels)"
   ]
  },
  {
   "cell_type": "markdown",
   "metadata": {},
   "source": [
    "The return type of :func:`dgl.batch` is still a graph. In the same way, \n",
    "a batch of tensors is still a tensor. This means that any code that works\n",
    "for one graph immediately works for a batch of graphs. More importantly,\n",
    "because DGL processes messages on all nodes and edges in parallel, this greatly\n",
    "improves efficiency.\n",
    "\n",
    "Graph classifier\n",
    "----------------\n",
    "Graph classification proceeds as follows.\n",
    "\n",
    "![](https://data.dgl.ai/tutorial/batch/graph_classifier.png)\n",
    "\n",
    "\n",
    "From a batch of graphs, perform message passing and graph convolution\n",
    "for nodes to communicate with others. After message passing, compute a\n",
    "tensor for graph representation from node (and edge) attributes. This step might \n",
    "be called readout or aggregation. Finally, the graph \n",
    "representations are fed into a classifier $g$ to predict the graph labels.\n",
    "\n",
    "Graph convolution layer can be found in the ``dgl.nn.<backend>`` submodule.\n",
    "\n"
   ]
  },
  {
   "cell_type": "code",
   "execution_count": 4,
   "metadata": {},
   "outputs": [],
   "source": [
    "from dgl.nn.pytorch import GraphConv"
   ]
  },
  {
   "cell_type": "markdown",
   "metadata": {},
   "source": [
    "Readout and classification\n",
    "--------------------------\n",
    "For this demonstration, consider initial node features to be their degrees.\n",
    "After two rounds of graph convolution, perform a graph readout by averaging\n",
    "over all node features for each graph in the batch.\n",
    "\n",
    "\\begin{align}h_g=\\frac{1}{|\\mathcal{V}|}\\sum_{v\\in\\mathcal{V}}h_{v}\\end{align}\n",
    "\n",
    "In DGL, :func:`dgl.mean_nodes` handles this task for a batch of\n",
    "graphs with variable size. You then feed the graph representations into a\n",
    "classifier with one linear layer to obtain pre-softmax logits.\n",
    "\n"
   ]
  },
  {
   "cell_type": "code",
   "execution_count": 5,
   "metadata": {},
   "outputs": [],
   "source": [
    "import torch.nn as nn\n",
    "import torch.nn.functional as F\n",
    "\n",
    "class Classifier(nn.Module):\n",
    "    def __init__(self, in_dim, hidden_dim, n_classes):\n",
    "        super(Classifier, self).__init__()\n",
    "        self.conv1 = GraphConv(in_dim, hidden_dim)\n",
    "        self.conv2 = GraphConv(hidden_dim, hidden_dim)\n",
    "        self.classify = nn.Linear(hidden_dim, n_classes)\n",
    "\n",
    "    def forward(self, g):\n",
    "        # Use node degree as the initial node feature. For undirected graphs, the in-degree\n",
    "        # is the same as the out_degree.\n",
    "        h = g.in_degrees().view(-1, 1).float()\n",
    "        # Perform graph convolution and activation function.\n",
    "        h = F.relu(self.conv1(g, h))\n",
    "        h = F.relu(self.conv2(g, h))\n",
    "        g.ndata['h'] = h\n",
    "        # Calculate graph representation by averaging all the node representations.\n",
    "        hg = dgl.mean_nodes(g, 'h')\n",
    "        return self.classify(hg)"
   ]
  },
  {
   "cell_type": "markdown",
   "metadata": {},
   "source": [
    "Setup and training\n",
    "------------------\n",
    "Create a synthetic dataset of $400$ graphs with $10$ ~\n",
    "$20$ nodes. $320$ graphs constitute a training set and\n",
    "$80$ graphs constitute a test set.\n",
    "\n"
   ]
  },
  {
   "cell_type": "code",
   "execution_count": 6,
   "metadata": {},
   "outputs": [
    {
     "name": "stderr",
     "output_type": "stream",
     "text": [
      "/Users/romainfouilland/.pyenv/versions/3.8.3/lib/python3.8/site-packages/pandas/compat/__init__.py:97: UserWarning: Could not import the lzma module. Your installed Python is incomplete. Attempting to use lzma compression will result in a RuntimeError.\n",
      "  warnings.warn(msg)\n"
     ]
    },
    {
     "data": {
      "text/plain": [
       "Graph(num_nodes=4, num_edges=4,\n",
       "      ndata_schemes={}\n",
       "      edata_schemes={})"
      ]
     },
     "execution_count": 6,
     "metadata": {},
     "output_type": "execute_result"
    }
   ],
   "source": [
    "from qplanarity import build_graph\n",
    "dgl.from_networkx(build_graph([[0, 1], [2, 3]]))"
   ]
  },
  {
   "cell_type": "code",
   "execution_count": 7,
   "metadata": {},
   "outputs": [],
   "source": [
    "import torch.optim as optim\n",
    "from torch.utils.data import DataLoader\n",
    "\n",
    "# Create training and test sets.\n",
    "trainset = MiniGCDataset(320, 10, 20)\n",
    "testset = MiniGCDataset(80, 10, 20)"
   ]
  },
  {
   "cell_type": "code",
   "execution_count": 8,
   "metadata": {},
   "outputs": [
    {
     "data": {
      "application/vnd.jupyter.widget-view+json": {
       "model_id": "319d6673aec84d8192e84e087a4f72c3",
       "version_major": 2,
       "version_minor": 0
      },
      "text/plain": [
       "0it [00:00, ?it/s]"
      ]
     },
     "metadata": {},
     "output_type": "display_data"
    },
    {
     "name": "stdout",
     "output_type": "stream",
     "text": [
      "Generated graphs with   3 nodes are at 100.0% planar in average\n",
      "Generated graphs with   4 nodes are at 100.0% planar in average\n",
      "Generated graphs with   5 nodes are at  76.0% planar in average\n",
      "Generated graphs with   6 nodes are at  69.0% planar in average\n",
      "Generated graphs with   7 nodes are at  49.0% planar in average\n",
      "Generated graphs with   8 nodes are at  58.0% planar in average\n",
      "Generated graphs with   9 nodes are at  50.5% planar in average\n",
      "Generated graphs with  10 nodes are at  48.5% planar in average\n",
      "Generated graphs are at  60.8% planar in average\n"
     ]
    }
   ],
   "source": [
    "from qplanarity import build_graph, generate_graphs, generate_graphs_dgl\n",
    "\n",
    "trainset = list(zip(*generate_graphs_dgl(range(3, 11), 2 * [50] + 3 * [100] + 3 * [200], generator='binomial', verbose=True)))\n",
    "testset = list(zip(*generate_graphs_dgl([16], [10])))"
   ]
  },
  {
   "cell_type": "code",
   "execution_count": 9,
   "metadata": {},
   "outputs": [
    {
     "data": {
      "application/vnd.jupyter.widget-view+json": {
       "model_id": "d1fd5b9512364b51801beb86b60405a2",
       "version_major": 2,
       "version_minor": 0
      },
      "text/plain": [
       "0it [00:00, ?it/s]"
      ]
     },
     "metadata": {},
     "output_type": "display_data"
    },
    {
     "name": "stdout",
     "output_type": "stream",
     "text": [
      "Maximum edge number is 45\n",
      "Generated graphs with  10 nodes are at  24.2% planar in average\n",
      "Generated graphs are at  24.2% planar in average\n"
     ]
    },
    {
     "data": {
      "application/vnd.jupyter.widget-view+json": {
       "model_id": "0caad856f99b4efe9fb25df0a2fc7448",
       "version_major": 2,
       "version_minor": 0
      },
      "text/plain": [
       "0it [00:00, ?it/s]"
      ]
     },
     "metadata": {},
     "output_type": "display_data"
    },
    {
     "name": "stdout",
     "output_type": "stream",
     "text": [
      "Generated graphs with  10 nodes are at  49.7% planar in average\n",
      "Generated graphs are at  49.7% planar in average\n"
     ]
    },
    {
     "data": {
      "text/plain": [
       "0"
      ]
     },
     "execution_count": 9,
     "metadata": {},
     "output_type": "execute_result"
    }
   ],
   "source": [
    "generate_graphs_dgl([10], [1000], generator='uniform_edges', verbose=True)\n",
    "generate_graphs_dgl([10], [1000], generator='binomial', verbose=True)\n",
    "0"
   ]
  },
  {
   "cell_type": "code",
   "execution_count": 10,
   "metadata": {},
   "outputs": [
    {
     "name": "stdout",
     "output_type": "stream",
     "text": [
      "Epoch 0, loss 0.6409\n",
      "Epoch 1, loss 0.4910\n",
      "Epoch 2, loss 0.2318\n",
      "Epoch 3, loss 0.1187\n",
      "Epoch 4, loss 0.0896\n",
      "Epoch 5, loss 0.0880\n",
      "Epoch 6, loss 0.0817\n",
      "Epoch 7, loss 0.0882\n",
      "Epoch 8, loss 0.0789\n",
      "Epoch 9, loss 0.0975\n",
      "Epoch 10, loss 0.1084\n",
      "Epoch 11, loss 0.0715\n",
      "Epoch 12, loss 0.0692\n",
      "Epoch 13, loss 0.0746\n",
      "Epoch 14, loss 0.0747\n",
      "Epoch 15, loss 0.0703\n",
      "Epoch 16, loss 0.0676\n",
      "Epoch 17, loss 0.0703\n",
      "Epoch 18, loss 0.0750\n",
      "Epoch 19, loss 0.0910\n",
      "Epoch 20, loss 0.0991\n",
      "Epoch 21, loss 0.0759\n",
      "Epoch 22, loss 0.0697\n",
      "Epoch 23, loss 0.0742\n",
      "Epoch 24, loss 0.0739\n",
      "Epoch 25, loss 0.0658\n",
      "Epoch 26, loss 0.0700\n",
      "Epoch 27, loss 0.0795\n",
      "Epoch 28, loss 0.0816\n",
      "Epoch 29, loss 0.0743\n",
      "Epoch 30, loss 0.0752\n",
      "Epoch 31, loss 0.0729\n",
      "Epoch 32, loss 0.0672\n",
      "Epoch 33, loss 0.0735\n",
      "Epoch 34, loss 0.0876\n",
      "Epoch 35, loss 0.0709\n",
      "Epoch 36, loss 0.0715\n",
      "Epoch 37, loss 0.0707\n",
      "Epoch 38, loss 0.0780\n",
      "Epoch 39, loss 0.0729\n",
      "Epoch 40, loss 0.0748\n",
      "Epoch 41, loss 0.0907\n",
      "Epoch 42, loss 0.0758\n",
      "Epoch 43, loss 0.0716\n",
      "Epoch 44, loss 0.0716\n",
      "Epoch 45, loss 0.0868\n",
      "Epoch 46, loss 0.0706\n",
      "Epoch 47, loss 0.0695\n",
      "Epoch 48, loss 0.0727\n",
      "Epoch 49, loss 0.0688\n",
      "Epoch 50, loss 0.0671\n",
      "Epoch 51, loss 0.0690\n",
      "Epoch 52, loss 0.0682\n",
      "Epoch 53, loss 0.0729\n",
      "Epoch 54, loss 0.0794\n",
      "Epoch 55, loss 0.0697\n",
      "Epoch 56, loss 0.0722\n",
      "Epoch 57, loss 0.0719\n",
      "Epoch 58, loss 0.0683\n",
      "Epoch 59, loss 0.0737\n",
      "Epoch 60, loss 0.0691\n",
      "Epoch 61, loss 0.0660\n",
      "Epoch 62, loss 0.0705\n",
      "Epoch 63, loss 0.0658\n",
      "Epoch 64, loss 0.0724\n",
      "Epoch 65, loss 0.0678\n",
      "Epoch 66, loss 0.0684\n",
      "Epoch 67, loss 0.0739\n",
      "Epoch 68, loss 0.0735\n",
      "Epoch 69, loss 0.0699\n",
      "Epoch 70, loss 0.0714\n",
      "Epoch 71, loss 0.0873\n",
      "Epoch 72, loss 0.0665\n",
      "Epoch 73, loss 0.0679\n",
      "Epoch 74, loss 0.0671\n",
      "Epoch 75, loss 0.0681\n",
      "Epoch 76, loss 0.0686\n",
      "Epoch 77, loss 0.0700\n",
      "Epoch 78, loss 0.0681\n",
      "Epoch 79, loss 0.0697\n"
     ]
    }
   ],
   "source": [
    "# Use PyTorch's DataLoader and the collate function\n",
    "# defined before.\n",
    "data_loader = DataLoader(trainset, batch_size=32, shuffle=True,\n",
    "                         collate_fn=collate)\n",
    "\n",
    "# Create model\n",
    "num_classes = 2\n",
    "model = Classifier(1, 256, num_classes)\n",
    "loss_func = nn.CrossEntropyLoss()\n",
    "optimizer = optim.Adam(model.parameters(), lr=0.001)\n",
    "model.train()\n",
    "\n",
    "epoch_losses = []\n",
    "for epoch in range(80):\n",
    "    epoch_loss = 0\n",
    "    for iter, (bg, label) in enumerate(data_loader):\n",
    "        prediction = model(bg)\n",
    "        loss = loss_func(prediction, label)\n",
    "        optimizer.zero_grad()\n",
    "        loss.backward()\n",
    "        optimizer.step()\n",
    "        epoch_loss += loss.detach().item()\n",
    "    epoch_loss /= (iter + 1)\n",
    "    print('Epoch {}, loss {:.4f}'.format(epoch, epoch_loss))\n",
    "    epoch_losses.append(epoch_loss)"
   ]
  },
  {
   "cell_type": "markdown",
   "metadata": {},
   "source": [
    "The learning curve of a run is presented below.\n",
    "\n"
   ]
  },
  {
   "cell_type": "code",
   "execution_count": 11,
   "metadata": {},
   "outputs": [
    {
     "data": {
      "image/png": "[encoded data removed]",
      "text/plain": [
       "<Figure size 432x288 with 1 Axes>"
      ]
     },
     "metadata": {
      "needs_background": "light"
     },
     "output_type": "display_data"
    }
   ],
   "source": [
    "plt.title('cross entropy averaged over minibatches')\n",
    "plt.plot(epoch_losses)\n",
    "plt.show()"
   ]
  },
  {
   "cell_type": "markdown",
   "metadata": {},
   "source": [
    "The trained model is evaluated on the test set created. To deploy\n",
    "the tutorial, restrict the running time to get a higher\n",
    "accuracy ($80$ % ~ $90$ %) than the ones printed below.\n",
    "\n"
   ]
  },
  {
   "cell_type": "code",
   "execution_count": 12,
   "metadata": {},
   "outputs": [
    {
     "name": "stdout",
     "output_type": "stream",
     "text": [
      "Accuracy of sampled predictions on the test set: 100.0000%\n",
      "Accuracy of argmax predictions on the test set: 100.000000%\n"
     ]
    },
    {
     "data": {
      "text/plain": [
       "1.0"
      ]
     },
     "execution_count": 12,
     "metadata": {},
     "output_type": "execute_result"
    }
   ],
   "source": [
    "def dgl_tester(model, testset):\n",
    "    model.eval()\n",
    "    # Convert a list of tuples to two lists\n",
    "    test_X, test_Y = map(list, zip(*testset))\n",
    "    test_bg = dgl.batch(test_X)\n",
    "    test_Y = torch.tensor(test_Y).float().view(-1, 1)\n",
    "    probs_Y = torch.softmax(model(test_bg), 1)\n",
    "    sampled_Y = torch.multinomial(probs_Y, 1)\n",
    "    argmax_Y = torch.max(probs_Y, 1)[1].view(-1, 1)\n",
    "    print('Accuracy of sampled predictions on the test set: {:.4f}%'.format(\n",
    "        (test_Y == sampled_Y.float()).sum().item() / len(test_Y) * 100))\n",
    "    argmax_score = (test_Y == argmax_Y.float()).sum().item() / len(test_Y)\n",
    "    print('Accuracy of argmax predictions on the test set: {:4f}%'.format(\n",
    "        argmax_score * 100\n",
    "    ))\n",
    "    return argmax_Y, test_Y, argmax_score\n",
    "dgl_tester(model, testset)[2]"
   ]
  },
  {
   "cell_type": "code",
   "execution_count": 17,
   "metadata": {},
   "outputs": [
    {
     "data": {
      "application/vnd.jupyter.widget-view+json": {
       "model_id": "4ac20a39a5ef453d873e5cb52526e46a",
       "version_major": 2,
       "version_minor": 0
      },
      "text/plain": [
       "0it [00:00, ?it/s]"
      ]
     },
     "metadata": {},
     "output_type": "display_data"
    },
    {
     "name": "stdout",
     "output_type": "stream",
     "text": [
      "Generated graphs with   3 nodes are at 100.0% planar in average\n",
      "Generated graphs are at 100.0% planar in average\n",
      "Accuracy of sampled predictions on the test set: 100.0000%\n",
      "Accuracy of argmax predictions on the test set: 100.000000%\n",
      "[[1000]]\n",
      "\t### SCORE OF 1.0 FOR 3 NODES ###\n",
      "\n"
     ]
    },
    {
     "data": {
      "application/vnd.jupyter.widget-view+json": {
       "model_id": "b6e3cefe242e419b9e32580b5851b409",
       "version_major": 2,
       "version_minor": 0
      },
      "text/plain": [
       "0it [00:00, ?it/s]"
      ]
     },
     "metadata": {},
     "output_type": "display_data"
    },
    {
     "name": "stdout",
     "output_type": "stream",
     "text": [
      "Generated graphs with   4 nodes are at 100.0% planar in average\n",
      "Generated graphs are at 100.0% planar in average\n",
      "Accuracy of sampled predictions on the test set: 99.9000%\n",
      "Accuracy of argmax predictions on the test set: 100.000000%\n",
      "[[1000]]\n",
      "\t### SCORE OF 1.0 FOR 4 NODES ###\n",
      "\n"
     ]
    },
    {
     "data": {
      "application/vnd.jupyter.widget-view+json": {
       "model_id": "fc4ac1627ca14b2bae95f92363af9a4d",
       "version_major": 2,
       "version_minor": 0
      },
      "text/plain": [
       "0it [00:00, ?it/s]"
      ]
     },
     "metadata": {},
     "output_type": "display_data"
    },
    {
     "name": "stdout",
     "output_type": "stream",
     "text": [
      "Generated graphs with   5 nodes are at  78.9% planar in average\n",
      "Generated graphs are at  78.9% planar in average\n",
      "Accuracy of sampled predictions on the test set: 95.7000%\n",
      "Accuracy of argmax predictions on the test set: 100.000000%\n",
      "[[211   0]\n",
      " [  0 789]]\n",
      "\t### SCORE OF 1.0 FOR 5 NODES ###\n",
      "\n"
     ]
    },
    {
     "data": {
      "application/vnd.jupyter.widget-view+json": {
       "model_id": "b2d0b87fe8a94da2a48f4dc3e8a1ce04",
       "version_major": 2,
       "version_minor": 0
      },
      "text/plain": [
       "0it [00:00, ?it/s]"
      ]
     },
     "metadata": {},
     "output_type": "display_data"
    },
    {
     "name": "stdout",
     "output_type": "stream",
     "text": [
      "Generated graphs with   6 nodes are at  66.2% planar in average\n",
      "Generated graphs are at  66.2% planar in average\n",
      "Accuracy of sampled predictions on the test set: 98.1000%\n",
      "Accuracy of argmax predictions on the test set: 100.000000%\n",
      "[[338   0]\n",
      " [  0 662]]\n",
      "\t### SCORE OF 1.0 FOR 6 NODES ###\n",
      "\n"
     ]
    },
    {
     "data": {
      "application/vnd.jupyter.widget-view+json": {
       "model_id": "7eb5fd4c8c5540b882cf4d22ea360597",
       "version_major": 2,
       "version_minor": 0
      },
      "text/plain": [
       "0it [00:00, ?it/s]"
      ]
     },
     "metadata": {},
     "output_type": "display_data"
    },
    {
     "name": "stdout",
     "output_type": "stream",
     "text": [
      "Generated graphs with   7 nodes are at  49.5% planar in average\n",
      "Generated graphs are at  49.5% planar in average\n",
      "Accuracy of sampled predictions on the test set: 83.2000%\n",
      "Accuracy of argmax predictions on the test set: 82.800000%\n",
      "[[333 172]\n",
      " [  0 495]]\n",
      "\t### SCORE OF 0.828 FOR 7 NODES ###\n",
      "\n"
     ]
    },
    {
     "data": {
      "application/vnd.jupyter.widget-view+json": {
       "model_id": "2db46739e8f049ed8ec8641cfb0d233a",
       "version_major": 2,
       "version_minor": 0
      },
      "text/plain": [
       "0it [00:00, ?it/s]"
      ]
     },
     "metadata": {},
     "output_type": "display_data"
    },
    {
     "name": "stdout",
     "output_type": "stream",
     "text": [
      "Generated graphs with   8 nodes are at  53.4% planar in average\n",
      "Generated graphs are at  53.4% planar in average\n",
      "Accuracy of sampled predictions on the test set: 97.2000%\n",
      "Accuracy of argmax predictions on the test set: 100.000000%\n",
      "[[466   0]\n",
      " [  0 534]]\n",
      "\t### SCORE OF 1.0 FOR 8 NODES ###\n",
      "\n"
     ]
    },
    {
     "data": {
      "application/vnd.jupyter.widget-view+json": {
       "model_id": "871a64ca57e04cf0bc632f7423b2a1e0",
       "version_major": 2,
       "version_minor": 0
      },
      "text/plain": [
       "0it [00:00, ?it/s]"
      ]
     },
     "metadata": {},
     "output_type": "display_data"
    },
    {
     "name": "stdout",
     "output_type": "stream",
     "text": [
      "Generated graphs with   9 nodes are at  55.4% planar in average\n",
      "Generated graphs are at  55.4% planar in average\n",
      "Accuracy of sampled predictions on the test set: 97.2000%\n",
      "Accuracy of argmax predictions on the test set: 100.000000%\n",
      "[[446   0]\n",
      " [  0 554]]\n",
      "\t### SCORE OF 1.0 FOR 9 NODES ###\n",
      "\n"
     ]
    },
    {
     "data": {
      "application/vnd.jupyter.widget-view+json": {
       "model_id": "72588a85502c4398a76d7bd76eb877c4",
       "version_major": 2,
       "version_minor": 0
      },
      "text/plain": [
       "0it [00:00, ?it/s]"
      ]
     },
     "metadata": {},
     "output_type": "display_data"
    },
    {
     "name": "stdout",
     "output_type": "stream",
     "text": [
      "Generated graphs with  10 nodes are at  49.3% planar in average\n",
      "Generated graphs are at  49.3% planar in average\n",
      "Accuracy of sampled predictions on the test set: 97.8000%\n",
      "Accuracy of argmax predictions on the test set: 98.100000%\n",
      "[[507   0]\n",
      " [ 19 474]]\n",
      "\t### SCORE OF 0.981 FOR 10 NODES ###\n",
      "\n"
     ]
    },
    {
     "data": {
      "application/vnd.jupyter.widget-view+json": {
       "model_id": "db12cee2a26d4a8a84caa69f6b51e2ad",
       "version_major": 2,
       "version_minor": 0
      },
      "text/plain": [
       "0it [00:00, ?it/s]"
      ]
     },
     "metadata": {},
     "output_type": "display_data"
    },
    {
     "name": "stdout",
     "output_type": "stream",
     "text": [
      "Generated graphs with  11 nodes are at  40.0% planar in average\n",
      "Generated graphs are at  40.0% planar in average\n",
      "Accuracy of sampled predictions on the test set: 96.8000%\n",
      "Accuracy of argmax predictions on the test set: 97.200000%\n",
      "[[572  28]\n",
      " [  0 400]]\n",
      "\t### SCORE OF 0.972 FOR 11 NODES ###\n",
      "\n"
     ]
    },
    {
     "data": {
      "application/vnd.jupyter.widget-view+json": {
       "model_id": "670228c3b014428697f54f3582c0e56e",
       "version_major": 2,
       "version_minor": 0
      },
      "text/plain": [
       "0it [00:00, ?it/s]"
      ]
     },
     "metadata": {},
     "output_type": "display_data"
    },
    {
     "name": "stdout",
     "output_type": "stream",
     "text": [
      "Generated graphs with  12 nodes are at  38.3% planar in average\n",
      "Generated graphs are at  38.3% planar in average\n",
      "Accuracy of sampled predictions on the test set: 97.1000%\n",
      "Accuracy of argmax predictions on the test set: 97.500000%\n",
      "[[592  25]\n",
      " [  0 383]]\n",
      "\t### SCORE OF 0.975 FOR 12 NODES ###\n",
      "\n"
     ]
    },
    {
     "data": {
      "application/vnd.jupyter.widget-view+json": {
       "model_id": "dd1ac994595747c5aacbecae900711fd",
       "version_major": 2,
       "version_minor": 0
      },
      "text/plain": [
       "0it [00:00, ?it/s]"
      ]
     },
     "metadata": {},
     "output_type": "display_data"
    },
    {
     "name": "stdout",
     "output_type": "stream",
     "text": [
      "Generated graphs with  13 nodes are at  39.4% planar in average\n",
      "Generated graphs are at  39.4% planar in average\n",
      "Accuracy of sampled predictions on the test set: 96.2000%\n",
      "Accuracy of argmax predictions on the test set: 96.700000%\n",
      "[[573  33]\n",
      " [  0 394]]\n",
      "\t### SCORE OF 0.967 FOR 13 NODES ###\n",
      "\n"
     ]
    },
    {
     "data": {
      "application/vnd.jupyter.widget-view+json": {
       "model_id": "a00bcc35ea78433f98b285b7df3ae1ce",
       "version_major": 2,
       "version_minor": 0
      },
      "text/plain": [
       "0it [00:00, ?it/s]"
      ]
     },
     "metadata": {},
     "output_type": "display_data"
    },
    {
     "name": "stdout",
     "output_type": "stream",
     "text": [
      "Generated graphs with  14 nodes are at  29.9% planar in average\n",
      "Generated graphs are at  29.9% planar in average\n",
      "Accuracy of sampled predictions on the test set: 89.1000%\n",
      "Accuracy of argmax predictions on the test set: 88.700000%\n",
      "[[588 113]\n",
      " [  0 299]]\n",
      "\t### SCORE OF 0.887 FOR 14 NODES ###\n",
      "\n"
     ]
    },
    {
     "data": {
      "application/vnd.jupyter.widget-view+json": {
       "model_id": "305ec8e26e774bc2b704f3cf6c285a7f",
       "version_major": 2,
       "version_minor": 0
      },
      "text/plain": [
       "0it [00:00, ?it/s]"
      ]
     },
     "metadata": {},
     "output_type": "display_data"
    },
    {
     "name": "stdout",
     "output_type": "stream",
     "text": [
      "Generated graphs with  15 nodes are at  35.1% planar in average\n",
      "Generated graphs are at  35.1% planar in average\n",
      "Accuracy of sampled predictions on the test set: 94.2000%\n",
      "Accuracy of argmax predictions on the test set: 98.400000%\n",
      "[[633  16]\n",
      " [  0 351]]\n",
      "\t### SCORE OF 0.984 FOR 15 NODES ###\n",
      "\n"
     ]
    },
    {
     "data": {
      "application/vnd.jupyter.widget-view+json": {
       "model_id": "0cacf1bd62b34b20a6ccb10fa64c691e",
       "version_major": 2,
       "version_minor": 0
      },
      "text/plain": [
       "0it [00:00, ?it/s]"
      ]
     },
     "metadata": {},
     "output_type": "display_data"
    },
    {
     "name": "stdout",
     "output_type": "stream",
     "text": [
      "Generated graphs with  16 nodes are at  23.5% planar in average\n",
      "Generated graphs are at  23.5% planar in average\n",
      "Accuracy of sampled predictions on the test set: 86.5000%\n",
      "Accuracy of argmax predictions on the test set: 89.100000%\n",
      "[[656 109]\n",
      " [  0 235]]\n",
      "\t### SCORE OF 0.891 FOR 16 NODES ###\n",
      "\n"
     ]
    },
    {
     "data": {
      "application/vnd.jupyter.widget-view+json": {
       "model_id": "7fc98be1144345609609a789c349a4ff",
       "version_major": 2,
       "version_minor": 0
      },
      "text/plain": [
       "0it [00:00, ?it/s]"
      ]
     },
     "metadata": {},
     "output_type": "display_data"
    },
    {
     "name": "stdout",
     "output_type": "stream",
     "text": [
      "Generated graphs with  17 nodes are at  20.3% planar in average\n",
      "Generated graphs are at  20.3% planar in average\n",
      "Accuracy of sampled predictions on the test set: 96.3000%\n",
      "Accuracy of argmax predictions on the test set: 97.000000%\n",
      "[[767  30]\n",
      " [  0 203]]\n",
      "\t### SCORE OF 0.97 FOR 17 NODES ###\n",
      "\n"
     ]
    },
    {
     "data": {
      "application/vnd.jupyter.widget-view+json": {
       "model_id": "88d667cd5d1d4ebe882affa6d26e21e3",
       "version_major": 2,
       "version_minor": 0
      },
      "text/plain": [
       "0it [00:00, ?it/s]"
      ]
     },
     "metadata": {},
     "output_type": "display_data"
    },
    {
     "name": "stdout",
     "output_type": "stream",
     "text": [
      "Generated graphs with  18 nodes are at  21.4% planar in average\n",
      "Generated graphs are at  21.4% planar in average\n",
      "Accuracy of sampled predictions on the test set: 97.3000%\n",
      "Accuracy of argmax predictions on the test set: 97.900000%\n",
      "[[765  21]\n",
      " [  0 214]]\n",
      "\t### SCORE OF 0.979 FOR 18 NODES ###\n",
      "\n"
     ]
    },
    {
     "data": {
      "application/vnd.jupyter.widget-view+json": {
       "model_id": "1c940e49599e467f828c61dee8b1adc2",
       "version_major": 2,
       "version_minor": 0
      },
      "text/plain": [
       "0it [00:00, ?it/s]"
      ]
     },
     "metadata": {},
     "output_type": "display_data"
    },
    {
     "name": "stdout",
     "output_type": "stream",
     "text": [
      "Generated graphs with  19 nodes are at  19.8% planar in average\n",
      "Generated graphs are at  19.8% planar in average\n",
      "Accuracy of sampled predictions on the test set: 97.5000%\n",
      "Accuracy of argmax predictions on the test set: 96.900000%\n",
      "[[771  31]\n",
      " [  0 198]]\n",
      "\t### SCORE OF 0.969 FOR 19 NODES ###\n",
      "\n"
     ]
    },
    {
     "data": {
      "application/vnd.jupyter.widget-view+json": {
       "model_id": "5f6b167c83424348b63f78b686da34aa",
       "version_major": 2,
       "version_minor": 0
      },
      "text/plain": [
       "0it [00:00, ?it/s]"
      ]
     },
     "metadata": {},
     "output_type": "display_data"
    },
    {
     "name": "stdout",
     "output_type": "stream",
     "text": [
      "Generated graphs with  20 nodes are at  18.3% planar in average\n",
      "Generated graphs are at  18.3% planar in average\n",
      "Accuracy of sampled predictions on the test set: 99.3000%\n",
      "Accuracy of argmax predictions on the test set: 100.000000%\n",
      "[[817   0]\n",
      " [  0 183]]\n",
      "\t### SCORE OF 1.0 FOR 20 NODES ###\n",
      "\n"
     ]
    },
    {
     "data": {
      "application/vnd.jupyter.widget-view+json": {
       "model_id": "52f8b7ee1ecf482d917e884a3984ab83",
       "version_major": 2,
       "version_minor": 0
      },
      "text/plain": [
       "0it [00:00, ?it/s]"
      ]
     },
     "metadata": {},
     "output_type": "display_data"
    },
    {
     "name": "stdout",
     "output_type": "stream",
     "text": [
      "Generated graphs with  21 nodes are at  15.1% planar in average\n",
      "Generated graphs are at  15.1% planar in average\n",
      "Accuracy of sampled predictions on the test set: 94.1000%\n",
      "Accuracy of argmax predictions on the test set: 93.400000%\n",
      "[[783  66]\n",
      " [  0 151]]\n",
      "\t### SCORE OF 0.934 FOR 21 NODES ###\n",
      "\n"
     ]
    },
    {
     "data": {
      "application/vnd.jupyter.widget-view+json": {
       "model_id": "4cda8db1753f4fce9c5181efc4641077",
       "version_major": 2,
       "version_minor": 0
      },
      "text/plain": [
       "0it [00:00, ?it/s]"
      ]
     },
     "metadata": {},
     "output_type": "display_data"
    },
    {
     "name": "stdout",
     "output_type": "stream",
     "text": [
      "Generated graphs with  22 nodes are at  11.6% planar in average\n",
      "Generated graphs are at  11.6% planar in average\n",
      "Accuracy of sampled predictions on the test set: 94.5000%\n",
      "Accuracy of argmax predictions on the test set: 94.200000%\n",
      "[[826  58]\n",
      " [  0 116]]\n",
      "\t### SCORE OF 0.942 FOR 22 NODES ###\n",
      "\n"
     ]
    },
    {
     "data": {
      "application/vnd.jupyter.widget-view+json": {
       "model_id": "3d3a42a3fd0744d2b068d602cc84e738",
       "version_major": 2,
       "version_minor": 0
      },
      "text/plain": [
       "0it [00:00, ?it/s]"
      ]
     },
     "metadata": {},
     "output_type": "display_data"
    },
    {
     "name": "stdout",
     "output_type": "stream",
     "text": [
      "Generated graphs with  23 nodes are at   9.4% planar in average\n",
      "Generated graphs are at   9.4% planar in average\n",
      "Accuracy of sampled predictions on the test set: 95.0000%\n",
      "Accuracy of argmax predictions on the test set: 94.500000%\n",
      "[[851  55]\n",
      " [  0  94]]\n",
      "\t### SCORE OF 0.945 FOR 23 NODES ###\n",
      "\n"
     ]
    },
    {
     "data": {
      "application/vnd.jupyter.widget-view+json": {
       "model_id": "4f46a0a1c7924f35acf2200e6a7a1042",
       "version_major": 2,
       "version_minor": 0
      },
      "text/plain": [
       "0it [00:00, ?it/s]"
      ]
     },
     "metadata": {},
     "output_type": "display_data"
    },
    {
     "name": "stdout",
     "output_type": "stream",
     "text": [
      "Generated graphs with  24 nodes are at  10.7% planar in average\n",
      "Generated graphs are at  10.7% planar in average\n",
      "Accuracy of sampled predictions on the test set: 94.3000%\n",
      "Accuracy of argmax predictions on the test set: 93.500000%\n",
      "[[828  65]\n",
      " [  0 107]]\n",
      "\t### SCORE OF 0.935 FOR 24 NODES ###\n",
      "\n"
     ]
    },
    {
     "data": {
      "application/vnd.jupyter.widget-view+json": {
       "model_id": "2d041389a0d94505aa2dea4a5b7e700a",
       "version_major": 2,
       "version_minor": 0
      },
      "text/plain": [
       "0it [00:00, ?it/s]"
      ]
     },
     "metadata": {},
     "output_type": "display_data"
    },
    {
     "name": "stdout",
     "output_type": "stream",
     "text": [
      "Generated graphs with  25 nodes are at   7.4% planar in average\n",
      "Generated graphs are at   7.4% planar in average\n",
      "Accuracy of sampled predictions on the test set: 92.5000%\n",
      "Accuracy of argmax predictions on the test set: 92.200000%\n",
      "[[848  78]\n",
      " [  0  74]]\n",
      "\t### SCORE OF 0.922 FOR 25 NODES ###\n",
      "\n"
     ]
    },
    {
     "data": {
      "application/vnd.jupyter.widget-view+json": {
       "model_id": "86a6121ac06a4ec5a301999d352e33d1",
       "version_major": 2,
       "version_minor": 0
      },
      "text/plain": [
       "0it [00:00, ?it/s]"
      ]
     },
     "metadata": {},
     "output_type": "display_data"
    },
    {
     "name": "stdout",
     "output_type": "stream",
     "text": [
      "Generated graphs with  26 nodes are at   9.5% planar in average\n",
      "Generated graphs are at   9.5% planar in average\n",
      "Accuracy of sampled predictions on the test set: 94.7000%\n",
      "Accuracy of argmax predictions on the test set: 94.500000%\n",
      "[[850  55]\n",
      " [  0  95]]\n",
      "\t### SCORE OF 0.945 FOR 26 NODES ###\n",
      "\n"
     ]
    },
    {
     "data": {
      "application/vnd.jupyter.widget-view+json": {
       "model_id": "7d995994f9f44d088336ce3577d1167a",
       "version_major": 2,
       "version_minor": 0
      },
      "text/plain": [
       "0it [00:00, ?it/s]"
      ]
     },
     "metadata": {},
     "output_type": "display_data"
    },
    {
     "name": "stdout",
     "output_type": "stream",
     "text": [
      "Generated graphs with  27 nodes are at   6.6% planar in average\n",
      "Generated graphs are at   6.6% planar in average\n",
      "Accuracy of sampled predictions on the test set: 93.1000%\n",
      "Accuracy of argmax predictions on the test set: 92.000000%\n",
      "[[854  80]\n",
      " [  0  66]]\n",
      "\t### SCORE OF 0.92 FOR 27 NODES ###\n",
      "\n"
     ]
    },
    {
     "data": {
      "application/vnd.jupyter.widget-view+json": {
       "model_id": "349887e8311041f881fce3666b8efe27",
       "version_major": 2,
       "version_minor": 0
      },
      "text/plain": [
       "0it [00:00, ?it/s]"
      ]
     },
     "metadata": {},
     "output_type": "display_data"
    },
    {
     "name": "stdout",
     "output_type": "stream",
     "text": [
      "Generated graphs with  28 nodes are at   7.8% planar in average\n",
      "Generated graphs are at   7.8% planar in average\n",
      "Accuracy of sampled predictions on the test set: 96.0000%\n",
      "Accuracy of argmax predictions on the test set: 95.500000%\n",
      "[[877  45]\n",
      " [  0  78]]\n",
      "\t### SCORE OF 0.955 FOR 28 NODES ###\n",
      "\n"
     ]
    },
    {
     "data": {
      "application/vnd.jupyter.widget-view+json": {
       "model_id": "5d2b6be18d954ba98b33f6b2f4a40084",
       "version_major": 2,
       "version_minor": 0
      },
      "text/plain": [
       "0it [00:00, ?it/s]"
      ]
     },
     "metadata": {},
     "output_type": "display_data"
    },
    {
     "name": "stdout",
     "output_type": "stream",
     "text": [
      "Generated graphs with  29 nodes are at   6.6% planar in average\n",
      "Generated graphs are at   6.6% planar in average\n",
      "Accuracy of sampled predictions on the test set: 94.2000%\n",
      "Accuracy of argmax predictions on the test set: 94.700000%\n",
      "[[881  53]\n",
      " [  0  66]]\n",
      "\t### SCORE OF 0.947 FOR 29 NODES ###\n",
      "\n"
     ]
    },
    {
     "data": {
      "application/vnd.jupyter.widget-view+json": {
       "model_id": "3f79f5c10b794cf2a523b0d724ab4315",
       "version_major": 2,
       "version_minor": 0
      },
      "text/plain": [
       "0it [00:00, ?it/s]"
      ]
     },
     "metadata": {},
     "output_type": "display_data"
    },
    {
     "name": "stdout",
     "output_type": "stream",
     "text": [
      "Generated graphs with  30 nodes are at   5.3% planar in average\n",
      "Generated graphs are at   5.3% planar in average\n",
      "Accuracy of sampled predictions on the test set: 95.2000%\n",
      "Accuracy of argmax predictions on the test set: 95.700000%\n",
      "[[904  43]\n",
      " [  0  53]]\n",
      "\t### SCORE OF 0.957 FOR 30 NODES ###\n",
      "\n"
     ]
    }
   ],
   "source": [
    "from sklearn.metrics import confusion_matrix\n",
    "\n",
    "scores = []\n",
    "ns = range(3, 31)\n",
    "for n in ns:\n",
    "    graphs, targets = generate_graphs_dgl([n], [1000], generator='binomial', verbose=True)\n",
    "    y_pred, y_true, score = dgl_tester(model, zip(graphs, targets))\n",
    "    print(confusion_matrix(y_true, y_pred))\n",
    "    print(f\"\\t### SCORE OF {score} FOR {n} NODES ###\\n\")\n",
    "    scores.append(score)"
   ]
  },
  {
   "cell_type": "code",
   "execution_count": null,
   "metadata": {},
   "outputs": [],
   "source": [
    "plt.plot(ns, scores)\n",
    "plt.ylabel('Accuracy')\n",
    "plt.xlabel('Number of nodes')"
   ]
  },
  {
   "cell_type": "markdown",
   "metadata": {},
   "source": [
    "The animation here plots the probability that a trained model predicts the correct graph type.\n",
    "\n",
    "![](https://data.dgl.ai/tutorial/batch/test_eval4.gif)\n",
    "\n",
    "\n",
    "To understand the node and graph representations that a trained model learned,\n",
    "we use `t-SNE, <https://lvdmaaten.github.io/tsne/>`_ for dimensionality reduction\n",
    "and visualization.\n",
    "\n",
    "![](https://data.dgl.ai/tutorial/batch/tsne_node2.png)\n",
    "\n",
    "    :align: center\n",
    "\n",
    "![](https://data.dgl.ai/tutorial/batch/tsne_graph2.png)\n",
    "\n",
    "    :align: center\n",
    "\n",
    "The two small figures on the top separately visualize node representations after one and two\n",
    "layers of graph convolution. The figure on the bottom visualizes\n",
    "the pre-softmax logits for graphs as graph representations.\n",
    "\n",
    "While the visualization does suggest some clustering effects of the node features,\n",
    "you would not expect a perfect result. Node degrees are deterministic for\n",
    "these node features. The graph features are improved when separated.\n",
    "\n",
    "What's next?\n",
    "------------\n",
    "Graph classification with graph neural networks is still a new field.\n",
    "It's waiting for people to bring more exciting discoveries. The work requires \n",
    "mapping different graphs to different embeddings, while preserving\n",
    "their structural similarity in the embedding space. To learn more about it, see \n",
    "`How Powerful Are Graph Neural Networks? <https://arxiv.org/abs/1810.00826>`_ a research paper  \n",
    "published for the International Conference on Learning Representations 2019.\n",
    "\n",
    "For more examples about batched graph processing, see the following:\n",
    "\n",
    "* Tutorials for `Tree LSTM <https://docs.dgl.ai/tutorials/models/2_small_graph/3_tree-lstm.html>`_ and `Deep Generative Models of Graphs <https://docs.dgl.ai/tutorials/models/3_generative_model/5_dgmg.html>`_\n",
    "* An example implementation of `Junction Tree VAE <https://github.com/dmlc/dgl/tree/master/examples/pytorch/jtnn>`_\n",
    "\n"
   ]
  },
  {
   "cell_type": "code",
   "execution_count": 18,
   "metadata": {},
   "outputs": [
    {
     "name": "stdout",
     "output_type": "stream",
     "text": [
      "\n",
      "\t\u001b[1m# 1. Generate train and test datasets\u001b[0m\n",
      "\n"
     ]
    },
    {
     "data": {
      "application/vnd.jupyter.widget-view+json": {
       "model_id": "beb8ca3eeb254b6a8f34116b5895b26c",
       "version_major": 2,
       "version_minor": 0
      },
      "text/plain": [
       "0it [00:00, ?it/s]"
      ]
     },
     "metadata": {},
     "output_type": "display_data"
    },
    {
     "name": "stdout",
     "output_type": "stream",
     "text": [
      "Generated graphs with   3 nodes are at 100.0% planar in average\n",
      "Generated graphs with   4 nodes are at 100.0% planar in average\n",
      "Generated graphs with   5 nodes are at  72.0% planar in average\n",
      "Generated graphs with   6 nodes are at  64.0% planar in average\n",
      "Generated graphs with   7 nodes are at  50.0% planar in average\n",
      "Generated graphs with   8 nodes are at  64.0% planar in average\n",
      "Generated graphs with   9 nodes are at  53.5% planar in average\n",
      "Generated graphs with  10 nodes are at  46.5% planar in average\n",
      "Generated graphs are at  61.4% planar in average\n",
      "\n",
      "\t\u001b[1m# 2. Train model\u001b[0m\n",
      "\n",
      "Epoch 0, loss 0.6538\n",
      "Epoch 1, loss 0.5023\n",
      "Epoch 2, loss 0.2324\n",
      "Epoch 3, loss 0.1219\n",
      "Epoch 4, loss 0.1048\n",
      "Epoch 5, loss 0.0819\n",
      "Epoch 6, loss 0.0746\n",
      "Epoch 7, loss 0.0693\n",
      "Epoch 8, loss 0.0782\n",
      "Epoch 9, loss 0.0715\n",
      "Epoch 10, loss 0.0872\n",
      "Epoch 11, loss 0.0674\n",
      "Epoch 12, loss 0.0658\n",
      "Epoch 13, loss 0.0757\n",
      "Epoch 14, loss 0.0873\n",
      "Epoch 15, loss 0.0630\n",
      "Epoch 16, loss 0.0678\n",
      "Epoch 17, loss 0.0717\n",
      "Epoch 18, loss 0.0762\n",
      "Epoch 19, loss 0.0798\n",
      "Epoch 20, loss 0.0860\n",
      "Epoch 21, loss 0.0812\n",
      "Epoch 22, loss 0.0886\n",
      "Epoch 23, loss 0.0701\n",
      "Epoch 24, loss 0.0648\n",
      "Epoch 25, loss 0.0648\n",
      "Epoch 26, loss 0.0668\n",
      "Epoch 27, loss 0.0648\n",
      "Epoch 28, loss 0.0707\n",
      "Epoch 29, loss 0.0742\n",
      "Epoch 30, loss 0.0662\n",
      "Epoch 31, loss 0.0720\n",
      "Epoch 32, loss 0.0676\n",
      "Epoch 33, loss 0.0633\n",
      "Epoch 34, loss 0.0657\n",
      "Epoch 35, loss 0.0712\n",
      "Epoch 36, loss 0.0883\n",
      "Epoch 37, loss 0.0811\n",
      "Epoch 38, loss 0.0728\n",
      "Epoch 39, loss 0.0632\n",
      "Epoch 40, loss 0.0728\n",
      "Epoch 41, loss 0.0692\n",
      "Epoch 42, loss 0.0659\n",
      "Epoch 43, loss 0.0709\n",
      "Epoch 44, loss 0.0666\n",
      "Epoch 45, loss 0.0665\n",
      "Epoch 46, loss 0.0636\n",
      "Epoch 47, loss 0.0638\n",
      "Epoch 48, loss 0.0652\n",
      "Epoch 49, loss 0.0796\n",
      "Epoch 50, loss 0.0694\n",
      "Epoch 51, loss 0.0658\n",
      "Epoch 52, loss 0.0732\n",
      "Epoch 53, loss 0.0732\n",
      "Epoch 54, loss 0.0690\n",
      "Epoch 55, loss 0.0737\n",
      "Epoch 56, loss 0.0909\n",
      "Epoch 57, loss 0.0639\n",
      "Epoch 58, loss 0.0753\n",
      "Epoch 59, loss 0.0641\n",
      "Epoch 60, loss 0.0653\n",
      "Epoch 61, loss 0.0662\n",
      "Epoch 62, loss 0.0683\n",
      "Epoch 63, loss 0.0719\n",
      "Epoch 64, loss 0.0653\n",
      "Epoch 65, loss 0.0656\n",
      "Epoch 66, loss 0.0644\n",
      "Epoch 67, loss 0.0655\n",
      "Epoch 68, loss 0.0637\n",
      "Epoch 69, loss 0.0742\n",
      "Epoch 70, loss 0.0706\n",
      "Epoch 71, loss 0.0683\n",
      "Epoch 72, loss 0.0741\n",
      "Epoch 73, loss 0.0614\n",
      "Epoch 74, loss 0.0673\n",
      "Epoch 75, loss 0.0748\n",
      "Epoch 76, loss 0.0631\n",
      "Epoch 77, loss 0.0636\n",
      "Epoch 78, loss 0.0799\n",
      "Epoch 79, loss 0.0632\n",
      "Epoch 80, loss 0.0670\n",
      "Epoch 81, loss 0.0609\n",
      "Epoch 82, loss 0.0649\n",
      "Epoch 83, loss 0.0682\n",
      "Epoch 84, loss 0.0635\n",
      "Epoch 85, loss 0.0696\n",
      "Epoch 86, loss 0.0705\n",
      "Epoch 87, loss 0.0714\n",
      "Epoch 88, loss 0.0640\n",
      "Epoch 89, loss 0.0718\n",
      "Epoch 90, loss 0.0655\n",
      "Epoch 91, loss 0.0670\n",
      "Epoch 92, loss 0.0640\n",
      "Epoch 93, loss 0.0654\n",
      "Epoch 94, loss 0.0686\n",
      "Epoch 95, loss 0.0680\n",
      "Epoch 96, loss 0.0678\n",
      "Epoch 97, loss 0.0933\n",
      "Epoch 98, loss 0.0667\n",
      "Epoch 99, loss 0.0660\n"
     ]
    },
    {
     "data": {
      "image/png": "[encoded data removed]",
      "text/plain": [
       "<Figure size 432x288 with 1 Axes>"
      ]
     },
     "metadata": {
      "needs_background": "light"
     },
     "output_type": "display_data"
    },
    {
     "name": "stdout",
     "output_type": "stream",
     "text": [
      "Classifier(\n",
      "  (conv1): GraphConv(in=1, out=256, normalization=both, activation=None)\n",
      "  (conv2): GraphConv(in=256, out=256, normalization=both, activation=None)\n",
      "  (classify): Linear(in_features=256, out_features=2, bias=True)\n",
      ")\n",
      "\n",
      "\t\u001b[1m# 3. Smoke-test model\u001b[0m\n",
      "\n",
      "Accuracy of sampled predictions on the test set: 95.9000%\n",
      "Accuracy of argmax predictions on the test set: 97.200000%\n",
      "[[368  18]\n",
      " [ 10 604]]\n",
      "              precision    recall  f1-score   support\n",
      "\n",
      "  Non-planar       0.97      0.95      0.96       386\n",
      "      Planar       0.97      0.98      0.98       614\n",
      "\n",
      "    accuracy                           0.97      1000\n",
      "   macro avg       0.97      0.97      0.97      1000\n",
      "weighted avg       0.97      0.97      0.97      1000\n",
      "\n",
      "\n",
      "\t### Score: 97.20% (precision for planar: 0.971 & non-planar: 0.974)\n",
      "\n",
      "\t\u001b[1m# 4. Investigate generalisation capabilities\u001b[0m\n",
      "\n",
      "\n",
      "\t#   a. 10 graphs of 18 nodes\n",
      "\n",
      "Accuracy of sampled predictions on the test set: 100.0000%\n",
      "Accuracy of argmax predictions on the test set: 100.000000%\n",
      "[[8 0]\n",
      " [0 2]]\n",
      "              precision    recall  f1-score   support\n",
      "\n",
      "  Non-planar       1.00      1.00      1.00         8\n",
      "      Planar       1.00      1.00      1.00         2\n",
      "\n",
      "    accuracy                           1.00        10\n",
      "   macro avg       1.00      1.00      1.00        10\n",
      "weighted avg       1.00      1.00      1.00        10\n",
      "\n",
      "\n",
      "\t### Score: 100.00% (precision for planar: 1.000 & non-planar: 1.000)\n",
      "\n",
      "\t#   b. Ramping up number of nodes\n",
      "\n",
      "\n",
      "\t### 3 NODES ###\n",
      "Accuracy of sampled predictions on the test set: 100.0000%\n",
      "Accuracy of argmax predictions on the test set: 100.000000%\n",
      "Warning: only one class.\n",
      "\n",
      "\t### 4 NODES ###\n",
      "Accuracy of sampled predictions on the test set: 99.7000%\n",
      "Accuracy of argmax predictions on the test set: 100.000000%\n",
      "Warning: only one class.\n",
      "\n",
      "\t### 5 NODES ###\n",
      "Accuracy of sampled predictions on the test set: 93.5000%\n",
      "Accuracy of argmax predictions on the test set: 100.000000%\n",
      "[[218   0]\n",
      " [  0 782]]\n",
      "              precision    recall  f1-score   support\n",
      "\n",
      "  Non-planar       1.00      1.00      1.00       218\n",
      "      Planar       1.00      1.00      1.00       782\n",
      "\n",
      "    accuracy                           1.00      1000\n",
      "   macro avg       1.00      1.00      1.00      1000\n",
      "weighted avg       1.00      1.00      1.00      1000\n",
      "\n",
      "\n",
      "\t### Score: 100.00% (precision for planar: 1.000 & non-planar: 1.000)\n",
      "\n",
      "\t### 6 NODES ###\n",
      "Accuracy of sampled predictions on the test set: 97.3000%\n",
      "Accuracy of argmax predictions on the test set: 99.600000%\n",
      "[[319   4]\n",
      " [  0 677]]\n",
      "              precision    recall  f1-score   support\n",
      "\n",
      "  Non-planar       1.00      0.99      0.99       323\n",
      "      Planar       0.99      1.00      1.00       677\n",
      "\n",
      "    accuracy                           1.00      1000\n",
      "   macro avg       1.00      0.99      1.00      1000\n",
      "weighted avg       1.00      1.00      1.00      1000\n",
      "\n",
      "\n",
      "\t### Score: 99.60% (precision for planar: 0.994 & non-planar: 1.000)\n",
      "\n",
      "\t### 7 NODES ###\n",
      "Accuracy of sampled predictions on the test set: 86.0000%\n",
      "Accuracy of argmax predictions on the test set: 83.300000%\n",
      "[[327   0]\n",
      " [167 506]]\n",
      "              precision    recall  f1-score   support\n",
      "\n",
      "  Non-planar       0.66      1.00      0.80       327\n",
      "      Planar       1.00      0.75      0.86       673\n",
      "\n",
      "    accuracy                           0.83      1000\n",
      "   macro avg       0.83      0.88      0.83      1000\n",
      "weighted avg       0.89      0.83      0.84      1000\n",
      "\n",
      "\n",
      "\t### Score: 83.30% (precision for planar: 1.000 & non-planar: 0.662)\n",
      "\n",
      "\t### 8 NODES ###\n",
      "Accuracy of sampled predictions on the test set: 98.1000%\n",
      "Accuracy of argmax predictions on the test set: 100.000000%\n",
      "[[445   0]\n",
      " [  0 555]]\n",
      "              precision    recall  f1-score   support\n",
      "\n",
      "  Non-planar       1.00      1.00      1.00       445\n",
      "      Planar       1.00      1.00      1.00       555\n",
      "\n",
      "    accuracy                           1.00      1000\n",
      "   macro avg       1.00      1.00      1.00      1000\n",
      "weighted avg       1.00      1.00      1.00      1000\n",
      "\n",
      "\n",
      "\t### Score: 100.00% (precision for planar: 1.000 & non-planar: 1.000)\n",
      "\n",
      "\t### 9 NODES ###\n",
      "Accuracy of sampled predictions on the test set: 95.7000%\n",
      "Accuracy of argmax predictions on the test set: 95.400000%\n",
      "[[454  46]\n",
      " [  0 500]]\n",
      "              precision    recall  f1-score   support\n",
      "\n",
      "  Non-planar       1.00      0.91      0.95       500\n",
      "      Planar       0.92      1.00      0.96       500\n",
      "\n",
      "    accuracy                           0.95      1000\n",
      "   macro avg       0.96      0.95      0.95      1000\n",
      "weighted avg       0.96      0.95      0.95      1000\n",
      "\n",
      "\n",
      "\t### Score: 95.40% (precision for planar: 0.916 & non-planar: 1.000)\n",
      "\n",
      "\t### 10 NODES ###\n",
      "Accuracy of sampled predictions on the test set: 97.7000%\n",
      "Accuracy of argmax predictions on the test set: 98.400000%\n",
      "[[537  16]\n",
      " [  0 447]]\n",
      "              precision    recall  f1-score   support\n",
      "\n",
      "  Non-planar       1.00      0.97      0.99       553\n",
      "      Planar       0.97      1.00      0.98       447\n",
      "\n",
      "    accuracy                           0.98      1000\n",
      "   macro avg       0.98      0.99      0.98      1000\n",
      "weighted avg       0.98      0.98      0.98      1000\n",
      "\n",
      "\n",
      "\t### Score: 98.40% (precision for planar: 0.965 & non-planar: 1.000)\n",
      "\n",
      "\t### 11 NODES ###\n",
      "Accuracy of sampled predictions on the test set: 97.6000%\n",
      "Accuracy of argmax predictions on the test set: 99.000000%\n",
      "[[560   0]\n",
      " [ 10 430]]\n",
      "              precision    recall  f1-score   support\n",
      "\n",
      "  Non-planar       0.98      1.00      0.99       560\n",
      "      Planar       1.00      0.98      0.99       440\n",
      "\n",
      "    accuracy                           0.99      1000\n",
      "   macro avg       0.99      0.99      0.99      1000\n",
      "weighted avg       0.99      0.99      0.99      1000\n",
      "\n",
      "\n",
      "\t### Score: 99.00% (precision for planar: 1.000 & non-planar: 0.982)\n",
      "\n",
      "\t### 12 NODES ###\n",
      "Accuracy of sampled predictions on the test set: 96.8000%\n",
      "Accuracy of argmax predictions on the test set: 96.900000%\n",
      "[[565   0]\n",
      " [ 31 404]]\n",
      "              precision    recall  f1-score   support\n",
      "\n",
      "  Non-planar       0.95      1.00      0.97       565\n",
      "      Planar       1.00      0.93      0.96       435\n",
      "\n",
      "    accuracy                           0.97      1000\n",
      "   macro avg       0.97      0.96      0.97      1000\n",
      "weighted avg       0.97      0.97      0.97      1000\n",
      "\n",
      "\n",
      "\t### Score: 96.90% (precision for planar: 1.000 & non-planar: 0.948)\n",
      "\n",
      "\t### 13 NODES ###\n",
      "Accuracy of sampled predictions on the test set: 96.2000%\n",
      "Accuracy of argmax predictions on the test set: 97.700000%\n",
      "[[595   0]\n",
      " [ 23 382]]\n",
      "              precision    recall  f1-score   support\n",
      "\n",
      "  Non-planar       0.96      1.00      0.98       595\n",
      "      Planar       1.00      0.94      0.97       405\n",
      "\n",
      "    accuracy                           0.98      1000\n",
      "   macro avg       0.98      0.97      0.98      1000\n",
      "weighted avg       0.98      0.98      0.98      1000\n",
      "\n",
      "\n",
      "\t### Score: 97.70% (precision for planar: 1.000 & non-planar: 0.963)\n",
      "\n",
      "\t### 14 NODES ###\n",
      "Accuracy of sampled predictions on the test set: 90.5000%\n",
      "Accuracy of argmax predictions on the test set: 91.200000%\n",
      "[[599   0]\n",
      " [ 88 313]]\n",
      "              precision    recall  f1-score   support\n",
      "\n",
      "  Non-planar       0.87      1.00      0.93       599\n",
      "      Planar       1.00      0.78      0.88       401\n",
      "\n",
      "    accuracy                           0.91      1000\n",
      "   macro avg       0.94      0.89      0.90      1000\n",
      "weighted avg       0.92      0.91      0.91      1000\n",
      "\n",
      "\n",
      "\t### Score: 91.20% (precision for planar: 1.000 & non-planar: 0.872)\n",
      "\n",
      "\t### 15 NODES ###\n",
      "Accuracy of sampled predictions on the test set: 95.9000%\n",
      "Accuracy of argmax predictions on the test set: 97.900000%\n",
      "[[668   0]\n",
      " [ 21 311]]\n",
      "              precision    recall  f1-score   support\n",
      "\n",
      "  Non-planar       0.97      1.00      0.98       668\n",
      "      Planar       1.00      0.94      0.97       332\n",
      "\n",
      "    accuracy                           0.98      1000\n",
      "   macro avg       0.98      0.97      0.98      1000\n",
      "weighted avg       0.98      0.98      0.98      1000\n",
      "\n",
      "\n",
      "\t### Score: 97.90% (precision for planar: 1.000 & non-planar: 0.970)\n"
     ]
    },
    {
     "data": {
      "image/png": "[encoded data removed]",
      "text/plain": [
       "<Figure size 432x288 with 1 Axes>"
      ]
     },
     "metadata": {
      "needs_background": "light"
     },
     "output_type": "display_data"
    },
    {
     "data": {
      "text/plain": [
       "[(1.0, 1, 1),\n",
       " (1.0, 1, 1),\n",
       " (1.0, 1.0, 1.0),\n",
       " (0.996, 1.0, 0.9941262848751835),\n",
       " (0.833, 0.6619433198380567, 1.0),\n",
       " (1.0, 1.0, 1.0),\n",
       " (0.954, 1.0, 0.9157509157509157),\n",
       " (0.984, 1.0, 0.9654427645788337),\n",
       " (0.99, 0.9824561403508771, 1.0),\n",
       " (0.969, 0.947986577181208, 1.0),\n",
       " (0.977, 0.9627831715210357, 1.0),\n",
       " (0.912, 0.8719068413391557, 1.0),\n",
       " (0.979, 0.969521044992743, 1.0)]"
      ]
     },
     "execution_count": 18,
     "metadata": {},
     "output_type": "execute_result"
    }
   ],
   "source": [
    "from qplanarity import test_suite_dgl\n",
    "\n",
    "train_ns = range(3, 11)\n",
    "train_nbs = 2 * [50] + 3 * [100] + 3 * [200]\n",
    "generator = 'binomial'\n",
    "\n",
    "test_suite_dgl(train_ns, train_nbs, generator, seed=21)"
   ]
  },
  {
   "cell_type": "code",
   "execution_count": null,
   "metadata": {},
   "outputs": [],
   "source": []
  }
 ],
 "metadata": {
  "kernelspec": {
   "display_name": "Python 3",
   "language": "python",
   "name": "python3"
  },
  "language_info": {
   "codemirror_mode": {
    "name": "ipython",
    "version": 3
   },
   "file_extension": ".py",
   "mimetype": "text/x-python",
   "name": "python",
   "nbconvert_exporter": "python",
   "pygments_lexer": "ipython3",
   "version": "3.8.3"
  }
 },
 "nbformat": 4,
 "nbformat_minor": 1
}
